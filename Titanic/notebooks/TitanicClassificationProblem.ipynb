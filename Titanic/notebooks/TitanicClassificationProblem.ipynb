{
 "cells": [
  {
   "cell_type": "markdown",
   "metadata": {},
   "source": [
    "# Titanic: Machine Learning from Disaster"
   ]
  },
  {
   "cell_type": "markdown",
   "metadata": {},
   "source": [
    "## Introduction"
   ]
  },
  {
   "cell_type": "markdown",
   "metadata": {},
   "source": [
    "**Description:** The Titanic disaster was one of the biggest disaster in the ship travel history. From kaggle competition (https://www.kaggle.com/c/titanic) we have a lot of information about people in the ship deck. My aim will be forecast who will survive and who unfortunately not. This is a classification task so I use many of machine learning models to create the best one. I would like to find the answer of a question: Who could survive from this disaster ?"
   ]
  },
  {
   "cell_type": "markdown",
   "metadata": {},
   "source": [
    "#### Libraries"
   ]
  },
  {
   "cell_type": "code",
   "execution_count": 2,
   "metadata": {},
   "outputs": [],
   "source": [
    "import pandas as pd\n",
    "import numpy as np\n",
    "from numpy import char\n",
    "from matplotlib import pyplot as plt\n",
    "import seaborn as sns\n",
    "import warnings"
   ]
  },
  {
   "cell_type": "markdown",
   "metadata": {},
   "source": [
    "#### Packages options"
   ]
  },
  {
   "cell_type": "code",
   "execution_count": 3,
   "metadata": {},
   "outputs": [],
   "source": [
    "def pyplot_options(width, length):\n",
    "    plt.figure(figsize = (width, length))"
   ]
  },
  {
   "cell_type": "code",
   "execution_count": 4,
   "metadata": {},
   "outputs": [],
   "source": [
    "sns.set(style=\"ticks\", color_codes=True)"
   ]
  },
  {
   "cell_type": "code",
   "execution_count": 5,
   "metadata": {},
   "outputs": [],
   "source": [
    "warnings.filterwarnings('ignore')"
   ]
  },
  {
   "cell_type": "markdown",
   "metadata": {},
   "source": [
    "#### Load datasets"
   ]
  },
  {
   "cell_type": "code",
   "execution_count": 332,
   "metadata": {},
   "outputs": [],
   "source": [
    "df_train = pd.read_csv(\"../data/train.csv\")\n",
    "df_test = pd.read_csv(\"../data/test.csv\")\n",
    "df_sub = pd.read_csv(\"../data/gender_submission.csv\")"
   ]
  },
  {
   "cell_type": "markdown",
   "metadata": {},
   "source": [
    "## Exploratory Data Analysis (EDA)"
   ]
  },
  {
   "cell_type": "markdown",
   "metadata": {},
   "source": [
    "EDA methodology is one of the most important thing during creating machine learning models. If we don't know the data we can't create accurate model. Usually during this step we find out that in some reason one of the feature or only part of some feature is more important than another. For example, in titanic disaster we can think that sex variable will be very important in our model because we know (from the internet, movie) that women had the priority to enter the lifeboat - in effect, if particular person was female then had higher probability that survive in contrast to male person."
   ]
  },
  {
   "cell_type": "markdown",
   "metadata": {},
   "source": [
    "#### Datasets head"
   ]
  },
  {
   "cell_type": "code",
   "execution_count": 7,
   "metadata": {},
   "outputs": [
    {
     "data": {
      "text/html": [
       "<div>\n",
       "<style scoped>\n",
       "    .dataframe tbody tr th:only-of-type {\n",
       "        vertical-align: middle;\n",
       "    }\n",
       "\n",
       "    .dataframe tbody tr th {\n",
       "        vertical-align: top;\n",
       "    }\n",
       "\n",
       "    .dataframe thead th {\n",
       "        text-align: right;\n",
       "    }\n",
       "</style>\n",
       "<table border=\"1\" class=\"dataframe\">\n",
       "  <thead>\n",
       "    <tr style=\"text-align: right;\">\n",
       "      <th></th>\n",
       "      <th>PassengerId</th>\n",
       "      <th>Survived</th>\n",
       "      <th>Pclass</th>\n",
       "      <th>Name</th>\n",
       "      <th>Sex</th>\n",
       "      <th>Age</th>\n",
       "      <th>SibSp</th>\n",
       "      <th>Parch</th>\n",
       "      <th>Ticket</th>\n",
       "      <th>Fare</th>\n",
       "      <th>Cabin</th>\n",
       "      <th>Embarked</th>\n",
       "    </tr>\n",
       "  </thead>\n",
       "  <tbody>\n",
       "    <tr>\n",
       "      <th>0</th>\n",
       "      <td>1</td>\n",
       "      <td>0</td>\n",
       "      <td>3</td>\n",
       "      <td>Braund, Mr. Owen Harris</td>\n",
       "      <td>male</td>\n",
       "      <td>22.0</td>\n",
       "      <td>1</td>\n",
       "      <td>0</td>\n",
       "      <td>A/5 21171</td>\n",
       "      <td>7.25</td>\n",
       "      <td>NaN</td>\n",
       "      <td>S</td>\n",
       "    </tr>\n",
       "  </tbody>\n",
       "</table>\n",
       "</div>"
      ],
      "text/plain": [
       "   PassengerId  Survived  Pclass                     Name   Sex   Age  SibSp  \\\n",
       "0            1         0       3  Braund, Mr. Owen Harris  male  22.0      1   \n",
       "\n",
       "   Parch     Ticket  Fare Cabin Embarked  \n",
       "0      0  A/5 21171  7.25   NaN        S  "
      ]
     },
     "execution_count": 7,
     "metadata": {},
     "output_type": "execute_result"
    }
   ],
   "source": [
    "df_train.head(1)"
   ]
  },
  {
   "cell_type": "code",
   "execution_count": 8,
   "metadata": {},
   "outputs": [
    {
     "data": {
      "text/html": [
       "<div>\n",
       "<style scoped>\n",
       "    .dataframe tbody tr th:only-of-type {\n",
       "        vertical-align: middle;\n",
       "    }\n",
       "\n",
       "    .dataframe tbody tr th {\n",
       "        vertical-align: top;\n",
       "    }\n",
       "\n",
       "    .dataframe thead th {\n",
       "        text-align: right;\n",
       "    }\n",
       "</style>\n",
       "<table border=\"1\" class=\"dataframe\">\n",
       "  <thead>\n",
       "    <tr style=\"text-align: right;\">\n",
       "      <th></th>\n",
       "      <th>PassengerId</th>\n",
       "      <th>Pclass</th>\n",
       "      <th>Name</th>\n",
       "      <th>Sex</th>\n",
       "      <th>Age</th>\n",
       "      <th>SibSp</th>\n",
       "      <th>Parch</th>\n",
       "      <th>Ticket</th>\n",
       "      <th>Fare</th>\n",
       "      <th>Cabin</th>\n",
       "      <th>Embarked</th>\n",
       "    </tr>\n",
       "  </thead>\n",
       "  <tbody>\n",
       "    <tr>\n",
       "      <th>0</th>\n",
       "      <td>892</td>\n",
       "      <td>3</td>\n",
       "      <td>Kelly, Mr. James</td>\n",
       "      <td>male</td>\n",
       "      <td>34.5</td>\n",
       "      <td>0</td>\n",
       "      <td>0</td>\n",
       "      <td>330911</td>\n",
       "      <td>7.8292</td>\n",
       "      <td>NaN</td>\n",
       "      <td>Q</td>\n",
       "    </tr>\n",
       "  </tbody>\n",
       "</table>\n",
       "</div>"
      ],
      "text/plain": [
       "   PassengerId  Pclass              Name   Sex   Age  SibSp  Parch  Ticket  \\\n",
       "0          892       3  Kelly, Mr. James  male  34.5      0      0  330911   \n",
       "\n",
       "     Fare Cabin Embarked  \n",
       "0  7.8292   NaN        Q  "
      ]
     },
     "execution_count": 8,
     "metadata": {},
     "output_type": "execute_result"
    }
   ],
   "source": [
    "df_test.head(1)"
   ]
  },
  {
   "cell_type": "code",
   "execution_count": 9,
   "metadata": {},
   "outputs": [
    {
     "data": {
      "text/html": [
       "<div>\n",
       "<style scoped>\n",
       "    .dataframe tbody tr th:only-of-type {\n",
       "        vertical-align: middle;\n",
       "    }\n",
       "\n",
       "    .dataframe tbody tr th {\n",
       "        vertical-align: top;\n",
       "    }\n",
       "\n",
       "    .dataframe thead th {\n",
       "        text-align: right;\n",
       "    }\n",
       "</style>\n",
       "<table border=\"1\" class=\"dataframe\">\n",
       "  <thead>\n",
       "    <tr style=\"text-align: right;\">\n",
       "      <th></th>\n",
       "      <th>PassengerId</th>\n",
       "      <th>Survived</th>\n",
       "    </tr>\n",
       "  </thead>\n",
       "  <tbody>\n",
       "    <tr>\n",
       "      <th>0</th>\n",
       "      <td>892</td>\n",
       "      <td>0</td>\n",
       "    </tr>\n",
       "  </tbody>\n",
       "</table>\n",
       "</div>"
      ],
      "text/plain": [
       "   PassengerId  Survived\n",
       "0          892         0"
      ]
     },
     "execution_count": 9,
     "metadata": {},
     "output_type": "execute_result"
    }
   ],
   "source": [
    "df_sub.head(1)"
   ]
  },
  {
   "cell_type": "markdown",
   "metadata": {},
   "source": [
    "We have 10 columns - without Survived target and PassengerId - index column. Let's check what are the types of them."
   ]
  },
  {
   "cell_type": "code",
   "execution_count": 10,
   "metadata": {},
   "outputs": [
    {
     "data": {
      "text/plain": [
       "PassengerId      int64\n",
       "Survived         int64\n",
       "Pclass           int64\n",
       "Name            object\n",
       "Sex             object\n",
       "Age            float64\n",
       "SibSp            int64\n",
       "Parch            int64\n",
       "Ticket          object\n",
       "Fare           float64\n",
       "Cabin           object\n",
       "Embarked        object\n",
       "dtype: object"
      ]
     },
     "execution_count": 10,
     "metadata": {},
     "output_type": "execute_result"
    }
   ],
   "source": [
    "df_train.dtypes"
   ]
  },
  {
   "cell_type": "markdown",
   "metadata": {},
   "source": [
    "Half of my features are numeric - Pclass, Age, SibSp, Parch, Fare. In my opinion Pclass, SibSp and Parch aren't numerical features - it will be better for model to convert it to categorical variables. The best for me is to create function for those calculation, because I wil have to repeat that things later on testing dataset. I will do it on _Feature Engineering_ step."
   ]
  },
  {
   "cell_type": "markdown",
   "metadata": {},
   "source": [
    "#### Datasets dimension"
   ]
  },
  {
   "cell_type": "code",
   "execution_count": 11,
   "metadata": {},
   "outputs": [
    {
     "name": "stdout",
     "output_type": "stream",
     "text": [
      "Shape of train dataset:  (891, 12)\n",
      "Shape of test dataset:  (418, 11)\n",
      "Shape of sub dataset:  (418, 2)\n"
     ]
    }
   ],
   "source": [
    "print(\"Shape of train dataset: \", df_train.shape)\n",
    "print(\"Shape of test dataset: \", df_test.shape)\n",
    "print(\"Shape of sub dataset: \", df_sub.shape)"
   ]
  },
  {
   "cell_type": "markdown",
   "metadata": {},
   "source": [
    "#### Quick introduce to the dataset"
   ]
  },
  {
   "cell_type": "markdown",
   "metadata": {},
   "source": [
    "Nice way to quick introduce to the data is to create pairplot. This is the plots where you can see many of the relationships in your dataset in contrast to your target variable - in our case is of course survived variable."
   ]
  },
  {
   "cell_type": "code",
   "execution_count": 12,
   "metadata": {
    "scrolled": false
   },
   "outputs": [
    {
     "data": {
      "image/png": "[encoded data removed]",
      "text/plain": [
       "<Figure size 1128.42x1080 with 42 Axes>"
      ]
     },
     "metadata": {},
     "output_type": "display_data"
    }
   ],
   "source": [
    "pair_plot_features = ['Survived', 'Pclass', 'SibSp', 'Parch', 'Age', 'Fare']\n",
    "g = sns.pairplot(data=df_train.loc[:, pair_plot_features], hue='Survived', palette=\"Set1\", diag_kind = 'hist')"
   ]
  },
  {
   "cell_type": "markdown",
   "metadata": {},
   "source": [
    "Quick conclusions:\n",
    "    1. People who pay for ticket not much money (may be they were from crew and pay 0) died more often than \n",
    "    rest of passengers\n",
    "    2. People from lowest class died more often that people from highest class,\n",
    "    3. People who pay not much money for ticket and were older have higher probability of died,\n",
    "    4. Alone people (without any of parents or children on ship) died rarely than rest\n",
    "\n",
    "Of course its only a few conclusions from this pair plot. May be they aren't good and will be not helpful but right now they are interesting for me and compatible with intuition."
   ]
  },
  {
   "cell_type": "markdown",
   "metadata": {},
   "source": [
    "#### Target: Survived"
   ]
  },
  {
   "cell_type": "markdown",
   "metadata": {},
   "source": [
    "Below I create countplot to show that unfortunately in Titanic disaster died more people than survived. We see that both of dataset have the same balanced class. Its not 50/50 but about 62.5%/37.5% in not survived to survivied people but I think that model should deal with that balanced group."
   ]
  },
  {
   "cell_type": "code",
   "execution_count": 13,
   "metadata": {},
   "outputs": [
    {
     "data": {
      "text/plain": [
       "Text(0.5, 1.0, 'Number of survivors of the Titanic disaster')"
      ]
     },
     "execution_count": 13,
     "metadata": {},
     "output_type": "execute_result"
    },
    {
     "data": {
      "image/png": "[encoded data removed]",
      "text/plain": [
       "<Figure size 576x360 with 1 Axes>"
      ]
     },
     "metadata": {},
     "output_type": "display_data"
    }
   ],
   "source": [
    "pyplot_options(8, 5)\n",
    "sns.countplot(x=\"Survived\", data = df_train, palette=\"Set1\")\n",
    "plt.title(\"Number of survivors of the Titanic disaster\")"
   ]
  },
  {
   "cell_type": "markdown",
   "metadata": {},
   "source": [
    "#### Feature: Sex"
   ]
  },
  {
   "cell_type": "markdown",
   "metadata": {},
   "source": [
    "Everything I will be doing on new dataset - df_train_new. The reason is only one. Here I would like to create new features, analyze them and understand my data. During that things I create new functions which will influence on df_train dataset. This functions I will test on df_train_new. After that part of analysis I will create the classification model and then split df_train into train and test set. Then I will use my function on train dataset and create the model. Then I will use this function on test dataset and chceck the performence of model."
   ]
  },
  {
   "cell_type": "code",
   "execution_count": 54,
   "metadata": {},
   "outputs": [],
   "source": [
    "df_train_new = df_train.copy()\n",
    "#df_train_new['Sex'] = df_train_new.Sex.map({'male':1, 'female':0})\n",
    "df_train_new['Sex'] = df_train_new['Sex'].astype('category')"
   ]
  },
  {
   "cell_type": "code",
   "execution_count": 15,
   "metadata": {},
   "outputs": [
    {
     "data": {
      "text/plain": [
       "Text(0.5, 1.0, 'Number of men and women on board the Titanic')"
      ]
     },
     "execution_count": 15,
     "metadata": {},
     "output_type": "execute_result"
    },
    {
     "data": {
      "image/png": "[encoded data removed]",
      "text/plain": [
       "<Figure size 864x576 with 1 Axes>"
      ]
     },
     "metadata": {},
     "output_type": "display_data"
    }
   ],
   "source": [
    "pyplot_options(12, 8)\n",
    "sns.countplot(data=df_train_new, x='Sex', palette=\"Set1\")\n",
    "plt.title(\"Number of men and women on board the Titanic\", fontsize=15)"
   ]
  },
  {
   "cell_type": "code",
   "execution_count": 16,
   "metadata": {},
   "outputs": [
    {
     "data": {
      "text/plain": [
       "Text(0.5, 1.0, 'Number of Male and Female people survived from disaster')"
      ]
     },
     "execution_count": 16,
     "metadata": {},
     "output_type": "execute_result"
    },
    {
     "data": {
      "image/png": "[encoded data removed]",
      "text/plain": [
       "<Figure size 864x576 with 1 Axes>"
      ]
     },
     "metadata": {},
     "output_type": "display_data"
    }
   ],
   "source": [
    "pyplot_options(12, 8)\n",
    "sns.countplot(data=df_train_new, x='Sex', hue = \"Survived\", palette=\"Set1\")\n",
    "plt.title(\"Number of Male and Female people survived from disaster\", fontsize=15)"
   ]
  },
  {
   "cell_type": "code",
   "execution_count": 17,
   "metadata": {},
   "outputs": [
    {
     "data": {
      "text/plain": [
       "False    891\n",
       "Name: Sex, dtype: int64"
      ]
     },
     "execution_count": 17,
     "metadata": {},
     "output_type": "execute_result"
    }
   ],
   "source": [
    "df_train.Sex.isnull().value_counts()"
   ]
  },
  {
   "cell_type": "markdown",
   "metadata": {},
   "source": [
    "**Conclusion:** Like I wrote before - women have higher probability of survieved than men."
   ]
  },
  {
   "cell_type": "markdown",
   "metadata": {},
   "source": [
    "#### Feature: Age"
   ]
  },
  {
   "cell_type": "code",
   "execution_count": 18,
   "metadata": {},
   "outputs": [
    {
     "name": "stdout",
     "output_type": "stream",
     "text": [
      "Age dataset shape: (891, 3)\n"
     ]
    }
   ],
   "source": [
    "age_cut=pd.cut(df_train_new.Age, bins = [0, 6, 14, 20, 30, 45, 60, 100])\n",
    "d = {\"CutAge\":age_cut, \"Sex\": df_train_new.Sex, \"Survived\": df_train_new.Survived}\n",
    "age_df = pd.DataFrame(data=d)\n",
    "print(\"Age dataset shape:\", age_df.shape)"
   ]
  },
  {
   "cell_type": "code",
   "execution_count": 19,
   "metadata": {},
   "outputs": [
    {
     "data": {
      "text/plain": [
       "Text(0.5, 1.0, 'Number of survivors in contrast to Age variable')"
      ]
     },
     "execution_count": 19,
     "metadata": {},
     "output_type": "execute_result"
    },
    {
     "data": {
      "image/png": "[encoded data removed]",
      "text/plain": [
       "<Figure size 864x576 with 1 Axes>"
      ]
     },
     "metadata": {},
     "output_type": "display_data"
    }
   ],
   "source": [
    "pyplot_options(12, 8)\n",
    "sns.countplot(data=age_df, x = \"CutAge\", hue = \"Survived\", palette=\"Set1\")\n",
    "plt.title(\"Number of survivors in contrast to Age variable\", fontsize = 15)"
   ]
  },
  {
   "cell_type": "code",
   "execution_count": 20,
   "metadata": {
    "scrolled": true
   },
   "outputs": [
    {
     "data": {
      "text/plain": [
       "<seaborn.axisgrid.FacetGrid at 0x188a8822940>"
      ]
     },
     "execution_count": 20,
     "metadata": {},
     "output_type": "execute_result"
    },
    {
     "data": {
      "image/png": "[encoded data removed]",
      "text/plain": [
       "<Figure size 736.925x288 with 2 Axes>"
      ]
     },
     "metadata": {},
     "output_type": "display_data"
    }
   ],
   "source": [
    "def countplot(x, hue, **kwargs):\n",
    "    sns.countplot(x=x, hue=hue, **kwargs, palette=\"Set1\")\n",
    "    \n",
    "grid = sns.FacetGrid(age_df, col=\"Sex\", size=4, aspect=1.2)\n",
    "fig = grid.map(countplot, \"CutAge\", \"Survived\")\n",
    "fig.add_legend()"
   ]
  },
  {
   "cell_type": "markdown",
   "metadata": {},
   "source": [
    "**Conclusion:** Age feature should have a big influence to accuracy of our model. We see that for examlpe on medium age like 14-30 survived people have similar balance like all of people about 27.5%/62.5% (like I write at the beginning). Difference behaviour we see for age 0-6 where we see that kids in that age have highest probability of survived about 70%/30%. Different proportion have also ages 60-100 where that people have lowest probability of survived about 20%/80%.  "
   ]
  },
  {
   "cell_type": "code",
   "execution_count": 21,
   "metadata": {},
   "outputs": [
    {
     "name": "stdout",
     "output_type": "stream",
     "text": [
      "Almost 19.87% of people have Age NaN values\n"
     ]
    }
   ],
   "source": [
    "age_null_values = 100*(df_train_new[df_train_new.Age.isnull() == True].shape[0]/df_train_new.shape[0])\n",
    "print(\"Almost {}% of people have Age NaN values\".format(np.round(age_null_values, 2)))"
   ]
  },
  {
   "cell_type": "markdown",
   "metadata": {},
   "source": [
    "**Conclusion:** I think that this is a quite big number of people who don't have value of age. During feature engineering step I will try to impute NaN values of one the cut interval."
   ]
  },
  {
   "cell_type": "markdown",
   "metadata": {},
   "source": [
    "#### Feature: Pclass"
   ]
  },
  {
   "cell_type": "code",
   "execution_count": 22,
   "metadata": {},
   "outputs": [
    {
     "data": {
      "text/plain": [
       "Text(0.5, 1.0, 'Countplot of Passanger Class in contrast to Survived')"
      ]
     },
     "execution_count": 22,
     "metadata": {},
     "output_type": "execute_result"
    },
    {
     "data": {
      "image/png": "[encoded data removed]",
      "text/plain": [
       "<Figure size 720x432 with 1 Axes>"
      ]
     },
     "metadata": {},
     "output_type": "display_data"
    }
   ],
   "source": [
    "pyplot_options(10, 6)\n",
    "sns.countplot(x = df_train.loc[:, 'Pclass'], hue = df_train.loc[:, 'Survived'], palette=\"Set1\")\n",
    "plt.title(\"Countplot of Passanger Class in contrast to Survived\")"
   ]
  },
  {
   "cell_type": "markdown",
   "metadata": {},
   "source": [
    "**Conclusion:** Class nr 3 has huge impact to Survived target. Class nr 1 has some impact but in difference way than nr 3 - in class nr 1 Survived more than half people. "
   ]
  },
  {
   "cell_type": "code",
   "execution_count": 23,
   "metadata": {},
   "outputs": [
    {
     "name": "stdout",
     "output_type": "stream",
     "text": [
      "Almost 0.0% of people have Pclass NaN values\n"
     ]
    }
   ],
   "source": [
    "pclass_null_values = 100*(df_train_new[df_train_new.Pclass.isnull() == True].shape[0]/df_train_new.shape[0])\n",
    "print(\"Almost {}% of people have Pclass NaN values\".format(np.round(pclass_null_values, 2)))"
   ]
  },
  {
   "cell_type": "markdown",
   "metadata": {},
   "source": [
    "#### Feature: SibSp"
   ]
  },
  {
   "cell_type": "code",
   "execution_count": 24,
   "metadata": {},
   "outputs": [
    {
     "data": {
      "text/plain": [
       "Text(0.5, 1.0, 'Number of sibilings aboard to Titanic in contrast to Survived')"
      ]
     },
     "execution_count": 24,
     "metadata": {},
     "output_type": "execute_result"
    },
    {
     "data": {
      "image/png": "[encoded data removed]",
      "text/plain": [
       "<Figure size 864x576 with 1 Axes>"
      ]
     },
     "metadata": {},
     "output_type": "display_data"
    }
   ],
   "source": [
    "pyplot_options(12, 8)\n",
    "sns.countplot(data = df_train_new, x='SibSp', hue ='Survived', palette=\"Set1\")\n",
    "plt.title(\"Number of sibilings aboard to Titanic in contrast to Survived\", fontsize=15)"
   ]
  },
  {
   "cell_type": "code",
   "execution_count": 29,
   "metadata": {},
   "outputs": [],
   "source": [
    "def sibsp_function(feature):\n",
    "    if feature == 0:\n",
    "        return '0'\n",
    "    elif feature == 1 or feature == 2: \n",
    "        return '1-2' \n",
    "    else: \n",
    "        return '>2'\n",
    "\n",
    "df_train_new['SibSp_0'] = df_train_new.apply(lambda df: sibsp_function(df['SibSp']), axis=1)"
   ]
  },
  {
   "cell_type": "code",
   "execution_count": 30,
   "metadata": {},
   "outputs": [
    {
     "data": {
      "text/plain": [
       "Text(0.5, 1.0, 'Number of sibilings aboard to Titanic in contrast to Survived')"
      ]
     },
     "execution_count": 30,
     "metadata": {},
     "output_type": "execute_result"
    },
    {
     "data": {
      "image/png": "[encoded data removed]",
      "text/plain": [
       "<Figure size 864x576 with 1 Axes>"
      ]
     },
     "metadata": {},
     "output_type": "display_data"
    }
   ],
   "source": [
    "pyplot_options(12, 8)\n",
    "sns.countplot(data = df_train_new, x='SibSp_0', hue ='Survived', palette=\"Set1\", order=['0', '1-2', '>2'])\n",
    "plt.title(\"Number of sibilings aboard to Titanic in contrast to Survived\", fontsize=15)"
   ]
  },
  {
   "cell_type": "code",
   "execution_count": 31,
   "metadata": {},
   "outputs": [
    {
     "name": "stdout",
     "output_type": "stream",
     "text": [
      "Almost 0.0% of people have SibSp NaN values\n"
     ]
    }
   ],
   "source": [
    "sib_null_values = 100*(df_train_new[df_train_new.SibSp.isnull() == True].shape[0]/df_train_new.shape[0])\n",
    "print(\"Almost {}% of people have SibSp NaN values\".format(np.round(sib_null_values, 2)))"
   ]
  },
  {
   "cell_type": "markdown",
   "metadata": {},
   "source": [
    "**Conclusion:** When people didn't have sibilings then probability of survived decreased. "
   ]
  },
  {
   "cell_type": "markdown",
   "metadata": {},
   "source": [
    "#### Feature: Parch"
   ]
  },
  {
   "cell_type": "code",
   "execution_count": 32,
   "metadata": {},
   "outputs": [
    {
     "data": {
      "text/plain": [
       "Text(0.5, 1.0, 'Number of Parents or Children aboard to Titanic in contrast to Survived')"
      ]
     },
     "execution_count": 32,
     "metadata": {},
     "output_type": "execute_result"
    },
    {
     "data": {
      "image/png": "[encoded data removed]",
      "text/plain": [
       "<Figure size 864x576 with 1 Axes>"
      ]
     },
     "metadata": {},
     "output_type": "display_data"
    }
   ],
   "source": [
    "pyplot_options(12, 8)\n",
    "sns.countplot(data=df_train_new, x = 'Parch', hue = 'Survived', palette=\"Set1\")\n",
    "plt.title(\"Number of Parents or Children aboard to Titanic in contrast to Survived\", fontsize=15)"
   ]
  },
  {
   "cell_type": "code",
   "execution_count": 33,
   "metadata": {},
   "outputs": [],
   "source": [
    "def parch_function(feature):\n",
    "    if feature == 0:\n",
    "        return '0'\n",
    "    else:\n",
    "        return '>= 1'\n",
    "\n",
    "df_train_new['Parch_0'] = df_train_new.apply(lambda df: parch_function(df['Parch']), axis=1)"
   ]
  },
  {
   "cell_type": "code",
   "execution_count": 34,
   "metadata": {},
   "outputs": [
    {
     "data": {
      "text/plain": [
       "Text(0.5, 1.0, 'Number of Parents or Children aboard to Titanic in contrast to Survived')"
      ]
     },
     "execution_count": 34,
     "metadata": {},
     "output_type": "execute_result"
    },
    {
     "data": {
      "image/png": "[encoded data removed]",
      "text/plain": [
       "<Figure size 864x576 with 1 Axes>"
      ]
     },
     "metadata": {},
     "output_type": "display_data"
    }
   ],
   "source": [
    "pyplot_options(12, 8)\n",
    "sns.countplot(data=df_train_new, x = 'Parch_0', hue = 'Survived', palette=\"Set1\")\n",
    "plt.title(\"Number of Parents or Children aboard to Titanic in contrast to Survived\", fontsize=15)"
   ]
  },
  {
   "cell_type": "markdown",
   "metadata": {},
   "source": [
    "**Conclusion:** Parch variable equal to 3, 4, 5 or 6 don't have any influence into the dataset. We see that when passenger didn't have any child or parent survived rarely than passenger who had any close person."
   ]
  },
  {
   "cell_type": "markdown",
   "metadata": {},
   "source": [
    "#### Feature: Ticket"
   ]
  },
  {
   "cell_type": "code",
   "execution_count": 35,
   "metadata": {},
   "outputs": [],
   "source": [
    "ticket_counts = df_train_new.Ticket.value_counts()\n",
    "ticket_counts = pd.DataFrame({'Ticket':ticket_counts.index, 'PassengerTicket':ticket_counts}).reset_index().drop(['index'],axis=1)"
   ]
  },
  {
   "cell_type": "code",
   "execution_count": 36,
   "metadata": {},
   "outputs": [
    {
     "data": {
      "text/html": [
       "<div>\n",
       "<style scoped>\n",
       "    .dataframe tbody tr th:only-of-type {\n",
       "        vertical-align: middle;\n",
       "    }\n",
       "\n",
       "    .dataframe tbody tr th {\n",
       "        vertical-align: top;\n",
       "    }\n",
       "\n",
       "    .dataframe thead th {\n",
       "        text-align: right;\n",
       "    }\n",
       "</style>\n",
       "<table border=\"1\" class=\"dataframe\">\n",
       "  <thead>\n",
       "    <tr style=\"text-align: right;\">\n",
       "      <th></th>\n",
       "      <th>PassengerId</th>\n",
       "      <th>Survived</th>\n",
       "      <th>Pclass</th>\n",
       "      <th>Name</th>\n",
       "      <th>Sex</th>\n",
       "      <th>Age</th>\n",
       "      <th>SibSp</th>\n",
       "      <th>Parch</th>\n",
       "      <th>Ticket</th>\n",
       "      <th>Fare</th>\n",
       "      <th>Cabin</th>\n",
       "      <th>Embarked</th>\n",
       "      <th>SibSp_0</th>\n",
       "      <th>Parch_0</th>\n",
       "      <th>PassengerTicket</th>\n",
       "    </tr>\n",
       "  </thead>\n",
       "  <tbody>\n",
       "    <tr>\n",
       "      <th>0</th>\n",
       "      <td>1</td>\n",
       "      <td>0</td>\n",
       "      <td>3</td>\n",
       "      <td>Braund, Mr. Owen Harris</td>\n",
       "      <td>male</td>\n",
       "      <td>22.0</td>\n",
       "      <td>1</td>\n",
       "      <td>0</td>\n",
       "      <td>A/5 21171</td>\n",
       "      <td>7.2500</td>\n",
       "      <td>NaN</td>\n",
       "      <td>S</td>\n",
       "      <td>1-2</td>\n",
       "      <td>0</td>\n",
       "      <td>1</td>\n",
       "    </tr>\n",
       "    <tr>\n",
       "      <th>1</th>\n",
       "      <td>2</td>\n",
       "      <td>1</td>\n",
       "      <td>1</td>\n",
       "      <td>Cumings, Mrs. John Bradley (Florence Briggs Th...</td>\n",
       "      <td>female</td>\n",
       "      <td>38.0</td>\n",
       "      <td>1</td>\n",
       "      <td>0</td>\n",
       "      <td>PC 17599</td>\n",
       "      <td>71.2833</td>\n",
       "      <td>C85</td>\n",
       "      <td>C</td>\n",
       "      <td>1-2</td>\n",
       "      <td>0</td>\n",
       "      <td>1</td>\n",
       "    </tr>\n",
       "    <tr>\n",
       "      <th>2</th>\n",
       "      <td>3</td>\n",
       "      <td>1</td>\n",
       "      <td>3</td>\n",
       "      <td>Heikkinen, Miss. Laina</td>\n",
       "      <td>female</td>\n",
       "      <td>26.0</td>\n",
       "      <td>0</td>\n",
       "      <td>0</td>\n",
       "      <td>STON/O2. 3101282</td>\n",
       "      <td>7.9250</td>\n",
       "      <td>NaN</td>\n",
       "      <td>S</td>\n",
       "      <td>0</td>\n",
       "      <td>0</td>\n",
       "      <td>1</td>\n",
       "    </tr>\n",
       "    <tr>\n",
       "      <th>3</th>\n",
       "      <td>4</td>\n",
       "      <td>1</td>\n",
       "      <td>1</td>\n",
       "      <td>Futrelle, Mrs. Jacques Heath (Lily May Peel)</td>\n",
       "      <td>female</td>\n",
       "      <td>35.0</td>\n",
       "      <td>1</td>\n",
       "      <td>0</td>\n",
       "      <td>113803</td>\n",
       "      <td>53.1000</td>\n",
       "      <td>C123</td>\n",
       "      <td>S</td>\n",
       "      <td>1-2</td>\n",
       "      <td>0</td>\n",
       "      <td>2</td>\n",
       "    </tr>\n",
       "    <tr>\n",
       "      <th>4</th>\n",
       "      <td>5</td>\n",
       "      <td>0</td>\n",
       "      <td>3</td>\n",
       "      <td>Allen, Mr. William Henry</td>\n",
       "      <td>male</td>\n",
       "      <td>35.0</td>\n",
       "      <td>0</td>\n",
       "      <td>0</td>\n",
       "      <td>373450</td>\n",
       "      <td>8.0500</td>\n",
       "      <td>NaN</td>\n",
       "      <td>S</td>\n",
       "      <td>0</td>\n",
       "      <td>0</td>\n",
       "      <td>1</td>\n",
       "    </tr>\n",
       "  </tbody>\n",
       "</table>\n",
       "</div>"
      ],
      "text/plain": [
       "   PassengerId  Survived  Pclass  \\\n",
       "0            1         0       3   \n",
       "1            2         1       1   \n",
       "2            3         1       3   \n",
       "3            4         1       1   \n",
       "4            5         0       3   \n",
       "\n",
       "                                                Name     Sex   Age  SibSp  \\\n",
       "0                            Braund, Mr. Owen Harris    male  22.0      1   \n",
       "1  Cumings, Mrs. John Bradley (Florence Briggs Th...  female  38.0      1   \n",
       "2                             Heikkinen, Miss. Laina  female  26.0      0   \n",
       "3       Futrelle, Mrs. Jacques Heath (Lily May Peel)  female  35.0      1   \n",
       "4                           Allen, Mr. William Henry    male  35.0      0   \n",
       "\n",
       "   Parch            Ticket     Fare Cabin Embarked SibSp_0 Parch_0  \\\n",
       "0      0         A/5 21171   7.2500   NaN        S     1-2       0   \n",
       "1      0          PC 17599  71.2833   C85        C     1-2       0   \n",
       "2      0  STON/O2. 3101282   7.9250   NaN        S       0       0   \n",
       "3      0            113803  53.1000  C123        S     1-2       0   \n",
       "4      0            373450   8.0500   NaN        S       0       0   \n",
       "\n",
       "   PassengerTicket  \n",
       "0                1  \n",
       "1                1  \n",
       "2                1  \n",
       "3                2  \n",
       "4                1  "
      ]
     },
     "execution_count": 36,
     "metadata": {},
     "output_type": "execute_result"
    }
   ],
   "source": [
    "df_train_new = pd.merge(df_train_new, ticket_counts, left_on='Ticket', right_on = 'Ticket', how='left')\n",
    "df_train_new.head()"
   ]
  },
  {
   "cell_type": "code",
   "execution_count": 38,
   "metadata": {},
   "outputs": [
    {
     "data": {
      "text/plain": [
       "Text(0.5, 1.0, 'Number of people on one ticket in contrast to survivors')"
      ]
     },
     "execution_count": 38,
     "metadata": {},
     "output_type": "execute_result"
    },
    {
     "data": {
      "image/png": "[encoded data removed]",
      "text/plain": [
       "<Figure size 864x432 with 1 Axes>"
      ]
     },
     "metadata": {},
     "output_type": "display_data"
    }
   ],
   "source": [
    "pyplot_options(12, 6)\n",
    "sns.countplot(data=df_train_new, x=\"PassengerTicket\", hue=\"Survived\", palette=\"Set1\")\n",
    "plt.title(\"Number of people on one ticket in contrast to survivors\", fontsize=15)"
   ]
  },
  {
   "cell_type": "code",
   "execution_count": 40,
   "metadata": {},
   "outputs": [
    {
     "data": {
      "text/plain": [
       "Text(0.5, 1.0, 'Number of people on one ticket (only one person) in contrast to survivors')"
      ]
     },
     "execution_count": 40,
     "metadata": {},
     "output_type": "execute_result"
    },
    {
     "data": {
      "image/png": "[encoded data removed]",
      "text/plain": [
       "<Figure size 864x576 with 1 Axes>"
      ]
     },
     "metadata": {},
     "output_type": "display_data"
    }
   ],
   "source": [
    "pyplot_options(12, 8)\n",
    "sns.countplot(data=df_train_new[df_train_new.PassengerTicket == 1], x=\"Survived\", palette=\"Set1\")\n",
    "plt.title(\"Number of people on one ticket (only one person) in contrast to survivors\", fontsize=15)"
   ]
  },
  {
   "cell_type": "code",
   "execution_count": 39,
   "metadata": {},
   "outputs": [
    {
     "data": {
      "text/plain": [
       "Text(0.5, 1.0, 'Number of people on one ticket (greater than 2) in contrast to survivors')"
      ]
     },
     "execution_count": 39,
     "metadata": {},
     "output_type": "execute_result"
    },
    {
     "data": {
      "image/png": "[encoded data removed]",
      "text/plain": [
       "<Figure size 864x576 with 1 Axes>"
      ]
     },
     "metadata": {},
     "output_type": "display_data"
    }
   ],
   "source": [
    "pyplot_options(12, 8)\n",
    "sns.countplot(data=df_train_new[df_train_new.PassengerTicket >= 2 ], x=\"Survived\", palette=\"Set1\")\n",
    "plt.title(\"Number of people on one ticket (greater than 2) in contrast to survivors\", fontsize=15)"
   ]
  },
  {
   "cell_type": "markdown",
   "metadata": {},
   "source": [
    "**Conclusion:** People who traveled with somebody (in the same ticket) had more chance to survived than people who traveled alone."
   ]
  },
  {
   "cell_type": "markdown",
   "metadata": {},
   "source": [
    "#### Feature: Fare"
   ]
  },
  {
   "cell_type": "code",
   "execution_count": 41,
   "metadata": {},
   "outputs": [
    {
     "data": {
      "text/plain": [
       "Text(0.5, 1.0, 'Boxplot of Fare in contrast to Survived')"
      ]
     },
     "execution_count": 41,
     "metadata": {},
     "output_type": "execute_result"
    },
    {
     "data": {
      "image/png": "[encoded data removed]",
      "text/plain": [
       "<Figure size 864x576 with 1 Axes>"
      ]
     },
     "metadata": {},
     "output_type": "display_data"
    }
   ],
   "source": [
    "pyplot_options(12, 8)\n",
    "sns.boxplot(data=df_train_new, x = \"Survived\", y=\"Fare\", orient=\"v\", palette=\"Set1\")\n",
    "plt.title(\"Boxplot of Fare in contrast to Survived\", fontsize=15)"
   ]
  },
  {
   "cell_type": "code",
   "execution_count": 42,
   "metadata": {},
   "outputs": [
    {
     "data": {
      "text/plain": [
       "Text(0.5, 1.0, 'Countplot interval of Fare in contrast to Survived')"
      ]
     },
     "execution_count": 42,
     "metadata": {},
     "output_type": "execute_result"
    },
    {
     "data": {
      "image/png": "[encoded data removed]",
      "text/plain": [
       "<Figure size 864x576 with 1 Axes>"
      ]
     },
     "metadata": {},
     "output_type": "display_data"
    }
   ],
   "source": [
    "df_train_new['FareBins'] = pd.cut(df_train_new.Fare, bins=[0, 10, 25, 50, 75, 1000])\n",
    "pyplot_options(12, 8)\n",
    "sns.countplot(data=df_train_new, x = \"FareBins\", hue=\"Survived\", palette=\"Set1\")\n",
    "plt.title(\"Countplot interval of Fare in contrast to Survived\", fontsize=15)"
   ]
  },
  {
   "cell_type": "markdown",
   "metadata": {},
   "source": [
    "**Conclusion:** Value of fare had big influence of Surivived during Titanic disaster."
   ]
  },
  {
   "cell_type": "markdown",
   "metadata": {},
   "source": [
    "#### Feature: Cabin"
   ]
  },
  {
   "cell_type": "code",
   "execution_count": 43,
   "metadata": {},
   "outputs": [],
   "source": [
    "cabin_counts = df_train_new.Cabin.value_counts()\n",
    "cabin_counts = pd.DataFrame({'Cabin':cabin_counts.index, 'PassengerCabin':cabin_counts}).reset_index().drop(['index'],axis=1)"
   ]
  },
  {
   "cell_type": "code",
   "execution_count": 44,
   "metadata": {},
   "outputs": [
    {
     "data": {
      "text/html": [
       "<div>\n",
       "<style scoped>\n",
       "    .dataframe tbody tr th:only-of-type {\n",
       "        vertical-align: middle;\n",
       "    }\n",
       "\n",
       "    .dataframe tbody tr th {\n",
       "        vertical-align: top;\n",
       "    }\n",
       "\n",
       "    .dataframe thead th {\n",
       "        text-align: right;\n",
       "    }\n",
       "</style>\n",
       "<table border=\"1\" class=\"dataframe\">\n",
       "  <thead>\n",
       "    <tr style=\"text-align: right;\">\n",
       "      <th></th>\n",
       "      <th>PassengerId</th>\n",
       "      <th>Survived</th>\n",
       "      <th>Pclass</th>\n",
       "      <th>Name</th>\n",
       "      <th>Sex</th>\n",
       "      <th>Age</th>\n",
       "      <th>SibSp</th>\n",
       "      <th>Parch</th>\n",
       "      <th>Ticket</th>\n",
       "      <th>Fare</th>\n",
       "      <th>Cabin</th>\n",
       "      <th>Embarked</th>\n",
       "      <th>SibSp_0</th>\n",
       "      <th>Parch_0</th>\n",
       "      <th>PassengerTicket</th>\n",
       "      <th>FareBins</th>\n",
       "      <th>PassengerCabin</th>\n",
       "    </tr>\n",
       "  </thead>\n",
       "  <tbody>\n",
       "    <tr>\n",
       "      <th>0</th>\n",
       "      <td>1</td>\n",
       "      <td>0</td>\n",
       "      <td>3</td>\n",
       "      <td>Braund, Mr. Owen Harris</td>\n",
       "      <td>male</td>\n",
       "      <td>22.0</td>\n",
       "      <td>1</td>\n",
       "      <td>0</td>\n",
       "      <td>A/5 21171</td>\n",
       "      <td>7.2500</td>\n",
       "      <td>NaN</td>\n",
       "      <td>S</td>\n",
       "      <td>1-2</td>\n",
       "      <td>0</td>\n",
       "      <td>1</td>\n",
       "      <td>(0, 10]</td>\n",
       "      <td>0.0</td>\n",
       "    </tr>\n",
       "    <tr>\n",
       "      <th>1</th>\n",
       "      <td>2</td>\n",
       "      <td>1</td>\n",
       "      <td>1</td>\n",
       "      <td>Cumings, Mrs. John Bradley (Florence Briggs Th...</td>\n",
       "      <td>female</td>\n",
       "      <td>38.0</td>\n",
       "      <td>1</td>\n",
       "      <td>0</td>\n",
       "      <td>PC 17599</td>\n",
       "      <td>71.2833</td>\n",
       "      <td>C85</td>\n",
       "      <td>C</td>\n",
       "      <td>1-2</td>\n",
       "      <td>0</td>\n",
       "      <td>1</td>\n",
       "      <td>(50, 75]</td>\n",
       "      <td>1.0</td>\n",
       "    </tr>\n",
       "    <tr>\n",
       "      <th>2</th>\n",
       "      <td>3</td>\n",
       "      <td>1</td>\n",
       "      <td>3</td>\n",
       "      <td>Heikkinen, Miss. Laina</td>\n",
       "      <td>female</td>\n",
       "      <td>26.0</td>\n",
       "      <td>0</td>\n",
       "      <td>0</td>\n",
       "      <td>STON/O2. 3101282</td>\n",
       "      <td>7.9250</td>\n",
       "      <td>NaN</td>\n",
       "      <td>S</td>\n",
       "      <td>0</td>\n",
       "      <td>0</td>\n",
       "      <td>1</td>\n",
       "      <td>(0, 10]</td>\n",
       "      <td>0.0</td>\n",
       "    </tr>\n",
       "    <tr>\n",
       "      <th>3</th>\n",
       "      <td>4</td>\n",
       "      <td>1</td>\n",
       "      <td>1</td>\n",
       "      <td>Futrelle, Mrs. Jacques Heath (Lily May Peel)</td>\n",
       "      <td>female</td>\n",
       "      <td>35.0</td>\n",
       "      <td>1</td>\n",
       "      <td>0</td>\n",
       "      <td>113803</td>\n",
       "      <td>53.1000</td>\n",
       "      <td>C123</td>\n",
       "      <td>S</td>\n",
       "      <td>1-2</td>\n",
       "      <td>0</td>\n",
       "      <td>2</td>\n",
       "      <td>(50, 75]</td>\n",
       "      <td>2.0</td>\n",
       "    </tr>\n",
       "    <tr>\n",
       "      <th>4</th>\n",
       "      <td>5</td>\n",
       "      <td>0</td>\n",
       "      <td>3</td>\n",
       "      <td>Allen, Mr. William Henry</td>\n",
       "      <td>male</td>\n",
       "      <td>35.0</td>\n",
       "      <td>0</td>\n",
       "      <td>0</td>\n",
       "      <td>373450</td>\n",
       "      <td>8.0500</td>\n",
       "      <td>NaN</td>\n",
       "      <td>S</td>\n",
       "      <td>0</td>\n",
       "      <td>0</td>\n",
       "      <td>1</td>\n",
       "      <td>(0, 10]</td>\n",
       "      <td>0.0</td>\n",
       "    </tr>\n",
       "  </tbody>\n",
       "</table>\n",
       "</div>"
      ],
      "text/plain": [
       "   PassengerId  Survived  Pclass  \\\n",
       "0            1         0       3   \n",
       "1            2         1       1   \n",
       "2            3         1       3   \n",
       "3            4         1       1   \n",
       "4            5         0       3   \n",
       "\n",
       "                                                Name     Sex   Age  SibSp  \\\n",
       "0                            Braund, Mr. Owen Harris    male  22.0      1   \n",
       "1  Cumings, Mrs. John Bradley (Florence Briggs Th...  female  38.0      1   \n",
       "2                             Heikkinen, Miss. Laina  female  26.0      0   \n",
       "3       Futrelle, Mrs. Jacques Heath (Lily May Peel)  female  35.0      1   \n",
       "4                           Allen, Mr. William Henry    male  35.0      0   \n",
       "\n",
       "   Parch            Ticket     Fare Cabin Embarked SibSp_0 Parch_0  \\\n",
       "0      0         A/5 21171   7.2500   NaN        S     1-2       0   \n",
       "1      0          PC 17599  71.2833   C85        C     1-2       0   \n",
       "2      0  STON/O2. 3101282   7.9250   NaN        S       0       0   \n",
       "3      0            113803  53.1000  C123        S     1-2       0   \n",
       "4      0            373450   8.0500   NaN        S       0       0   \n",
       "\n",
       "   PassengerTicket  FareBins  PassengerCabin  \n",
       "0                1   (0, 10]             0.0  \n",
       "1                1  (50, 75]             1.0  \n",
       "2                1   (0, 10]             0.0  \n",
       "3                2  (50, 75]             2.0  \n",
       "4                1   (0, 10]             0.0  "
      ]
     },
     "execution_count": 44,
     "metadata": {},
     "output_type": "execute_result"
    }
   ],
   "source": [
    "df_train_new2 = pd.merge(df_train_new.copy(), cabin_counts, left_on='Cabin', right_on = 'Cabin', how='left')\n",
    "df_train_new2.PassengerCabin[df_train_new2.PassengerCabin.isna() == True] = 0\n",
    "df_train_new2.head()"
   ]
  },
  {
   "cell_type": "code",
   "execution_count": 45,
   "metadata": {},
   "outputs": [
    {
     "data": {
      "text/plain": [
       "Text(0.5, 1.0, 'Number of Passengers who have cabin in contrast to Survived')"
      ]
     },
     "execution_count": 45,
     "metadata": {},
     "output_type": "execute_result"
    },
    {
     "data": {
      "image/png": "[encoded data removed]",
      "text/plain": [
       "<Figure size 864x576 with 1 Axes>"
      ]
     },
     "metadata": {},
     "output_type": "display_data"
    }
   ],
   "source": [
    "pyplot_options(12, 8)\n",
    "sns.countplot(data=df_train_new2, x=\"PassengerCabin\", hue=\"Survived\", palette=\"Set1\")\n",
    "plt.title(\"Number of Passengers who have cabin in contrast to Survived\", fontsize=15)"
   ]
  },
  {
   "cell_type": "markdown",
   "metadata": {},
   "source": [
    "**Conclusion:** People who didn't have cabin died more often than people who had. "
   ]
  },
  {
   "cell_type": "markdown",
   "metadata": {},
   "source": [
    "#### Feature: Embarked"
   ]
  },
  {
   "cell_type": "code",
   "execution_count": 46,
   "metadata": {},
   "outputs": [
    {
     "data": {
      "text/plain": [
       "Text(0.5, 1.0, 'Place of Embarked in contrast to Survived')"
      ]
     },
     "execution_count": 46,
     "metadata": {},
     "output_type": "execute_result"
    },
    {
     "data": {
      "image/png": "[encoded data removed]",
      "text/plain": [
       "<Figure size 864x576 with 1 Axes>"
      ]
     },
     "metadata": {},
     "output_type": "display_data"
    }
   ],
   "source": [
    "pyplot_options(12, 8)\n",
    "sns.countplot(data=df_train_new, x = \"Embarked\", hue=\"Survived\", palette=\"Set1\")\n",
    "plt.title(\"Place of Embarked in contrast to Survived\", fontsize=15)"
   ]
  },
  {
   "cell_type": "markdown",
   "metadata": {},
   "source": [
    "#### Feature: Name"
   ]
  },
  {
   "cell_type": "markdown",
   "metadata": {},
   "source": [
    "Now let's see on Name feature. We see that there are some names, surnames but also titles like Miss, Mr or Master. May be it will be important for our model. Of course titles like Mr. or Miss. are in Sex variable but Master is something else. Let's try to find there some pattern !!"
   ]
  },
  {
   "cell_type": "code",
   "execution_count": 38,
   "metadata": {},
   "outputs": [
    {
     "data": {
      "text/plain": [
       "Becker, Master. Richard F            1\n",
       "Andrews, Miss. Kornelia Theodosia    1\n",
       "Moraweck, Dr. Ernest                 1\n",
       "Lesurer, Mr. Gustave J               1\n",
       "Walker, Mr. William Anderson         1\n",
       "                                    ..\n",
       "Canavan, Miss. Mary                  1\n",
       "Harper, Mr. Henry Sleeper            1\n",
       "Windelov, Mr. Einar                  1\n",
       "Johnson, Mr. Malkolm Joackim         1\n",
       "Fahlstrom, Mr. Arne Jonas            1\n",
       "Name: Name, Length: 891, dtype: int64"
      ]
     },
     "execution_count": 38,
     "metadata": {},
     "output_type": "execute_result"
    }
   ],
   "source": [
    "df_train_new.Name.value_counts()"
   ]
  },
  {
   "cell_type": "markdown",
   "metadata": {},
   "source": [
    "Now let's see on Name feature. We see that there are some names, surnames but also titles like Miss, Mr or Master. May be it will be important for our model. Of course titles like Mr. or Miss. are in Sex variable but Master is something else. Let's try to find there some pattern !!"
   ]
  },
  {
   "cell_type": "code",
   "execution_count": 53,
   "metadata": {},
   "outputs": [
    {
     "data": {
      "text/plain": [
       "Index(['Survived', 'Pclass', 'Name', 'Sex', 'Age', 'SibSp', 'Parch', 'Ticket',\n",
       "       'Fare', 'Cabin', 'Embarked', 'SibSp_0', 'Parch_0', 'PassengerTicket',\n",
       "       'FareBins'],\n",
       "      dtype='object')"
      ]
     },
     "execution_count": 53,
     "metadata": {},
     "output_type": "execute_result"
    }
   ],
   "source": [
    "df_train_new.columns"
   ]
  },
  {
   "cell_type": "code",
   "execution_count": 55,
   "metadata": {},
   "outputs": [],
   "source": [
    "df_train_new.set_index('PassengerId', inplace=True)"
   ]
  },
  {
   "cell_type": "code",
   "execution_count": 56,
   "metadata": {},
   "outputs": [],
   "source": [
    "df_name = df_train_new.Name.str.split(\",\", expand=True).rename(columns = lambda x: f\"Part_Name_{x+1}\")\n",
    "df_name_2 = df_name.Part_Name_2.str.split(\".\", expand=True).rename(columns = lambda x: f\"Part_Name_{x+1}\")\n",
    "df_name.rename(columns={\"Part_Name_1\":\"Surname\", \"Part_Name_2\":\"Title_Name\"}, inplace=True)\n",
    "df_name_2.rename(columns = {\"Part_Name_1\":\"Title\", \"Part_Name_2\":\"Surname\", \"Part_Name_3\":\"Rest\"}, inplace=True)"
   ]
  },
  {
   "cell_type": "code",
   "execution_count": 57,
   "metadata": {},
   "outputs": [
    {
     "data": {
      "text/html": [
       "<div>\n",
       "<style scoped>\n",
       "    .dataframe tbody tr th:only-of-type {\n",
       "        vertical-align: middle;\n",
       "    }\n",
       "\n",
       "    .dataframe tbody tr th {\n",
       "        vertical-align: top;\n",
       "    }\n",
       "\n",
       "    .dataframe thead th {\n",
       "        text-align: right;\n",
       "    }\n",
       "</style>\n",
       "<table border=\"1\" class=\"dataframe\">\n",
       "  <thead>\n",
       "    <tr style=\"text-align: right;\">\n",
       "      <th></th>\n",
       "      <th>Surname</th>\n",
       "      <th>Title_Name</th>\n",
       "    </tr>\n",
       "    <tr>\n",
       "      <th>PassengerId</th>\n",
       "      <th></th>\n",
       "      <th></th>\n",
       "    </tr>\n",
       "  </thead>\n",
       "  <tbody>\n",
       "    <tr>\n",
       "      <th>1</th>\n",
       "      <td>Braund</td>\n",
       "      <td>Mr. Owen Harris</td>\n",
       "    </tr>\n",
       "  </tbody>\n",
       "</table>\n",
       "</div>"
      ],
      "text/plain": [
       "            Surname        Title_Name\n",
       "PassengerId                          \n",
       "1            Braund   Mr. Owen Harris"
      ]
     },
     "execution_count": 57,
     "metadata": {},
     "output_type": "execute_result"
    }
   ],
   "source": [
    "df_name.head(1)"
   ]
  },
  {
   "cell_type": "code",
   "execution_count": 58,
   "metadata": {},
   "outputs": [
    {
     "data": {
      "text/html": [
       "<div>\n",
       "<style scoped>\n",
       "    .dataframe tbody tr th:only-of-type {\n",
       "        vertical-align: middle;\n",
       "    }\n",
       "\n",
       "    .dataframe tbody tr th {\n",
       "        vertical-align: top;\n",
       "    }\n",
       "\n",
       "    .dataframe thead th {\n",
       "        text-align: right;\n",
       "    }\n",
       "</style>\n",
       "<table border=\"1\" class=\"dataframe\">\n",
       "  <thead>\n",
       "    <tr style=\"text-align: right;\">\n",
       "      <th></th>\n",
       "      <th>Title</th>\n",
       "      <th>Surname</th>\n",
       "      <th>Rest</th>\n",
       "    </tr>\n",
       "    <tr>\n",
       "      <th>PassengerId</th>\n",
       "      <th></th>\n",
       "      <th></th>\n",
       "      <th></th>\n",
       "    </tr>\n",
       "  </thead>\n",
       "  <tbody>\n",
       "    <tr>\n",
       "      <th>1</th>\n",
       "      <td>Mr</td>\n",
       "      <td>Owen Harris</td>\n",
       "      <td>None</td>\n",
       "    </tr>\n",
       "  </tbody>\n",
       "</table>\n",
       "</div>"
      ],
      "text/plain": [
       "            Title       Surname  Rest\n",
       "PassengerId                          \n",
       "1              Mr   Owen Harris  None"
      ]
     },
     "execution_count": 58,
     "metadata": {},
     "output_type": "execute_result"
    }
   ],
   "source": [
    "df_name_2.head(1)"
   ]
  },
  {
   "cell_type": "code",
   "execution_count": 59,
   "metadata": {},
   "outputs": [
    {
     "data": {
      "text/plain": [
       "array([' Mr', ' Mrs', ' Miss', ' Master', ' Don', ' Rev', ' Dr', ' Mme',\n",
       "       ' Ms', ' Major', ' Lady', ' Sir', ' Mlle', ' Col', ' Capt',\n",
       "       ' the Countess', ' Jonkheer'], dtype=object)"
      ]
     },
     "execution_count": 59,
     "metadata": {},
     "output_type": "execute_result"
    }
   ],
   "source": [
    "df_name_2.Title.unique()"
   ]
  },
  {
   "cell_type": "markdown",
   "metadata": {},
   "source": [
    "We see that all of this title have whitespaces. Let's remove them."
   ]
  },
  {
   "cell_type": "code",
   "execution_count": 60,
   "metadata": {},
   "outputs": [],
   "source": [
    "df_name_2['Title'] = df_name_2.Title.str.strip()\n",
    "df_name_2['Surname'] = df_name_2.Surname.str.strip()\n",
    "df_name_2['Rest'] = df_name_2.Rest.str.strip()"
   ]
  },
  {
   "cell_type": "code",
   "execution_count": 62,
   "metadata": {},
   "outputs": [
    {
     "data": {
      "text/plain": [
       "<matplotlib.axes._subplots.AxesSubplot at 0x188abbd3ef0>"
      ]
     },
     "execution_count": 62,
     "metadata": {},
     "output_type": "execute_result"
    },
    {
     "data": {
      "image/png": "[encoded data removed]",
      "text/plain": [
       "<Figure size 1296x576 with 1 Axes>"
      ]
     },
     "metadata": {},
     "output_type": "display_data"
    }
   ],
   "source": [
    "pyplot_options(18, 8)\n",
    "sns.countplot(data=df_name_2, x = \"Title\", palette=\"Set1\")"
   ]
  },
  {
   "cell_type": "markdown",
   "metadata": {},
   "source": [
    "**Idea:** This feature will be helpful during Imputation process. My dataset have a lot of missing data in Age feature. With title variable I will calculate mean of age feature in all of titles and then I will impute NA values by that average."
   ]
  },
  {
   "cell_type": "markdown",
   "metadata": {},
   "source": [
    "We see that on the ship were some people with title different from Mr or Miss. In my opinion titles like: Mr, Miss, Mrs, Master, Ms we can drop. Rest of them may be important in my model. Let's check it in some visualization. "
   ]
  },
  {
   "cell_type": "code",
   "execution_count": 63,
   "metadata": {},
   "outputs": [],
   "source": [
    "normal_titles = ('Mr', 'Miss', 'Mrs', 'Master', 'Ms')\n",
    "unusual_titles = ('Dr', 'Rev', 'Mlle', 'Col', 'Capt', 'the Countess', 'Mme', 'Lady')"
   ]
  },
  {
   "cell_type": "code",
   "execution_count": 64,
   "metadata": {},
   "outputs": [],
   "source": [
    "df_plot = pd.merge(df_name_2, pd.DataFrame(df_train_new), how='inner', left_on='PassengerId', right_on='PassengerId') \n",
    "df_plot['NormalTitle'] = df_plot.Title.isin(normal_titles).astype(int)"
   ]
  },
  {
   "cell_type": "code",
   "execution_count": 65,
   "metadata": {
    "scrolled": true
   },
   "outputs": [
    {
     "data": {
      "text/html": [
       "<div>\n",
       "<style scoped>\n",
       "    .dataframe tbody tr th:only-of-type {\n",
       "        vertical-align: middle;\n",
       "    }\n",
       "\n",
       "    .dataframe tbody tr th {\n",
       "        vertical-align: top;\n",
       "    }\n",
       "\n",
       "    .dataframe thead th {\n",
       "        text-align: right;\n",
       "    }\n",
       "</style>\n",
       "<table border=\"1\" class=\"dataframe\">\n",
       "  <thead>\n",
       "    <tr style=\"text-align: right;\">\n",
       "      <th></th>\n",
       "      <th>Title</th>\n",
       "      <th>Surname</th>\n",
       "      <th>Rest</th>\n",
       "      <th>Survived</th>\n",
       "      <th>Pclass</th>\n",
       "      <th>Name</th>\n",
       "      <th>Sex</th>\n",
       "      <th>Age</th>\n",
       "      <th>SibSp</th>\n",
       "      <th>Parch</th>\n",
       "      <th>Ticket</th>\n",
       "      <th>Fare</th>\n",
       "      <th>Cabin</th>\n",
       "      <th>Embarked</th>\n",
       "      <th>NormalTitle</th>\n",
       "    </tr>\n",
       "    <tr>\n",
       "      <th>PassengerId</th>\n",
       "      <th></th>\n",
       "      <th></th>\n",
       "      <th></th>\n",
       "      <th></th>\n",
       "      <th></th>\n",
       "      <th></th>\n",
       "      <th></th>\n",
       "      <th></th>\n",
       "      <th></th>\n",
       "      <th></th>\n",
       "      <th></th>\n",
       "      <th></th>\n",
       "      <th></th>\n",
       "      <th></th>\n",
       "      <th></th>\n",
       "    </tr>\n",
       "  </thead>\n",
       "  <tbody>\n",
       "    <tr>\n",
       "      <th>1</th>\n",
       "      <td>Mr</td>\n",
       "      <td>Owen Harris</td>\n",
       "      <td>None</td>\n",
       "      <td>0</td>\n",
       "      <td>3</td>\n",
       "      <td>Braund, Mr. Owen Harris</td>\n",
       "      <td>male</td>\n",
       "      <td>22.0</td>\n",
       "      <td>1</td>\n",
       "      <td>0</td>\n",
       "      <td>A/5 21171</td>\n",
       "      <td>7.25</td>\n",
       "      <td>NaN</td>\n",
       "      <td>S</td>\n",
       "      <td>1</td>\n",
       "    </tr>\n",
       "  </tbody>\n",
       "</table>\n",
       "</div>"
      ],
      "text/plain": [
       "            Title      Surname  Rest  Survived  Pclass  \\\n",
       "PassengerId                                              \n",
       "1              Mr  Owen Harris  None         0       3   \n",
       "\n",
       "                                Name   Sex   Age  SibSp  Parch     Ticket  \\\n",
       "PassengerId                                                                 \n",
       "1            Braund, Mr. Owen Harris  male  22.0      1      0  A/5 21171   \n",
       "\n",
       "             Fare Cabin Embarked  NormalTitle  \n",
       "PassengerId                                    \n",
       "1            7.25   NaN        S            1  "
      ]
     },
     "execution_count": 65,
     "metadata": {},
     "output_type": "execute_result"
    }
   ],
   "source": [
    "df_plot.head(1)"
   ]
  },
  {
   "cell_type": "code",
   "execution_count": 67,
   "metadata": {},
   "outputs": [
    {
     "data": {
      "text/plain": [
       "<matplotlib.axes._subplots.AxesSubplot at 0x188abcb6eb8>"
      ]
     },
     "execution_count": 67,
     "metadata": {},
     "output_type": "execute_result"
    },
    {
     "data": {
      "image/png": "[encoded data removed]",
      "text/plain": [
       "<Figure size 1152x432 with 1 Axes>"
      ]
     },
     "metadata": {},
     "output_type": "display_data"
    }
   ],
   "source": [
    "pyplot_options(16, 6)\n",
    "sns.countplot(x='Title', hue = 'Survived', palette=\"Set1\", data = df_plot)"
   ]
  },
  {
   "cell_type": "code",
   "execution_count": 68,
   "metadata": {},
   "outputs": [],
   "source": [
    "df_plot['Youth'] = df_plot.Title.isin(['Miss', 'Master']).astype(int)"
   ]
  },
  {
   "cell_type": "code",
   "execution_count": 69,
   "metadata": {},
   "outputs": [
    {
     "data": {
      "text/plain": [
       "<matplotlib.axes._subplots.AxesSubplot at 0x188ac1f6e48>"
      ]
     },
     "execution_count": 69,
     "metadata": {},
     "output_type": "execute_result"
    },
    {
     "data": {
      "image/png": "[encoded data removed]",
      "text/plain": [
       "<Figure size 864x576 with 1 Axes>"
      ]
     },
     "metadata": {},
     "output_type": "display_data"
    }
   ],
   "source": [
    "pyplot_options(12, 8)\n",
    "sns.countplot(x='Youth', hue ='Survived', palette=\"Set1\", data=df_plot)"
   ]
  },
  {
   "cell_type": "code",
   "execution_count": 70,
   "metadata": {
    "scrolled": false
   },
   "outputs": [
    {
     "data": {
      "text/plain": [
       "<matplotlib.axes._subplots.AxesSubplot at 0x188ac1d9e10>"
      ]
     },
     "execution_count": 70,
     "metadata": {},
     "output_type": "execute_result"
    },
    {
     "data": {
      "image/png": "[encoded data removed]",
      "text/plain": [
       "<Figure size 864x576 with 1 Axes>"
      ]
     },
     "metadata": {},
     "output_type": "display_data"
    }
   ],
   "source": [
    "pyplot_options(12, 8)\n",
    "sns.countplot(x='NormalTitle', hue ='Survived', palette='Set1', data=df_plot)"
   ]
  },
  {
   "cell_type": "markdown",
   "metadata": {},
   "source": [
    "Summarizing column Name could be helpful during _Feature Imputation_ and may be in final model. I think that the best feature which i can pull from it is feature _Youth_ like I show above. Rest of column isn't so important - in my opinion of course. In _Feature Engineering_ step I will create function with all of operation which I've done above."
   ]
  },
  {
   "cell_type": "markdown",
   "metadata": {},
   "source": [
    "Moreover I create function for imputation Nan values form Age feature. Replacing Nan values by average of Mr, Mrs or Youth title will be ea good idea. More accurate than application of most frequent metric."
   ]
  },
  {
   "cell_type": "code",
   "execution_count": 26,
   "metadata": {},
   "outputs": [
    {
     "data": {
      "text/plain": [
       "False    714\n",
       "True     177\n",
       "Name: Age, dtype: int64"
      ]
     },
     "execution_count": 26,
     "metadata": {},
     "output_type": "execute_result"
    }
   ],
   "source": [
    "df_plot.Age.isnull().value_counts()"
   ]
  },
  {
   "cell_type": "code",
   "execution_count": 36,
   "metadata": {},
   "outputs": [
    {
     "name": "stdout",
     "output_type": "stream",
     "text": [
      "Youth Age: 18.0\n",
      "Adult Age: 34.0\n",
      "Mr Age: 32.0\n",
      "Mrs Age: 36.0\n"
     ]
    }
   ],
   "source": [
    "age_youth = np.round(df_plot[df_plot.Youth == 1]['Age'].mean())\n",
    "age_adult = np.round(df_plot[df_plot.Youth == 0]['Age'].mean())\n",
    "age_mr = np.round(df_plot[df_plot.Title == 'Mr']['Age'].mean())\n",
    "age_mrs = np.round(df_plot[df_plot.Title == 'Mrs']['Age'].mean())\n",
    "\n",
    "print(\"Youth Age:\", age_youth)\n",
    "print(\"Adult Age:\", age_adult)\n",
    "print(\"Mr Age:\", age_mr)\n",
    "print(\"Mrs Age:\", age_mrs)"
   ]
  },
  {
   "cell_type": "markdown",
   "metadata": {},
   "source": [
    "## Feature Engineering"
   ]
  },
  {
   "cell_type": "markdown",
   "metadata": {},
   "source": [
    "#### Set index: PassengerId"
   ]
  },
  {
   "cell_type": "code",
   "execution_count": 84,
   "metadata": {},
   "outputs": [],
   "source": [
    "def set_index_data(data):\n",
    "    data.set_index('PassengerId', inplace=True)\n",
    "    return print(\"Complete\")"
   ]
  },
  {
   "cell_type": "markdown",
   "metadata": {},
   "source": [
    "#### Convert features"
   ]
  },
  {
   "cell_type": "code",
   "execution_count": 85,
   "metadata": {},
   "outputs": [],
   "source": [
    "def convert_features(data):\n",
    "    df = data.copy()\n",
    "    df['Pclass'] = df['Pclass'].astype('category') \n",
    "    df['SibSp'] = df['SibSp'].astype('category')\n",
    "    df['Parch'] = df['Parch'].astype('category')\n",
    "    df['Sex'] = df['Sex'].map({'male':1, 'female':0}).astype('category')\n",
    "    df['Embarked'] = df['Embarked'].astype('category')\n",
    "    df['Fare'] = df['Fare'].round(2)\n",
    "    return df"
   ]
  },
  {
   "cell_type": "markdown",
   "metadata": {},
   "source": [
    "#### Feature: Age"
   ]
  },
  {
   "cell_type": "code",
   "execution_count": 86,
   "metadata": {},
   "outputs": [],
   "source": [
    "def feature_engineering_agebins(data, bins=[0, 6, 20, 30, 45, 60, 100], inplace=False):\n",
    "    data['AgeBins']=pd.cut(data.Age, bins=bins, right=False, labels=bins[:-1])\n",
    "    print(\"Complete\")\n",
    "    return data"
   ]
  },
  {
   "cell_type": "code",
   "execution_count": 87,
   "metadata": {},
   "outputs": [],
   "source": [
    "def imputation_age(df):\n",
    "    age_youth = np.round(df[df.Youth == 1]['Age'].mean())\n",
    "    age_mr = np.round(df[df.Title == 'Mr']['Age'].mean())\n",
    "    age_mrs = np.round(df[df.Title == 'Mrs']['Age'].mean())\n",
    "    age_adult = np.round(df[df.Youth == 0]['Age'].mean())\n",
    "    \n",
    "    df.loc[(df.Youth == 1) & (df.Age.isnull()), 'Age']  = age_youth\n",
    "    df.loc[(df.Title == 'Mr') & (df.Age.isnull()), 'Age']  = age_mr\n",
    "    df.loc[(df.Title == 'Mrs') & (df.Age.isnull()), 'Age']  = age_mrs\n",
    "    df.loc[(df.Youth == 0) & (df.Age.isnull()), 'Age']  = age_adult\n",
    "    return df"
   ]
  },
  {
   "cell_type": "markdown",
   "metadata": {},
   "source": [
    "#### Feature: Ticket"
   ]
  },
  {
   "cell_type": "code",
   "execution_count": 88,
   "metadata": {},
   "outputs": [],
   "source": [
    "def feature_passenger_ticket(data):\n",
    "    ticket_counts = data.Ticket.value_counts()\n",
    "    ticket_counts = pd.DataFrame({'Ticket':ticket_counts.index, \n",
    "                                  'PassengerTicket':ticket_counts}).reset_index().drop(['index'],axis=1) \n",
    "    data = pd.merge(data, ticket_counts, left_on='Ticket', right_on = 'Ticket', how='left')\n",
    "    data['PassengerTicketGT2'] = 0\n",
    "    data['PassengerTicketGT2'][data.PassengerTicket >= 2] = 1\n",
    "    print(\"Complete\")\n",
    "    return data"
   ]
  },
  {
   "cell_type": "markdown",
   "metadata": {},
   "source": [
    "#### Feature: Cabin"
   ]
  },
  {
   "cell_type": "code",
   "execution_count": 89,
   "metadata": {},
   "outputs": [],
   "source": [
    "def feature_passenger_cabin(data):\n",
    "    cabin_counts = data.Cabin.value_counts()\n",
    "    cabin_counts = pd.DataFrame({'Cabin':cabin_counts.index, \n",
    "                                 'PassengerCabin':cabin_counts})\\\n",
    "    .reset_index()\\\n",
    "    .drop(['index'],axis=1)\n",
    "    data = pd.merge(data, cabin_counts, left_on='Cabin', right_on = 'Cabin', how='left')\n",
    "    data.PassengerCabin[data.PassengerCabin.isna() == True] = 0\n",
    "    data['PassengerCabinGT2'] = 0\n",
    "    data['PassengerCabinGT2'][data.PassengerCabin >= 2] = 1\n",
    "    print(\"Complete\")\n",
    "    return data"
   ]
  },
  {
   "cell_type": "code",
   "execution_count": 90,
   "metadata": {},
   "outputs": [],
   "source": [
    "def feature_engineering_newcabin(data):\n",
    "    data['NewCabin']=char.ljust(np.array(data.Cabin.replace(np.nan, 'X')).astype(str), width=0)\n",
    "    print(\"Complete\")\n",
    "    return data"
   ]
  },
  {
   "cell_type": "markdown",
   "metadata": {},
   "source": [
    "#### Feature: Fare"
   ]
  },
  {
   "cell_type": "code",
   "execution_count": 91,
   "metadata": {},
   "outputs": [],
   "source": [
    "def feature_engineering_farebins(data, bins=[0, 10, 25, 50, 75, 1000]):\n",
    "    data['FareBins']=pd.cut(data.Fare, bins=bins, right=False, labels=bins[:-1])\n",
    "    print('Complete')\n",
    "    return data"
   ]
  },
  {
   "cell_type": "markdown",
   "metadata": {},
   "source": [
    "#### Feature: SibSp"
   ]
  },
  {
   "cell_type": "code",
   "execution_count": 92,
   "metadata": {},
   "outputs": [],
   "source": [
    "def feature_engineering_sibsp(data):\n",
    "    def sibsp_function(feature):\n",
    "        if feature == 0:\n",
    "            return '0'\n",
    "        elif feature == 1 or feature == 2: \n",
    "            return '1-2' \n",
    "        else: \n",
    "            return '>2'\n",
    "        \n",
    "    data['SibSp_0'] = data.apply(lambda df: sibsp_function(df['SibSp']), axis=1)\n",
    "    return data"
   ]
  },
  {
   "cell_type": "markdown",
   "metadata": {},
   "source": [
    "#### Feature: Parch"
   ]
  },
  {
   "cell_type": "code",
   "execution_count": 93,
   "metadata": {},
   "outputs": [],
   "source": [
    "def feature_engineering_parch(data):\n",
    "    def parch_function(feature):\n",
    "        if feature == 0:\n",
    "            return 0\n",
    "        else:\n",
    "            return 1\n",
    "\n",
    "    data['NewParch'] = data.apply(lambda df: parch_function(df['Parch']), axis=1)\n",
    "    return data"
   ]
  },
  {
   "cell_type": "markdown",
   "metadata": {},
   "source": [
    "#### Feature: Name"
   ]
  },
  {
   "cell_type": "code",
   "execution_count": 94,
   "metadata": {},
   "outputs": [],
   "source": [
    "def feature_engineering_name(data):\n",
    "    \n",
    "    # Copy input dataset\n",
    "    df = data.copy()\n",
    "    \n",
    "    # Split Name feature into several columns\n",
    "    df_name = df.Name.str.split(\",\", expand=True).rename(columns = lambda x: f\"Part_Name_{x+1}\")\n",
    "    df_name_2 = df_name.Part_Name_2.str.split(\".\", expand=True).rename(columns = lambda x: f\"Part_Name_{x+1}\")\n",
    "    \n",
    "    # Rename new features and remove whitespaces\n",
    "    df_name_2.rename(columns = {\"Part_Name_1\":\"Title\"}, inplace=True)\n",
    "    df_name_2['Title'] = df_name_2.Title.str.strip()\n",
    "    \n",
    "    # Create vector with normal titles\n",
    "    normal_titles = ('Mr', 'Miss', 'Mrs', 'Master', 'Ms')\n",
    "    \n",
    "    # Create new variables \n",
    "    df_name_2['NormalTitle'] = df_name_2.Title.isin(normal_titles).astype(int)\n",
    "    df_name_2['Youth'] = df_name_2['Title'].isin(['Miss', 'Master']).astype(int)\n",
    "    df_name_2 = df_name_2.loc[:, ('Title', 'NormalTitle', 'Youth')]\n",
    "    \n",
    "    df = pd.merge(df, df_name_2, how=\"inner\", on=\"PassengerId\")\n",
    "    return df"
   ]
  },
  {
   "cell_type": "markdown",
   "metadata": {},
   "source": [
    "## Modelling"
   ]
  },
  {
   "cell_type": "markdown",
   "metadata": {},
   "source": [
    "First one I will split df_train for training and testing datasets. On training dataset I will create new features and build the model and on testing dataset I will use the same functions to create features like on training dataset and check the performence of the model. "
   ]
  },
  {
   "cell_type": "markdown",
   "metadata": {},
   "source": [
    "Before split I use PassengerId like index variable. In my opinion PassengerId isn't necessary feature to increase performence the model - it's great feature for index my data."
   ]
  },
  {
   "cell_type": "markdown",
   "metadata": {},
   "source": [
    "### Load dataset"
   ]
  },
  {
   "cell_type": "code",
   "execution_count": 124,
   "metadata": {},
   "outputs": [],
   "source": [
    "df_train = pd.read_csv(\"../data/train.csv\")\n",
    "df_test = pd.read_csv(\"../data/test.csv\")\n",
    "df_sub = pd.read_csv(\"../data/gender_submission.csv\")"
   ]
  },
  {
   "cell_type": "markdown",
   "metadata": {},
   "source": [
    "### Train, test split"
   ]
  },
  {
   "cell_type": "code",
   "execution_count": 125,
   "metadata": {},
   "outputs": [],
   "source": [
    "from sklearn.model_selection import train_test_split"
   ]
  },
  {
   "cell_type": "markdown",
   "metadata": {},
   "source": [
    "```\n",
    "X_train = df_train.drop(['Survived'], axis=1)\n",
    "y_train = df_train.loc[:, 'Survived']\n",
    "X_test = df_test.copy()\n",
    "y_test = df_sub.loc[:, 'Survived']\n",
    "```"
   ]
  },
  {
   "cell_type": "code",
   "execution_count": 126,
   "metadata": {},
   "outputs": [],
   "source": [
    "X = df_train.copy().drop(['Survived'], axis=1)\n",
    "y = df_train['Survived']"
   ]
  },
  {
   "cell_type": "code",
   "execution_count": 127,
   "metadata": {},
   "outputs": [],
   "source": [
    "np.random.seed(23)\n",
    "X_train, X_test, y_train, y_test = train_test_split(X, y, test_size=0.3, random_state=42)"
   ]
  },
  {
   "cell_type": "code",
   "execution_count": 128,
   "metadata": {},
   "outputs": [
    {
     "name": "stdout",
     "output_type": "stream",
     "text": [
      "Shape of training features:  (623, 11)\n",
      "Shape of testing features:  (268, 11)\n",
      "Shape of training target:  (623,)\n",
      "Shape of testing target:  (268,)\n"
     ]
    }
   ],
   "source": [
    "print('Shape of training features: ', X_train.shape)\n",
    "print('Shape of testing features: ', X_test.shape)\n",
    "print('Shape of training target: ', y_train.shape)\n",
    "print('Shape of testing target: ', y_test.shape)"
   ]
  },
  {
   "cell_type": "markdown",
   "metadata": {},
   "source": [
    "### Feature Engineering"
   ]
  },
  {
   "cell_type": "code",
   "execution_count": 129,
   "metadata": {},
   "outputs": [
    {
     "name": "stdout",
     "output_type": "stream",
     "text": [
      "Complete\n",
      "Complete\n",
      "Complete\n",
      "Complete\n"
     ]
    }
   ],
   "source": [
    "set_index_data(X_train)\n",
    "set_index_data(X_test)\n",
    "set_index_data(df_test)\n",
    "set_index_data(df_train)"
   ]
  },
  {
   "cell_type": "code",
   "execution_count": 130,
   "metadata": {},
   "outputs": [],
   "source": [
    "X_train=convert_features(X_train)\n",
    "X_test=convert_features(X_test)\n",
    "df_test = convert_features(df_test)\n",
    "df_train = convert_features(df_train)"
   ]
  },
  {
   "cell_type": "code",
   "execution_count": 131,
   "metadata": {},
   "outputs": [],
   "source": [
    "X_train=feature_engineering_name(X_train)\n",
    "X_test=feature_engineering_name(X_test)\n",
    "df_test=feature_engineering_name(df_test)\n",
    "df_train=feature_engineering_name(df_train)"
   ]
  },
  {
   "cell_type": "code",
   "execution_count": 132,
   "metadata": {},
   "outputs": [],
   "source": [
    "X_train = imputation_age(X_train)\n",
    "X_test = imputation_age(X_test)\n",
    "df_train = imputation_age(df_train)\n",
    "df_test = imputation_age(df_test)"
   ]
  },
  {
   "cell_type": "code",
   "execution_count": 133,
   "metadata": {},
   "outputs": [
    {
     "name": "stdout",
     "output_type": "stream",
     "text": [
      "Complete\n",
      "Complete\n",
      "Complete\n",
      "Complete\n"
     ]
    }
   ],
   "source": [
    "X_train=feature_engineering_agebins(X_train, inplace=False)\n",
    "X_test=feature_engineering_agebins(X_test, inplace=False)\n",
    "df_test=feature_engineering_agebins(df_test, inplace=False)\n",
    "df_train=feature_engineering_agebins(df_train, inplace=False)"
   ]
  },
  {
   "cell_type": "code",
   "execution_count": 134,
   "metadata": {},
   "outputs": [
    {
     "name": "stdout",
     "output_type": "stream",
     "text": [
      "Complete\n",
      "Complete\n",
      "Complete\n",
      "Complete\n"
     ]
    }
   ],
   "source": [
    "X_train=feature_passenger_ticket(X_train)\n",
    "X_test=feature_passenger_ticket(X_test)\n",
    "df_test=feature_passenger_ticket(df_test)\n",
    "df_train=feature_passenger_ticket(df_train)"
   ]
  },
  {
   "cell_type": "code",
   "execution_count": 135,
   "metadata": {},
   "outputs": [
    {
     "name": "stdout",
     "output_type": "stream",
     "text": [
      "Complete\n",
      "Complete\n",
      "Complete\n",
      "Complete\n"
     ]
    }
   ],
   "source": [
    "X_train=feature_passenger_cabin(X_train)\n",
    "X_test=feature_passenger_cabin(X_test)\n",
    "df_test=feature_passenger_cabin(df_test)\n",
    "df_train=feature_passenger_cabin(df_train)"
   ]
  },
  {
   "cell_type": "code",
   "execution_count": 136,
   "metadata": {},
   "outputs": [
    {
     "name": "stdout",
     "output_type": "stream",
     "text": [
      "Complete\n",
      "Complete\n",
      "Complete\n",
      "Complete\n"
     ]
    }
   ],
   "source": [
    "X_train=feature_engineering_newcabin(X_train)\n",
    "X_test=feature_engineering_newcabin(X_test)\n",
    "df_test=feature_engineering_newcabin(df_test)\n",
    "df_train=feature_engineering_newcabin(df_train)"
   ]
  },
  {
   "cell_type": "code",
   "execution_count": 137,
   "metadata": {},
   "outputs": [
    {
     "name": "stdout",
     "output_type": "stream",
     "text": [
      "Complete\n",
      "Complete\n",
      "Complete\n",
      "Complete\n"
     ]
    }
   ],
   "source": [
    "X_train=feature_engineering_farebins(X_train)\n",
    "X_test=feature_engineering_farebins(X_test)\n",
    "df_test=feature_engineering_farebins(df_test)\n",
    "df_train=feature_engineering_farebins(df_train)"
   ]
  },
  {
   "cell_type": "code",
   "execution_count": 138,
   "metadata": {},
   "outputs": [],
   "source": [
    "X_train=feature_engineering_sibsp(X_train)\n",
    "X_test=feature_engineering_sibsp(X_test)\n",
    "df_test=feature_engineering_sibsp(df_test)\n",
    "df_train=feature_engineering_sibsp(df_train)"
   ]
  },
  {
   "cell_type": "code",
   "execution_count": 139,
   "metadata": {},
   "outputs": [],
   "source": [
    "X_train=feature_engineering_parch(X_train)\n",
    "X_test=feature_engineering_parch(X_test)\n",
    "df_test=feature_engineering_parch(df_test)\n",
    "df_train=feature_engineering_parch(df_train)"
   ]
  },
  {
   "cell_type": "code",
   "execution_count": 140,
   "metadata": {},
   "outputs": [
    {
     "data": {
      "text/html": [
       "<div>\n",
       "<style scoped>\n",
       "    .dataframe tbody tr th:only-of-type {\n",
       "        vertical-align: middle;\n",
       "    }\n",
       "\n",
       "    .dataframe tbody tr th {\n",
       "        vertical-align: top;\n",
       "    }\n",
       "\n",
       "    .dataframe thead th {\n",
       "        text-align: right;\n",
       "    }\n",
       "</style>\n",
       "<table border=\"1\" class=\"dataframe\">\n",
       "  <thead>\n",
       "    <tr style=\"text-align: right;\">\n",
       "      <th></th>\n",
       "      <th>Pclass</th>\n",
       "      <th>Name</th>\n",
       "      <th>Sex</th>\n",
       "      <th>Age</th>\n",
       "      <th>SibSp</th>\n",
       "      <th>Parch</th>\n",
       "      <th>Ticket</th>\n",
       "      <th>Fare</th>\n",
       "      <th>Cabin</th>\n",
       "      <th>Embarked</th>\n",
       "      <th>...</th>\n",
       "      <th>Youth</th>\n",
       "      <th>AgeBins</th>\n",
       "      <th>PassengerTicket</th>\n",
       "      <th>PassengerTicketGT2</th>\n",
       "      <th>PassengerCabin</th>\n",
       "      <th>PassengerCabinGT2</th>\n",
       "      <th>NewCabin</th>\n",
       "      <th>FareBins</th>\n",
       "      <th>SibSp_0</th>\n",
       "      <th>NewParch</th>\n",
       "    </tr>\n",
       "  </thead>\n",
       "  <tbody>\n",
       "    <tr>\n",
       "      <th>0</th>\n",
       "      <td>1</td>\n",
       "      <td>Dodge, Master. Washington</td>\n",
       "      <td>1</td>\n",
       "      <td>4.0</td>\n",
       "      <td>0</td>\n",
       "      <td>2</td>\n",
       "      <td>33638</td>\n",
       "      <td>81.86</td>\n",
       "      <td>A34</td>\n",
       "      <td>S</td>\n",
       "      <td>...</td>\n",
       "      <td>1</td>\n",
       "      <td>0</td>\n",
       "      <td>1</td>\n",
       "      <td>0</td>\n",
       "      <td>1.0</td>\n",
       "      <td>0</td>\n",
       "      <td>A</td>\n",
       "      <td>75</td>\n",
       "      <td>0</td>\n",
       "      <td>1</td>\n",
       "    </tr>\n",
       "    <tr>\n",
       "      <th>1</th>\n",
       "      <td>3</td>\n",
       "      <td>Mitkoff, Mr. Mito</td>\n",
       "      <td>1</td>\n",
       "      <td>32.0</td>\n",
       "      <td>0</td>\n",
       "      <td>0</td>\n",
       "      <td>349221</td>\n",
       "      <td>7.90</td>\n",
       "      <td>NaN</td>\n",
       "      <td>S</td>\n",
       "      <td>...</td>\n",
       "      <td>0</td>\n",
       "      <td>30</td>\n",
       "      <td>1</td>\n",
       "      <td>0</td>\n",
       "      <td>0.0</td>\n",
       "      <td>0</td>\n",
       "      <td>X</td>\n",
       "      <td>0</td>\n",
       "      <td>0</td>\n",
       "      <td>0</td>\n",
       "    </tr>\n",
       "    <tr>\n",
       "      <th>2</th>\n",
       "      <td>3</td>\n",
       "      <td>Johnson, Miss. Eleanor Ileen</td>\n",
       "      <td>0</td>\n",
       "      <td>1.0</td>\n",
       "      <td>1</td>\n",
       "      <td>1</td>\n",
       "      <td>347742</td>\n",
       "      <td>11.13</td>\n",
       "      <td>NaN</td>\n",
       "      <td>S</td>\n",
       "      <td>...</td>\n",
       "      <td>1</td>\n",
       "      <td>0</td>\n",
       "      <td>3</td>\n",
       "      <td>1</td>\n",
       "      <td>0.0</td>\n",
       "      <td>0</td>\n",
       "      <td>X</td>\n",
       "      <td>10</td>\n",
       "      <td>1-2</td>\n",
       "      <td>1</td>\n",
       "    </tr>\n",
       "    <tr>\n",
       "      <th>3</th>\n",
       "      <td>2</td>\n",
       "      <td>West, Mr. Edwy Arthur</td>\n",
       "      <td>1</td>\n",
       "      <td>36.0</td>\n",
       "      <td>1</td>\n",
       "      <td>2</td>\n",
       "      <td>C.A. 34651</td>\n",
       "      <td>27.75</td>\n",
       "      <td>NaN</td>\n",
       "      <td>S</td>\n",
       "      <td>...</td>\n",
       "      <td>0</td>\n",
       "      <td>30</td>\n",
       "      <td>3</td>\n",
       "      <td>1</td>\n",
       "      <td>0.0</td>\n",
       "      <td>0</td>\n",
       "      <td>X</td>\n",
       "      <td>25</td>\n",
       "      <td>1-2</td>\n",
       "      <td>1</td>\n",
       "    </tr>\n",
       "    <tr>\n",
       "      <th>4</th>\n",
       "      <td>2</td>\n",
       "      <td>Hart, Mr. Benjamin</td>\n",
       "      <td>1</td>\n",
       "      <td>43.0</td>\n",
       "      <td>1</td>\n",
       "      <td>1</td>\n",
       "      <td>F.C.C. 13529</td>\n",
       "      <td>26.25</td>\n",
       "      <td>NaN</td>\n",
       "      <td>S</td>\n",
       "      <td>...</td>\n",
       "      <td>0</td>\n",
       "      <td>30</td>\n",
       "      <td>2</td>\n",
       "      <td>1</td>\n",
       "      <td>0.0</td>\n",
       "      <td>0</td>\n",
       "      <td>X</td>\n",
       "      <td>25</td>\n",
       "      <td>1-2</td>\n",
       "      <td>1</td>\n",
       "    </tr>\n",
       "  </tbody>\n",
       "</table>\n",
       "<p>5 rows × 22 columns</p>\n",
       "</div>"
      ],
      "text/plain": [
       "  Pclass                          Name Sex   Age SibSp Parch        Ticket  \\\n",
       "0      1     Dodge, Master. Washington   1   4.0     0     2         33638   \n",
       "1      3             Mitkoff, Mr. Mito   1  32.0     0     0        349221   \n",
       "2      3  Johnson, Miss. Eleanor Ileen   0   1.0     1     1        347742   \n",
       "3      2         West, Mr. Edwy Arthur   1  36.0     1     2    C.A. 34651   \n",
       "4      2            Hart, Mr. Benjamin   1  43.0     1     1  F.C.C. 13529   \n",
       "\n",
       "    Fare Cabin Embarked  ... Youth  AgeBins  PassengerTicket  \\\n",
       "0  81.86   A34        S  ...     1        0                1   \n",
       "1   7.90   NaN        S  ...     0       30                1   \n",
       "2  11.13   NaN        S  ...     1        0                3   \n",
       "3  27.75   NaN        S  ...     0       30                3   \n",
       "4  26.25   NaN        S  ...     0       30                2   \n",
       "\n",
       "  PassengerTicketGT2  PassengerCabin  PassengerCabinGT2  NewCabin  FareBins  \\\n",
       "0                  0             1.0                  0         A        75   \n",
       "1                  0             0.0                  0         X         0   \n",
       "2                  1             0.0                  0         X        10   \n",
       "3                  1             0.0                  0         X        25   \n",
       "4                  1             0.0                  0         X        25   \n",
       "\n",
       "  SibSp_0 NewParch  \n",
       "0       0        1  \n",
       "1       0        0  \n",
       "2     1-2        1  \n",
       "3     1-2        1  \n",
       "4     1-2        1  \n",
       "\n",
       "[5 rows x 22 columns]"
      ]
     },
     "execution_count": 140,
     "metadata": {},
     "output_type": "execute_result"
    }
   ],
   "source": [
    "X_train.head()"
   ]
  },
  {
   "cell_type": "code",
   "execution_count": 141,
   "metadata": {},
   "outputs": [
    {
     "data": {
      "text/plain": [
       "Index(['Pclass', 'Name', 'Sex', 'Age', 'SibSp', 'Parch', 'Ticket', 'Fare',\n",
       "       'Cabin', 'Embarked', 'Title', 'NormalTitle', 'Youth', 'AgeBins',\n",
       "       'PassengerTicket', 'PassengerTicketGT2', 'PassengerCabin',\n",
       "       'PassengerCabinGT2', 'NewCabin', 'FareBins', 'SibSp_0', 'NewParch'],\n",
       "      dtype='object')"
      ]
     },
     "execution_count": 141,
     "metadata": {},
     "output_type": "execute_result"
    }
   ],
   "source": [
    "X_train.columns"
   ]
  },
  {
   "cell_type": "code",
   "execution_count": 142,
   "metadata": {},
   "outputs": [],
   "source": [
    "def convert_features_all(data):\n",
    "    columns_category = ('Pclass', 'SibSp', 'Parch', 'Embarked', 'Title', 'AgeBins', 'PassengerTicket', 'PassengerCabin', 'NewCabin', 'FareBins', 'SibSp_0')\n",
    "    columns_float = ('Sex', 'Age', 'Fare', 'NormalTitle', 'Youth', 'PassengerTicketGT2', 'PassengerCabinGT2', 'NewParch')\n",
    "    for i in columns_category:\n",
    "        data[i] = data[i].astype('category')\n",
    "        \n",
    "    for i in columns_float:\n",
    "        data[i] = data[i].astype('float64')\n",
    "        \n",
    "    return data"
   ]
  },
  {
   "cell_type": "code",
   "execution_count": 143,
   "metadata": {},
   "outputs": [],
   "source": [
    "X_train = convert_features_all(X_train)\n",
    "X_test = convert_features_all(X_test)\n",
    "df_train = convert_features_all(df_train)\n",
    "df_test = convert_features_all(df_test)"
   ]
  },
  {
   "cell_type": "code",
   "execution_count": 144,
   "metadata": {},
   "outputs": [],
   "source": [
    "X_train = X_train.drop(['Name', 'Ticket',  'Cabin'], axis=1)\n",
    "X_test = X_test.drop(['Name', 'Ticket',  'Cabin'], axis=1)\n",
    "df_test = df_test.drop(['Name', 'Ticket', 'Cabin'], axis=1)\n",
    "df_train = df_train.drop(['Name', 'Ticket',  'Cabin'], axis=1)"
   ]
  },
  {
   "cell_type": "code",
   "execution_count": 145,
   "metadata": {},
   "outputs": [
    {
     "data": {
      "text/plain": [
       "Pclass                category\n",
       "Sex                    float64\n",
       "Age                    float64\n",
       "SibSp                 category\n",
       "Parch                 category\n",
       "Fare                   float64\n",
       "Embarked              category\n",
       "Title                 category\n",
       "NormalTitle            float64\n",
       "Youth                  float64\n",
       "AgeBins               category\n",
       "PassengerTicket       category\n",
       "PassengerTicketGT2     float64\n",
       "PassengerCabin        category\n",
       "PassengerCabinGT2      float64\n",
       "NewCabin              category\n",
       "FareBins              category\n",
       "SibSp_0               category\n",
       "NewParch               float64\n",
       "dtype: object"
      ]
     },
     "execution_count": 145,
     "metadata": {},
     "output_type": "execute_result"
    }
   ],
   "source": [
    "df_test.dtypes"
   ]
  },
  {
   "cell_type": "markdown",
   "metadata": {},
   "source": [
    "### Categorical Variable"
   ]
  },
  {
   "cell_type": "code",
   "execution_count": 146,
   "metadata": {},
   "outputs": [],
   "source": [
    "from sklearn.impute import SimpleImputer "
   ]
  },
  {
   "cell_type": "code",
   "execution_count": 147,
   "metadata": {},
   "outputs": [],
   "source": [
    "def na_values(data, feature):\n",
    "    return data[data[feature].isna() == True].shape[0]\n",
    "\n",
    "def number_of_class(data, feature):\n",
    "    return len(data[feature].unique())"
   ]
  },
  {
   "cell_type": "code",
   "execution_count": 148,
   "metadata": {},
   "outputs": [],
   "source": [
    "def isin_feature(df_train, df_test, feature):\n",
    "    unique_values = df_train[feature].unique()\n",
    "    data_test = df_test.copy()\n",
    "    data_test.loc[data_test[feature].isin(unique_values), feature] = data_test[feature]\n",
    "    data_test.loc[~data_test[feature].isin(unique_values), feature] = np.nan\n",
    "    return data_test"
   ]
  },
  {
   "cell_type": "code",
   "execution_count": 149,
   "metadata": {},
   "outputs": [
    {
     "name": "stdout",
     "output_type": "stream",
     "text": [
      "NA values in FareBins feature: 1\n",
      "Number of class in FareBins feature: 6\n",
      "\n",
      "NA values in AgeBins feature: 0\n",
      "Number of class in AgeBins feature: 6\n",
      "\n",
      "NA values in Pclass feature: 0\n",
      "Number of class in Pclass feature: 3\n",
      "\n",
      "NA values in Sex feature: 0\n",
      "Number of class in Sex feature: 2\n",
      "\n",
      "NA values in SibSp feature: 0\n",
      "Number of class in SibSp feature: 7\n",
      "\n",
      "NA values in Parch feature: 0\n",
      "Number of class in Parch feature: 8\n",
      "\n",
      "NA values in Embarked feature: 0\n",
      "Number of class in Embarked feature: 3\n",
      "\n",
      "NA values in NewCabin feature: 0\n",
      "Number of class in NewCabin feature: 8\n",
      "\n",
      "NA values in PassengerCabin feature: 0\n",
      "Number of class in PassengerCabin feature: 4\n",
      "\n",
      "NA values in PassengerCabinGT2 feature: 0\n",
      "Number of class in PassengerCabinGT2 feature: 2\n",
      "\n",
      "NA values in PassengerTicket feature: 0\n",
      "Number of class in PassengerTicket feature: 5\n",
      "\n",
      "NA values in PassengerTicketGT2 feature: 0\n",
      "Number of class in PassengerTicketGT2 feature: 2\n",
      "\n",
      "NA values in SibSp_0 feature: 0\n",
      "Number of class in SibSp_0 feature: 3\n",
      "\n"
     ]
    }
   ],
   "source": [
    "features = ['FareBins', 'AgeBins', 'Pclass', 'Sex', 'SibSp', 'Parch', 'Embarked', 'NewCabin', 'PassengerCabin', 'PassengerCabinGT2', 'PassengerTicket', 'PassengerTicketGT2', 'SibSp_0']\n",
    "for i in features:\n",
    "    print(\"NA values in {} feature: {}\".format(i, na_values(df_test, i)))\n",
    "    print(\"Number of class in {} feature: {}\".format(i, number_of_class(df_test, i)))\n",
    "    print()"
   ]
  },
  {
   "cell_type": "code",
   "execution_count": 150,
   "metadata": {},
   "outputs": [],
   "source": [
    "X_test = isin_feature(X_train, X_test, 'Parch')\n",
    "df_test = isin_feature(df_train, df_test, 'Parch')"
   ]
  },
  {
   "cell_type": "code",
   "execution_count": 151,
   "metadata": {},
   "outputs": [],
   "source": [
    "categorical_variables = ('Pclass', 'SibSp', 'Parch', 'Embarked', 'AgeBins', 'PassengerTicket', 'PassengerCabin', 'NewCabin', 'FareBins', 'SibSp_0')\n",
    "categorical_imputer=SimpleImputer(missing_values=np.nan, strategy='most_frequent')\n",
    "categorical_imputer.fit(X_train.loc[:, categorical_variables])\n",
    "X_train.loc[:, categorical_variables] = categorical_imputer.transform(X_train.loc[:, categorical_variables])\n",
    "X_test.loc[:, categorical_variables] = categorical_imputer.transform(X_test.loc[:, categorical_variables])\n",
    "df_test.loc[:, categorical_variables] = categorical_imputer.transform(df_test.loc[:, categorical_variables])\n",
    "df_train.loc[:, categorical_variables] = categorical_imputer.transform(df_train.loc[:, categorical_variables])"
   ]
  },
  {
   "cell_type": "markdown",
   "metadata": {},
   "source": [
    "#### One Hot Encoding"
   ]
  },
  {
   "cell_type": "code",
   "execution_count": 154,
   "metadata": {},
   "outputs": [
    {
     "data": {
      "text/plain": [
       "Pclass                category\n",
       "Sex                    float64\n",
       "Age                    float64\n",
       "SibSp                 category\n",
       "Parch                 category\n",
       "Fare                   float64\n",
       "Embarked              category\n",
       "Title                 category\n",
       "NormalTitle            float64\n",
       "Youth                  float64\n",
       "AgeBins               category\n",
       "PassengerTicket       category\n",
       "PassengerTicketGT2     float64\n",
       "PassengerCabin        category\n",
       "PassengerCabinGT2      float64\n",
       "NewCabin              category\n",
       "FareBins              category\n",
       "SibSp_0               category\n",
       "NewParch               float64\n",
       "dtype: object"
      ]
     },
     "execution_count": 154,
     "metadata": {},
     "output_type": "execute_result"
    }
   ],
   "source": [
    "X_train.dtypes"
   ]
  },
  {
   "cell_type": "code",
   "execution_count": 153,
   "metadata": {},
   "outputs": [],
   "source": [
    "X_train = convert_features_all(X_train)\n",
    "X_test = convert_features_all(X_test)\n",
    "df_train = convert_features_all(df_train)\n",
    "df_test = convert_features_all(df_test)"
   ]
  },
  {
   "cell_type": "code",
   "execution_count": 159,
   "metadata": {},
   "outputs": [],
   "source": [
    "from sklearn.preprocessing import OneHotEncoder\n",
    "\n",
    "encoder_features = ['FareBins', 'AgeBins', 'Pclass', 'SibSp', 'Parch', 'Embarked', 'Title', 'NewCabin', 'PassengerCabin', 'PassengerTicket', 'SibSp_0']\n",
    "encoder = OneHotEncoder(handle_unknown='ignore')\n",
    "encoder.fit(df_train.loc[:, encoder_features])\n",
    "encoding_features_train=encoder.transform(X_train.loc[:, encoder_features]).toarray()\n",
    "encoding_features_test=encoder.transform(X_test.loc[:, encoder_features]).toarray()\n",
    "encoding_features_df_test=encoder.transform(df_test.loc[:, encoder_features]).toarray()\n",
    "encoding_features_df_train=encoder.transform(df_train.loc[:, encoder_features]).toarray()"
   ]
  },
  {
   "cell_type": "code",
   "execution_count": 160,
   "metadata": {},
   "outputs": [],
   "source": [
    "X_train.drop(columns=encoder_features, inplace=True)\n",
    "X_test.drop(columns=encoder_features, inplace=True)\n",
    "df_test.drop(columns=encoder_features, inplace=True)\n",
    "df_train.drop(columns=encoder_features, inplace=True)"
   ]
  },
  {
   "cell_type": "code",
   "execution_count": 161,
   "metadata": {},
   "outputs": [],
   "source": [
    "df_encoding_train = pd.DataFrame(encoding_features_train, index=X_train.index)\n",
    "df_encoding_train.columns = encoder.get_feature_names(encoder_features)\n",
    "\n",
    "df_encoding_test = pd.DataFrame(encoding_features_test, index=X_test.index)\n",
    "df_encoding_test.columns = encoder.get_feature_names(encoder_features)\n",
    "\n",
    "df_encoding_df_test = pd.DataFrame(encoding_features_df_test, index=df_test.index)\n",
    "df_encoding_df_test.columns = encoder.get_feature_names(encoder_features)\n",
    "\n",
    "df_encoding_df_train = pd.DataFrame(encoding_features_df_train, index=df_train.index)\n",
    "df_encoding_df_train.columns = encoder.get_feature_names(encoder_features)"
   ]
  },
  {
   "cell_type": "code",
   "execution_count": 162,
   "metadata": {},
   "outputs": [],
   "source": [
    "X_train=pd.concat([X_train, df_encoding_train], join='outer', axis=1, ignore_index=False)\n",
    "X_test=pd.concat([X_test, df_encoding_test], join='outer', axis=1, ignore_index=False)\n",
    "df_test=pd.concat([df_test, df_encoding_df_test], join='outer', axis=1, ignore_index=False)\n",
    "df_train=pd.concat([df_train, df_encoding_df_train], join='outer', axis=1, ignore_index=False)"
   ]
  },
  {
   "cell_type": "code",
   "execution_count": 163,
   "metadata": {},
   "outputs": [
    {
     "name": "stdout",
     "output_type": "stream",
     "text": [
      "Shape of train data  (623, 80)\n",
      "Shape of test data  (268, 80)\n",
      "Shape of test data  (418, 80)\n",
      "Shape of training data  (891, 81)\n"
     ]
    }
   ],
   "source": [
    "print(\"Shape of train data \", X_train.shape)\n",
    "print(\"Shape of test data \", X_test.shape)\n",
    "print(\"Shape of test data \", df_test.shape)\n",
    "print(\"Shape of training data \", df_train.shape)"
   ]
  },
  {
   "cell_type": "code",
   "execution_count": 165,
   "metadata": {},
   "outputs": [
    {
     "data": {
      "text/plain": [
       "Index(['Survived', 'Sex', 'Age', 'Fare', 'NormalTitle', 'Youth',\n",
       "       'PassengerTicketGT2', 'PassengerCabinGT2', 'NewParch', 'FareBins_0',\n",
       "       'FareBins_10', 'FareBins_25', 'FareBins_50', 'FareBins_75', 'AgeBins_0',\n",
       "       'AgeBins_6', 'AgeBins_20', 'AgeBins_30', 'AgeBins_45', 'AgeBins_60',\n",
       "       'Pclass_1', 'Pclass_2', 'Pclass_3', 'SibSp_0', 'SibSp_1', 'SibSp_2',\n",
       "       'SibSp_3', 'SibSp_4', 'SibSp_5', 'SibSp_8', 'Parch_0', 'Parch_1',\n",
       "       'Parch_2', 'Parch_3', 'Parch_4', 'Parch_5', 'Parch_6', 'Embarked_C',\n",
       "       'Embarked_Q', 'Embarked_S', 'Title_Capt', 'Title_Col', 'Title_Don',\n",
       "       'Title_Dr', 'Title_Jonkheer', 'Title_Lady', 'Title_Major',\n",
       "       'Title_Master', 'Title_Miss', 'Title_Mlle', 'Title_Mme', 'Title_Mr',\n",
       "       'Title_Mrs', 'Title_Ms', 'Title_Rev', 'Title_Sir', 'Title_the Countess',\n",
       "       'NewCabin_A', 'NewCabin_B', 'NewCabin_C', 'NewCabin_D', 'NewCabin_E',\n",
       "       'NewCabin_F', 'NewCabin_G', 'NewCabin_T', 'NewCabin_X',\n",
       "       'PassengerCabin_0.0', 'PassengerCabin_1.0', 'PassengerCabin_2.0',\n",
       "       'PassengerCabin_3.0', 'PassengerCabin_4.0', 'PassengerTicket_1',\n",
       "       'PassengerTicket_2', 'PassengerTicket_3', 'PassengerTicket_4',\n",
       "       'PassengerTicket_5', 'PassengerTicket_6', 'PassengerTicket_7',\n",
       "       'SibSp_0_0', 'SibSp_0_1-2', 'SibSp_0_>2'],\n",
       "      dtype='object')"
      ]
     },
     "execution_count": 165,
     "metadata": {},
     "output_type": "execute_result"
    }
   ],
   "source": [
    "df_train.columns"
   ]
  },
  {
   "cell_type": "code",
   "execution_count": 166,
   "metadata": {},
   "outputs": [
    {
     "data": {
      "text/plain": [
       "(891, 81)"
      ]
     },
     "execution_count": 166,
     "metadata": {},
     "output_type": "execute_result"
    }
   ],
   "source": [
    "df_train.shape"
   ]
  },
  {
   "cell_type": "markdown",
   "metadata": {},
   "source": [
    "### Cross validation for feature elimination"
   ]
  },
  {
   "cell_type": "markdown",
   "metadata": {},
   "source": [
    "#### Recursive feature elimination"
   ]
  },
  {
   "cell_type": "code",
   "execution_count": 167,
   "metadata": {},
   "outputs": [],
   "source": [
    "from sklearn.svm import SVC\n",
    "from sklearn.model_selection import StratifiedKFold\n",
    "from sklearn.feature_selection import RFECV"
   ]
  },
  {
   "cell_type": "code",
   "execution_count": 168,
   "metadata": {},
   "outputs": [
    {
     "name": "stdout",
     "output_type": "stream",
     "text": [
      "Optimal number of features: 6\n"
     ]
    }
   ],
   "source": [
    "model = SVC(kernel=\"linear\")\n",
    "rfecv = RFECV(estimator=model, step=1, cv=StratifiedKFold(5), scoring='accuracy')\n",
    "\n",
    "rfecv.fit(X_train, y_train)\n",
    "print(\"Optimal number of features: %d\" % rfecv.n_features_)"
   ]
  },
  {
   "cell_type": "code",
   "execution_count": 169,
   "metadata": {},
   "outputs": [
    {
     "data": {
      "text/html": [
       "<div>\n",
       "<style scoped>\n",
       "    .dataframe tbody tr th:only-of-type {\n",
       "        vertical-align: middle;\n",
       "    }\n",
       "\n",
       "    .dataframe tbody tr th {\n",
       "        vertical-align: top;\n",
       "    }\n",
       "\n",
       "    .dataframe thead th {\n",
       "        text-align: right;\n",
       "    }\n",
       "</style>\n",
       "<table border=\"1\" class=\"dataframe\">\n",
       "  <thead>\n",
       "    <tr style=\"text-align: right;\">\n",
       "      <th></th>\n",
       "      <th>Columns</th>\n",
       "      <th>Ranking</th>\n",
       "    </tr>\n",
       "  </thead>\n",
       "  <tbody>\n",
       "    <tr>\n",
       "      <th>0</th>\n",
       "      <td>Sex</td>\n",
       "      <td>1</td>\n",
       "    </tr>\n",
       "    <tr>\n",
       "      <th>33</th>\n",
       "      <td>Parch_4</td>\n",
       "      <td>1</td>\n",
       "    </tr>\n",
       "    <tr>\n",
       "      <th>34</th>\n",
       "      <td>Parch_5</td>\n",
       "      <td>1</td>\n",
       "    </tr>\n",
       "    <tr>\n",
       "      <th>46</th>\n",
       "      <td>Title_Master</td>\n",
       "      <td>1</td>\n",
       "    </tr>\n",
       "    <tr>\n",
       "      <th>60</th>\n",
       "      <td>NewCabin_E</td>\n",
       "      <td>1</td>\n",
       "    </tr>\n",
       "    <tr>\n",
       "      <th>79</th>\n",
       "      <td>SibSp_0_&gt;2</td>\n",
       "      <td>1</td>\n",
       "    </tr>\n",
       "  </tbody>\n",
       "</table>\n",
       "</div>"
      ],
      "text/plain": [
       "         Columns  Ranking\n",
       "0            Sex        1\n",
       "33       Parch_4        1\n",
       "34       Parch_5        1\n",
       "46  Title_Master        1\n",
       "60    NewCabin_E        1\n",
       "79    SibSp_0_>2        1"
      ]
     },
     "execution_count": 169,
     "metadata": {},
     "output_type": "execute_result"
    }
   ],
   "source": [
    "rfecv_results = pd.DataFrame({'Columns':X_train.columns, 'Ranking':rfecv.ranking_})\n",
    "rfecv_results[rfecv_results.Ranking == 1]"
   ]
  },
  {
   "cell_type": "code",
   "execution_count": 170,
   "metadata": {},
   "outputs": [],
   "source": [
    "feature_selection_array = np.array(rfecv_results[rfecv_results.Ranking == 1].Columns)"
   ]
  },
  {
   "cell_type": "code",
   "execution_count": 171,
   "metadata": {},
   "outputs": [
    {
     "data": {
      "image/png": "[encoded data removed]",
      "text/plain": [
       "<Figure size 864x576 with 1 Axes>"
      ]
     },
     "metadata": {},
     "output_type": "display_data"
    }
   ],
   "source": [
    "pyplot_options(12, 8)\n",
    "plt.xlabel(\"Number of features selected\")\n",
    "plt.ylabel(\"Cross validation score (nb of correct classifications)\")\n",
    "plt.plot(range(1, len(rfecv.grid_scores_) + 1), rfecv.grid_scores_)\n",
    "plt.show()"
   ]
  },
  {
   "cell_type": "markdown",
   "metadata": {},
   "source": [
    "#### Feature Importance"
   ]
  },
  {
   "cell_type": "code",
   "execution_count": 172,
   "metadata": {},
   "outputs": [],
   "source": [
    "from sklearn.ensemble import ExtraTreesClassifier\n",
    "from sklearn.feature_selection import SelectFromModel\n",
    "\n",
    "clf = ExtraTreesClassifier(n_estimators=50)\n",
    "clf = clf.fit(X_train, y_train)"
   ]
  },
  {
   "cell_type": "code",
   "execution_count": 182,
   "metadata": {},
   "outputs": [
    {
     "data": {
      "text/html": [
       "<div>\n",
       "<style scoped>\n",
       "    .dataframe tbody tr th:only-of-type {\n",
       "        vertical-align: middle;\n",
       "    }\n",
       "\n",
       "    .dataframe tbody tr th {\n",
       "        vertical-align: top;\n",
       "    }\n",
       "\n",
       "    .dataframe thead th {\n",
       "        text-align: right;\n",
       "    }\n",
       "</style>\n",
       "<table border=\"1\" class=\"dataframe\">\n",
       "  <thead>\n",
       "    <tr style=\"text-align: right;\">\n",
       "      <th></th>\n",
       "      <th>Features</th>\n",
       "      <th>Importance</th>\n",
       "    </tr>\n",
       "  </thead>\n",
       "  <tbody>\n",
       "    <tr>\n",
       "      <th>2</th>\n",
       "      <td>Fare</td>\n",
       "      <td>0.129016</td>\n",
       "    </tr>\n",
       "    <tr>\n",
       "      <th>1</th>\n",
       "      <td>Age</td>\n",
       "      <td>0.104671</td>\n",
       "    </tr>\n",
       "    <tr>\n",
       "      <th>0</th>\n",
       "      <td>Sex</td>\n",
       "      <td>0.100185</td>\n",
       "    </tr>\n",
       "    <tr>\n",
       "      <th>50</th>\n",
       "      <td>Title_Mr</td>\n",
       "      <td>0.096857</td>\n",
       "    </tr>\n",
       "    <tr>\n",
       "      <th>21</th>\n",
       "      <td>Pclass_3</td>\n",
       "      <td>0.040641</td>\n",
       "    </tr>\n",
       "    <tr>\n",
       "      <th>51</th>\n",
       "      <td>Title_Mrs</td>\n",
       "      <td>0.038881</td>\n",
       "    </tr>\n",
       "    <tr>\n",
       "      <th>4</th>\n",
       "      <td>Youth</td>\n",
       "      <td>0.033214</td>\n",
       "    </tr>\n",
       "    <tr>\n",
       "      <th>64</th>\n",
       "      <td>NewCabin_X</td>\n",
       "      <td>0.021679</td>\n",
       "    </tr>\n",
       "    <tr>\n",
       "      <th>38</th>\n",
       "      <td>Embarked_S</td>\n",
       "      <td>0.020201</td>\n",
       "    </tr>\n",
       "    <tr>\n",
       "      <th>47</th>\n",
       "      <td>Title_Miss</td>\n",
       "      <td>0.019605</td>\n",
       "    </tr>\n",
       "  </tbody>\n",
       "</table>\n",
       "</div>"
      ],
      "text/plain": [
       "      Features  Importance\n",
       "2         Fare    0.129016\n",
       "1          Age    0.104671\n",
       "0          Sex    0.100185\n",
       "50    Title_Mr    0.096857\n",
       "21    Pclass_3    0.040641\n",
       "51   Title_Mrs    0.038881\n",
       "4        Youth    0.033214\n",
       "64  NewCabin_X    0.021679\n",
       "38  Embarked_S    0.020201\n",
       "47  Title_Miss    0.019605"
      ]
     },
     "execution_count": 182,
     "metadata": {},
     "output_type": "execute_result"
    }
   ],
   "source": [
    "importances = pd.DataFrame({'Features':X_train.columns, 'Importance':clf.feature_importances_})\n",
    "importances.sort_values(by='Importance', ascending=False).head(10)"
   ]
  },
  {
   "cell_type": "markdown",
   "metadata": {},
   "source": [
    "#### Principal Component Analysis"
   ]
  },
  {
   "cell_type": "code",
   "execution_count": 230,
   "metadata": {},
   "outputs": [],
   "source": [
    "from sklearn.decomposition import PCA\n",
    "\n",
    "pca = PCA(n_components=2)\n",
    "fit = pca.fit(X_train)"
   ]
  },
  {
   "cell_type": "code",
   "execution_count": 231,
   "metadata": {},
   "outputs": [
    {
     "name": "stdout",
     "output_type": "stream",
     "text": [
      "Explained Variance: [0.9344935  0.06340565]\n"
     ]
    }
   ],
   "source": [
    "print(\"Explained Variance: %s\" % fit.explained_variance_ratio_)\n",
    "#print(fit.components_)"
   ]
  },
  {
   "cell_type": "code",
   "execution_count": 233,
   "metadata": {},
   "outputs": [
    {
     "data": {
      "text/html": [
       "<div>\n",
       "<style scoped>\n",
       "    .dataframe tbody tr th:only-of-type {\n",
       "        vertical-align: middle;\n",
       "    }\n",
       "\n",
       "    .dataframe tbody tr th {\n",
       "        vertical-align: top;\n",
       "    }\n",
       "\n",
       "    .dataframe thead th {\n",
       "        text-align: right;\n",
       "    }\n",
       "</style>\n",
       "<table border=\"1\" class=\"dataframe\">\n",
       "  <thead>\n",
       "    <tr style=\"text-align: right;\">\n",
       "      <th></th>\n",
       "      <th>Components</th>\n",
       "      <th>Explanined Varianve</th>\n",
       "    </tr>\n",
       "  </thead>\n",
       "  <tbody>\n",
       "    <tr>\n",
       "      <th>0</th>\n",
       "      <td>1</td>\n",
       "      <td>0.934493</td>\n",
       "    </tr>\n",
       "    <tr>\n",
       "      <th>1</th>\n",
       "      <td>2</td>\n",
       "      <td>0.063406</td>\n",
       "    </tr>\n",
       "  </tbody>\n",
       "</table>\n",
       "</div>"
      ],
      "text/plain": [
       "   Components  Explanined Varianve\n",
       "0           1             0.934493\n",
       "1           2             0.063406"
      ]
     },
     "execution_count": 233,
     "metadata": {},
     "output_type": "execute_result"
    }
   ],
   "source": [
    "pd.DataFrame({'Components': np.arange(1, 3), 'Explanined Varianve': fit.explained_variance_ratio_})"
   ]
  },
  {
   "cell_type": "code",
   "execution_count": 236,
   "metadata": {},
   "outputs": [],
   "source": [
    "X_pca_train = pca.transform(X_train)\n",
    "X_pca_test = pca.transform(X_test)"
   ]
  },
  {
   "cell_type": "markdown",
   "metadata": {},
   "source": [
    "### Model I: Logistic Regression"
   ]
  },
  {
   "cell_type": "code",
   "execution_count": 192,
   "metadata": {},
   "outputs": [],
   "source": [
    "X_train_new = X_train[feature_selection_array]\n",
    "X_test_new = X_test[feature_selection_array]"
   ]
  },
  {
   "cell_type": "code",
   "execution_count": 238,
   "metadata": {},
   "outputs": [
    {
     "data": {
      "text/plain": [
       "Index(['Sex', 'Age', 'Fare', 'NormalTitle', 'Youth', 'PassengerTicketGT2',\n",
       "       'PassengerCabinGT2', 'NewParch', 'FareBins_0', 'FareBins_10',\n",
       "       'FareBins_25', 'FareBins_50', 'FareBins_75', 'AgeBins_0', 'AgeBins_6',\n",
       "       'AgeBins_20', 'AgeBins_30', 'AgeBins_45', 'AgeBins_60', 'Pclass_1',\n",
       "       'Pclass_2', 'Pclass_3', 'SibSp_0', 'SibSp_1', 'SibSp_2', 'SibSp_3',\n",
       "       'SibSp_4', 'SibSp_5', 'SibSp_8', 'Parch_0', 'Parch_1', 'Parch_2',\n",
       "       'Parch_3', 'Parch_4', 'Parch_5', 'Parch_6', 'Embarked_C', 'Embarked_Q',\n",
       "       'Embarked_S', 'Title_Capt', 'Title_Col', 'Title_Don', 'Title_Dr',\n",
       "       'Title_Jonkheer', 'Title_Lady', 'Title_Major', 'Title_Master',\n",
       "       'Title_Miss', 'Title_Mlle', 'Title_Mme', 'Title_Mr', 'Title_Mrs',\n",
       "       'Title_Ms', 'Title_Rev', 'Title_Sir', 'Title_the Countess',\n",
       "       'NewCabin_A', 'NewCabin_B', 'NewCabin_C', 'NewCabin_D', 'NewCabin_E',\n",
       "       'NewCabin_F', 'NewCabin_G', 'NewCabin_T', 'NewCabin_X',\n",
       "       'PassengerCabin_0.0', 'PassengerCabin_1.0', 'PassengerCabin_2.0',\n",
       "       'PassengerCabin_3.0', 'PassengerCabin_4.0', 'PassengerTicket_1',\n",
       "       'PassengerTicket_2', 'PassengerTicket_3', 'PassengerTicket_4',\n",
       "       'PassengerTicket_5', 'PassengerTicket_6', 'PassengerTicket_7',\n",
       "       'SibSp_0_0', 'SibSp_0_1-2', 'SibSp_0_>2'],\n",
       "      dtype='object')"
      ]
     },
     "execution_count": 238,
     "metadata": {},
     "output_type": "execute_result"
    }
   ],
   "source": [
    "X_train.columns"
   ]
  },
  {
   "cell_type": "code",
   "execution_count": 244,
   "metadata": {},
   "outputs": [],
   "source": [
    "my_features = np.array(['Sex', \"AgeBins_0\", \"AgeBins_6\", \"AgeBins_20\", \"AgeBins_30\", \"AgeBins_45\", \"AgeBins_60\", \"Pclass_3\", \"Parch_0\", \"PassengerCabinGT2\", \n",
    "                        \"PassengerTicketGT2\", \"SibSp_0\", 'SibSp_1'])\n",
    "X_train_my = X_train[my_features]\n",
    "X_test_my = X_test[my_features]"
   ]
  },
  {
   "cell_type": "code",
   "execution_count": 264,
   "metadata": {},
   "outputs": [],
   "source": [
    "my_features2 = np.array(['Sex', 'Parch_4', 'Parch_5', 'SibSp_0_>2', 'Title_Master', 'NewCabin_E', 'Fare', 'Youth', \"AgeBins_0\", \"AgeBins_6\", \"AgeBins_20\", \"AgeBins_30\", \"AgeBins_45\", \"AgeBins_60\"])\n",
    "X_train_my2 = X_train[my_features]\n",
    "X_test_my2 = X_test[my_features]"
   ]
  },
  {
   "cell_type": "code",
   "execution_count": 250,
   "metadata": {},
   "outputs": [
    {
     "data": {
      "text/plain": [
       "Index(['Sex', 'Parch_4', 'Parch_5', 'Title_Master', 'NewCabin_E',\n",
       "       'SibSp_0_>2'],\n",
       "      dtype='object')"
      ]
     },
     "execution_count": 250,
     "metadata": {},
     "output_type": "execute_result"
    }
   ],
   "source": [
    "X_train_new.columns"
   ]
  },
  {
   "cell_type": "code",
   "execution_count": 194,
   "metadata": {},
   "outputs": [],
   "source": [
    "from sklearn.model_selection import GridSearchCV\n",
    "from sklearn.linear_model import LogisticRegression\n",
    "\n",
    "def logistic_regression_grid_search(X_train, X_test, y_train, y_test):\n",
    "\n",
    "    grid_param = [\n",
    "        {'C' : range(0, 11, 1),\n",
    "        'fit_intercept' : [True, False],\n",
    "        'penalty' : ['l2'],\n",
    "        'solver' : ['newton-cg', 'lbfgs', 'liblinear'],\n",
    "        'class_weight' : ['balanced']},\n",
    "        {'C' : range(0, 11, 1),\n",
    "        'fit_intercept' : [True, False],\n",
    "        'penalty' : ['l1'],\n",
    "        'solver' : ['liblinear'],\n",
    "        'class_weight' : ['balanced']},\n",
    "        {'C' : range(0, 11, 1),\n",
    "        'fit_intercept' : [True, False],\n",
    "        'penalty' : ['elasticnet'],\n",
    "        'solver' : ['saga'],\n",
    "        'class_weight' : ['balanced'],\n",
    "        'l1_ratio' : [0.1, 0.3, 0.5, 0.7]}]\n",
    "\n",
    "    scores = ['accuracy', 'precision', 'recall']\n",
    "    best_params = []\n",
    "\n",
    "    for score in scores:\n",
    "        model_logistic = LogisticRegression()\n",
    "        model_logistic_gs = GridSearchCV(estimator=model_logistic, param_grid=grid_param, cv=5, scoring=score)\n",
    "        model_logistic_gs.fit(X_train, y_train)\n",
    "        print(\"Score: %s\" % score)\n",
    "        print(\"Best parameters:\", model_logistic_gs.best_params_)\n",
    "        print()\n",
    "        print(\"Training score: %s\" % model_logistic_gs.score(X_train, y_train))\n",
    "        print(\"Testing score: %s\" % model_logistic_gs.score(X_test, y_test))\n",
    "        best_params = np.append(best_params, model_logistic_gs.best_params_)\n",
    "    return best_params\n",
    "    "
   ]
  },
  {
   "cell_type": "code",
   "execution_count": 195,
   "metadata": {},
   "outputs": [
    {
     "name": "stdout",
     "output_type": "stream",
     "text": [
      "Score: accuracy\n",
      "Best parameters: {'C': 5, 'class_weight': 'balanced', 'fit_intercept': True, 'penalty': 'l2', 'solver': 'newton-cg'}\n",
      "\n",
      "Training score: 0.826645264847512\n",
      "Testing score: 0.832089552238806\n",
      "Score: precision\n",
      "Best parameters: {'C': 1, 'class_weight': 'balanced', 'fit_intercept': False, 'penalty': 'l2', 'solver': 'newton-cg'}\n",
      "\n",
      "Training score: 0.868421052631579\n",
      "Testing score: 0.8\n",
      "Score: recall\n",
      "Best parameters: {'C': 1, 'class_weight': 'balanced', 'fit_intercept': True, 'penalty': 'l2', 'solver': 'newton-cg'}\n",
      "\n",
      "Training score: 0.7445887445887446\n",
      "Testing score: 0.7747747747747747\n"
     ]
    }
   ],
   "source": [
    "best_params_lr_new = logistic_regression_grid_search(X_train_new, X_test_new, y_train, y_test)"
   ]
  },
  {
   "cell_type": "code",
   "execution_count": 196,
   "metadata": {},
   "outputs": [
    {
     "name": "stdout",
     "output_type": "stream",
     "text": [
      "Score: accuracy\n",
      "Best parameters: {'C': 2, 'class_weight': 'balanced', 'fit_intercept': True, 'penalty': 'l1', 'solver': 'liblinear'}\n",
      "\n",
      "Training score: 0.812199036918138\n",
      "Testing score: 0.835820895522388\n",
      "Score: precision\n",
      "Best parameters: {'C': 2, 'class_weight': 'balanced', 'fit_intercept': True, 'penalty': 'l1', 'solver': 'liblinear'}\n",
      "\n",
      "Training score: 0.7522123893805309\n",
      "Testing score: 0.8130841121495327\n",
      "Score: recall\n",
      "Best parameters: {'C': 4, 'class_weight': 'balanced', 'fit_intercept': False, 'penalty': 'l2', 'solver': 'newton-cg'}\n",
      "\n",
      "Training score: 0.7359307359307359\n",
      "Testing score: 0.7837837837837838\n"
     ]
    }
   ],
   "source": [
    "best_params_lr_my = logistic_regression_grid_search(X_train_my, X_test_my, y_train, y_test)"
   ]
  },
  {
   "cell_type": "code",
   "execution_count": 261,
   "metadata": {},
   "outputs": [
    {
     "name": "stdout",
     "output_type": "stream",
     "text": [
      "Score: accuracy\n",
      "Best parameters: {'C': 9, 'class_weight': 'balanced', 'fit_intercept': False, 'penalty': 'l2', 'solver': 'newton-cg'}\n",
      "\n",
      "Training score: 0.8282504012841091\n",
      "Testing score: 0.8246268656716418\n",
      "Score: precision\n",
      "Best parameters: {'C': 9, 'class_weight': 'balanced', 'fit_intercept': False, 'penalty': 'l2', 'solver': 'newton-cg'}\n",
      "\n",
      "Training score: 0.7719298245614035\n",
      "Testing score: 0.7962962962962963\n",
      "Score: recall\n",
      "Best parameters: {'C': 1, 'class_weight': 'balanced', 'fit_intercept': False, 'l1_ratio': 0.1, 'penalty': 'elasticnet', 'solver': 'saga'}\n",
      "\n",
      "Training score: 0.9090909090909091\n",
      "Testing score: 0.9369369369369369\n"
     ]
    }
   ],
   "source": [
    "best_params_lr_my2 = logistic_regression_grid_search(X_train_my2, X_test_my2, y_train, y_test)"
   ]
  },
  {
   "cell_type": "code",
   "execution_count": 241,
   "metadata": {},
   "outputs": [
    {
     "name": "stdout",
     "output_type": "stream",
     "text": [
      "Score: accuracy\n",
      "Best parameters: {'C': 1, 'class_weight': 'balanced', 'fit_intercept': False, 'penalty': 'l2', 'solver': 'newton-cg'}\n",
      "\n",
      "Training score: 0.6853932584269663\n",
      "Testing score: 0.6940298507462687\n",
      "Score: precision\n",
      "Best parameters: {'C': 1, 'class_weight': 'balanced', 'fit_intercept': False, 'penalty': 'l2', 'solver': 'newton-cg'}\n",
      "\n",
      "Training score: 0.5935828877005348\n",
      "Testing score: 0.6883116883116883\n",
      "Score: recall\n",
      "Best parameters: {'C': 1, 'class_weight': 'balanced', 'fit_intercept': True, 'penalty': 'l2', 'solver': 'newton-cg'}\n",
      "\n",
      "Training score: 0.48917748917748916\n",
      "Testing score: 0.5045045045045045\n"
     ]
    }
   ],
   "source": [
    "best_params_lr_pca = logistic_regression_grid_search(X_pca_train, X_pca_test, y_train, y_test)"
   ]
  },
  {
   "cell_type": "code",
   "execution_count": 201,
   "metadata": {},
   "outputs": [],
   "source": [
    "# Save Results\n",
    "import pickle\n",
    "\n",
    "filename1 = \"logistic_reg_new_20200612.sav\"\n",
    "filename2 = \"logistic_reg_my_20200612.sav\"\n",
    "\n",
    "pickle.dump(best_params_lr_new, open(filename1, 'wb'))\n",
    "pickle.dump(best_params_lr_my, open(filename2, 'wb'))"
   ]
  },
  {
   "cell_type": "markdown",
   "metadata": {},
   "source": [
    "### Model II: Random Forest"
   ]
  },
  {
   "cell_type": "code",
   "execution_count": 199,
   "metadata": {},
   "outputs": [],
   "source": [
    "from sklearn.ensemble import RandomForestClassifier\n",
    "\n",
    "def random_forest_grid_search(X_train, X_test, y_train, y_test):\n",
    "    grid_param = [\n",
    "        {'n_estimators' : range(10, 110, 10),\n",
    "        'criterion' : ['gini', 'entropy'],\n",
    "        'min_samples_split' : [0.005, 0.01, 0.02, 0.05, 0.1, 0.2],\n",
    "        'min_samples_split' : [0.005, 0.01, 0.02, 0.05, 0.1, 0.2],\n",
    "        'bootstrap' : [True, False],\n",
    "        'random_state' : [123],\n",
    "        'class_weight' : ['balanced', 'balanced_subsample']}]\n",
    "\n",
    "    scores = ['accuracy']#, 'precision', 'recall']\n",
    "    best_params = []\n",
    "\n",
    "    for score in scores:\n",
    "        random_forest_model = RandomForestClassifier()\n",
    "        random_forest_model_gs = GridSearchCV(estimator=random_forest_model, param_grid=grid_param, cv=5, scoring=score)\n",
    "        random_forest_model_gs.fit(X_train, y_train)\n",
    "        print(\"Score: %s\" % score)\n",
    "        print(\"Best parameters:\", random_forest_model_gs.best_params_)\n",
    "        print()\n",
    "        print(\"Training score: %s\" % random_forest_model_gs.score(X_train, y_train))\n",
    "        print(\"Testing score: %s\" % random_forest_model_gs.score(X_test, y_test))\n",
    "        best_params = np.append(best_params, random_forest_model_gs.best_params_)\n",
    "    return best_params\n",
    "\n"
   ]
  },
  {
   "cell_type": "code",
   "execution_count": 200,
   "metadata": {},
   "outputs": [
    {
     "name": "stdout",
     "output_type": "stream",
     "text": [
      "Score: accuracy\n",
      "Best parameters: {'bootstrap': False, 'class_weight': 'balanced', 'criterion': 'gini', 'min_samples_split': 0.05, 'n_estimators': 20, 'random_state': 123}\n",
      "\n",
      "Training score: 0.826645264847512\n",
      "Testing score: 0.832089552238806\n"
     ]
    }
   ],
   "source": [
    "best_params_rf_new = random_forest_grid_search(X_train_new, X_test_new, y_train, y_test)"
   ]
  },
  {
   "cell_type": "code",
   "execution_count": 202,
   "metadata": {},
   "outputs": [
    {
     "name": "stdout",
     "output_type": "stream",
     "text": [
      "Score: accuracy\n",
      "Best parameters: {'bootstrap': True, 'class_weight': 'balanced_subsample', 'criterion': 'entropy', 'min_samples_split': 0.005, 'n_estimators': 20, 'random_state': 123}\n",
      "\n",
      "Training score: 0.8426966292134831\n",
      "Testing score: 0.8208955223880597\n"
     ]
    }
   ],
   "source": [
    "best_params_rf_my = random_forest_grid_search(X_train_my, X_test_my, y_train, y_test)"
   ]
  },
  {
   "cell_type": "code",
   "execution_count": 203,
   "metadata": {},
   "outputs": [],
   "source": [
    "filename1 = \"random_forest_new_20200612.sav\"\n",
    "filename2 = \"random_forest_my_20200612.sav\"\n",
    "\n",
    "pickle.dump(best_params_rf_new, open(filename1, 'wb'))\n",
    "pickle.dump(best_params_rf_my, open(filename2, 'wb'))"
   ]
  },
  {
   "cell_type": "markdown",
   "metadata": {},
   "source": [
    "### Model III: AdaBoost"
   ]
  },
  {
   "cell_type": "code",
   "execution_count": 204,
   "metadata": {},
   "outputs": [],
   "source": [
    "from sklearn.ensemble import AdaBoostClassifier\n",
    "import time as t\n",
    "\n",
    "def adaboost_grid_search(X_train, X_test, y_train, y_test):\n",
    "    grid_param = [\n",
    "        {'n_estimators' : range(10, 110, 10),\n",
    "        'learning_rate' : [ 0.01, 0.05, 0.1],\n",
    "        'algorithm' : ['SAMME', 'SAMME.R']}]\n",
    "\n",
    "    scores = ['accuracy', 'precision', 'recall']\n",
    "    best_params = []\n",
    "    start = t.time()\n",
    "    \n",
    "    for score in scores:\n",
    "        adaboost_model = AdaBoostClassifier()\n",
    "        adaboost_model_gs = GridSearchCV(estimator=adaboost_model, param_grid=grid_param, cv=5, scoring=score)\n",
    "        adaboost_model_gs.fit(X_train, y_train)\n",
    "        print(\"Score: %s\" % score)\n",
    "        print(\"Best parameters:\", adaboost_model_gs.best_params_)\n",
    "        print()\n",
    "        print(\"Training score: %s\" % adaboost_model_gs.score(X_train, y_train))\n",
    "        print(\"Testing score: %s\" % adaboost_model_gs.score(X_test, y_test))\n",
    "        print()\n",
    "        best_params = np.append(best_params, adaboost_model_gs.best_params_)\n",
    "    end = t.time() - start\n",
    "    print(\"Evaluation time: %s\" % end)\n",
    "    return best_params\n"
   ]
  },
  {
   "cell_type": "code",
   "execution_count": 205,
   "metadata": {},
   "outputs": [
    {
     "name": "stdout",
     "output_type": "stream",
     "text": [
      "Score: accuracy\n",
      "Best parameters: {'algorithm': 'SAMME.R', 'learning_rate': 0.1, 'n_estimators': 100}\n",
      "\n",
      "Training score: 0.826645264847512\n",
      "Testing score: 0.832089552238806\n",
      "\n",
      "Score: precision\n",
      "Best parameters: {'algorithm': 'SAMME.R', 'learning_rate': 0.1, 'n_estimators': 100}\n",
      "\n",
      "Training score: 0.7782805429864253\n",
      "Testing score: 0.8173076923076923\n",
      "\n",
      "Score: recall\n",
      "Best parameters: {'algorithm': 'SAMME.R', 'learning_rate': 0.1, 'n_estimators': 100}\n",
      "\n",
      "Training score: 0.7445887445887446\n",
      "Testing score: 0.7657657657657657\n",
      "\n",
      "Evaluation time: 85.71195363998413\n"
     ]
    }
   ],
   "source": [
    "best_params_ab_new = adaboost_grid_search(X_train_new, X_test_new, y_train, y_test)"
   ]
  },
  {
   "cell_type": "code",
   "execution_count": 206,
   "metadata": {},
   "outputs": [
    {
     "name": "stdout",
     "output_type": "stream",
     "text": [
      "Score: accuracy\n",
      "Best parameters: {'algorithm': 'SAMME.R', 'learning_rate': 0.1, 'n_estimators': 100}\n",
      "\n",
      "Training score: 0.797752808988764\n",
      "Testing score: 0.7985074626865671\n",
      "\n",
      "Score: precision\n",
      "Best parameters: {'algorithm': 'SAMME.R', 'learning_rate': 0.1, 'n_estimators': 100}\n",
      "\n",
      "Training score: 0.7375565610859729\n",
      "Testing score: 0.7766990291262136\n",
      "\n",
      "Score: recall\n",
      "Best parameters: {'algorithm': 'SAMME.R', 'learning_rate': 0.1, 'n_estimators': 60}\n",
      "\n",
      "Training score: 0.7056277056277056\n",
      "Testing score: 0.7207207207207207\n",
      "\n",
      "Evaluation time: 87.92478489875793\n"
     ]
    }
   ],
   "source": [
    "best_params_ab_my = adaboost_grid_search(X_train_my, X_test_my, y_train, y_test)"
   ]
  },
  {
   "cell_type": "code",
   "execution_count": 207,
   "metadata": {},
   "outputs": [],
   "source": [
    "filename1 = \"adaboost_new_20200612.sav\"\n",
    "filename2 = \"adaboost_my_20200612.sav\"\n",
    "\n",
    "pickle.dump(best_params_ab_new, open(filename1, 'wb'))\n",
    "pickle.dump(best_params_ab_my, open(filename2, 'wb'))"
   ]
  },
  {
   "cell_type": "markdown",
   "metadata": {},
   "source": [
    "### Model IV: Gradient Boosting"
   ]
  },
  {
   "cell_type": "code",
   "execution_count": 208,
   "metadata": {},
   "outputs": [],
   "source": [
    "from sklearn.ensemble import GradientBoostingClassifier\n",
    "import time as t\n",
    "\n",
    "def gradient_boosting_grid_search(X_train, X_test, y_train, y_test):\n",
    "    grid_param = [\n",
    "        {'n_estimators' : range(10, 110, 10),\n",
    "        'learning_rate' : [ 0.01, 0.05, 0.1]}]\n",
    "\n",
    "    scores = ['accuracy', 'precision', 'recall']\n",
    "    best_params = []\n",
    "    start = t.time()\n",
    "    \n",
    "    for score in scores:\n",
    "        gradient_boosting_model = GradientBoostingClassifier()\n",
    "        gradient_boosting_model_gs = GridSearchCV(estimator=gradient_boosting_model, param_grid=grid_param, cv=5, scoring=score)\n",
    "        gradient_boosting_model_gs.fit(X_train, y_train)\n",
    "        print(\"Score: %s\" % score)\n",
    "        print(\"Best parameters:\", gradient_boosting_model_gs.best_params_)\n",
    "        print()\n",
    "        print(\"Training score: %s\" % gradient_boosting_model_gs.score(X_train, y_train))\n",
    "        print(\"Testing score: %s\" % gradient_boosting_model_gs.score(X_test, y_test))\n",
    "        print()\n",
    "        best_params = np.append(best_params, gradient_boosting_model_gs.best_params_)\n",
    "    end = t.time() - start\n",
    "    print(\"Evaluation time: %s\" % end)\n",
    "    return best_params"
   ]
  },
  {
   "cell_type": "code",
   "execution_count": 211,
   "metadata": {},
   "outputs": [
    {
     "name": "stdout",
     "output_type": "stream",
     "text": [
      "Score: accuracy\n",
      "Best parameters: {'learning_rate': 0.01, 'n_estimators': 50}\n",
      "\n",
      "Training score: 0.8234349919743178\n",
      "Testing score: 0.832089552238806\n",
      "\n",
      "Score: precision\n",
      "Best parameters: {'learning_rate': 0.01, 'n_estimators': 30}\n",
      "\n",
      "Training score: 1.0\n",
      "Testing score: 1.0\n",
      "\n",
      "Score: recall\n",
      "Best parameters: {'learning_rate': 0.05, 'n_estimators': 30}\n",
      "\n",
      "Training score: 0.7445887445887446\n",
      "Testing score: 0.7657657657657657\n",
      "\n",
      "Evaluation time: 19.68588614463806\n"
     ]
    }
   ],
   "source": [
    "best_params_gb_new = gradient_boosting_grid_search(X_train_new, X_test_new, y_train, y_test)"
   ]
  },
  {
   "cell_type": "code",
   "execution_count": 212,
   "metadata": {},
   "outputs": [
    {
     "name": "stdout",
     "output_type": "stream",
     "text": [
      "Score: accuracy\n",
      "Best parameters: {'learning_rate': 0.1, 'n_estimators': 90}\n",
      "\n",
      "Training score: 0.8459069020866774\n",
      "Testing score: 0.832089552238806\n",
      "\n",
      "Score: precision\n",
      "Best parameters: {'learning_rate': 0.01, 'n_estimators': 50}\n",
      "\n",
      "Training score: 0.9669421487603306\n",
      "Testing score: 0.9193548387096774\n",
      "\n",
      "Score: recall\n",
      "Best parameters: {'learning_rate': 0.1, 'n_estimators': 90}\n",
      "\n",
      "Training score: 0.696969696969697\n",
      "Testing score: 0.7027027027027027\n",
      "\n",
      "Evaluation time: 21.507022619247437\n"
     ]
    }
   ],
   "source": [
    "best_params_gb_my = gradient_boosting_grid_search(X_train_my, X_test_my, y_train, y_test)"
   ]
  },
  {
   "cell_type": "code",
   "execution_count": 213,
   "metadata": {},
   "outputs": [],
   "source": [
    "filename1 = \"gradboost_new_20200612.sav\"\n",
    "filename2 = \"gradboost_my_20200612.sav\"\n",
    "\n",
    "pickle.dump(best_params_gb_new, open(filename1, 'wb'))\n",
    "pickle.dump(best_params_gb_my, open(filename2, 'wb'))"
   ]
  },
  {
   "cell_type": "markdown",
   "metadata": {},
   "source": [
    "### Model V: XGBoost"
   ]
  },
  {
   "cell_type": "code",
   "execution_count": 214,
   "metadata": {},
   "outputs": [],
   "source": [
    "from xgboost import XGBClassifier\n",
    "\n",
    "def xgboosting_grid_search(X_train, X_test, y_train, y_test):\n",
    "    grid_param = [\n",
    "        {'n_estimators' : range(10, 110, 10),\n",
    "        'learning_rate' : [ 0.01, 0.05, 0.1],\n",
    "        'booster': ['gbtree', 'gblinear', 'dart'],\n",
    "        'max_depth':[4,6,8,10,12],\n",
    "        'min_child_weight':[4,5,6],\n",
    "        'gamma': [0.1, 0.2, 0.3, 0.4, 0.5]}]\n",
    "\n",
    "    scores = ['accuracy']#, 'precision', 'recall']\n",
    "    best_params = []\n",
    "    start = t.time()\n",
    "    \n",
    "    for score in scores:\n",
    "        xgb_model = XGBClassifier()\n",
    "        xgb_model_gs = GridSearchCV(estimator=xgb_model, param_grid=grid_param, cv=5, scoring=score)\n",
    "        xgb_model_gs.fit(X_train, y_train)\n",
    "        print(\"Score: %s\" % score)\n",
    "        print(\"Best parameters:\", xgb_model_gs.best_params_)\n",
    "        print()\n",
    "        print(\"Training score: %s\" % xgb_model_gs.score(X_train, y_train))\n",
    "        print(\"Testing score: %s\" % xgb_model_gs.score(X_test, y_test))\n",
    "        print()\n",
    "        best_params = np.append(best_params, xgb_model_gs.best_params_)\n",
    "    end = t.time() - start\n",
    "    print(\"Evaluation time: %s\" % end)\n",
    "    return best_params"
   ]
  },
  {
   "cell_type": "code",
   "execution_count": 215,
   "metadata": {},
   "outputs": [
    {
     "name": "stdout",
     "output_type": "stream",
     "text": [
      "Score: accuracy\n",
      "Best parameters: {'booster': 'gbtree', 'gamma': 0.1, 'learning_rate': 0.05, 'max_depth': 4, 'min_child_weight': 4, 'n_estimators': 80}\n",
      "\n",
      "Training score: 0.8202247191011236\n",
      "Testing score: 0.832089552238806\n",
      "\n",
      "Evaluation time: 669.9940187931061\n"
     ]
    }
   ],
   "source": [
    "best_params_xgb_new = xgboosting_grid_search(X_train_new, X_test_new, y_train, y_test)"
   ]
  },
  {
   "cell_type": "code",
   "execution_count": 216,
   "metadata": {},
   "outputs": [
    {
     "name": "stdout",
     "output_type": "stream",
     "text": [
      "Score: accuracy\n",
      "Best parameters: {'booster': 'gbtree', 'gamma': 0.1, 'learning_rate': 0.1, 'max_depth': 4, 'min_child_weight': 5, 'n_estimators': 50}\n",
      "\n",
      "Training score: 0.8282504012841091\n",
      "Testing score: 0.8246268656716418\n",
      "\n",
      "Evaluation time: 1453.9606852531433\n"
     ]
    }
   ],
   "source": [
    "best_params_xgb_my = xgboosting_grid_search(X_train_my, X_test_my, y_train, y_test)"
   ]
  },
  {
   "cell_type": "code",
   "execution_count": 217,
   "metadata": {},
   "outputs": [],
   "source": [
    "filename1 = \"xgb_new_20200612.sav\"\n",
    "filename2 = \"xgb_my_20200612.sav\"\n",
    "\n",
    "pickle.dump(best_params_xgb_new, open(filename1, 'wb'))\n",
    "pickle.dump(best_params_xgb_my, open(filename2, 'wb'))"
   ]
  },
  {
   "cell_type": "markdown",
   "metadata": {},
   "source": [
    "## Submission"
   ]
  },
  {
   "cell_type": "code",
   "execution_count": 326,
   "metadata": {},
   "outputs": [],
   "source": [
    "X_new = X[feature_selection_array]\n",
    "df_test_new = df_test[feature_selection_array]"
   ]
  },
  {
   "cell_type": "code",
   "execution_count": 317,
   "metadata": {},
   "outputs": [],
   "source": [
    "X_my2 = X[my_features2]"
   ]
  },
  {
   "cell_type": "markdown",
   "metadata": {},
   "source": [
    "### Parameters"
   ]
  },
  {
   "cell_type": "code",
   "execution_count": 318,
   "metadata": {},
   "outputs": [],
   "source": [
    "lr_params = {'C': 5, 'class_weight': 'balanced', 'fit_intercept': True, 'penalty': 'l2', 'solver': 'newton-cg'}\n",
    "lr_params2 = {'C': 1, 'class_weight': 'balanced', 'fit_intercept': False, 'l1_ratio': 0.1, 'penalty': 'elasticnet', 'solver': 'saga'}\n",
    "rf_params = {'bootstrap': False, 'class_weight': 'balanced', 'criterion': 'gini', 'min_samples_split': 0.05, 'n_estimators': 20, 'random_state': 123}\n",
    "ab_params = {'algorithm': 'SAMME.R', 'learning_rate': 0.1, 'n_estimators': 100}\n",
    "gb_params = {'learning_rate': 0.01, 'n_estimators': 50}\n",
    "xgb_params = {'booster': 'gbtree', 'gamma': 0.1, 'learning_rate': 0.1, 'max_depth': 4, 'min_child_weight': 5, 'n_estimators': 50}"
   ]
  },
  {
   "cell_type": "markdown",
   "metadata": {},
   "source": [
    "### Model Evaluation"
   ]
  },
  {
   "cell_type": "code",
   "execution_count": 263,
   "metadata": {},
   "outputs": [],
   "source": [
    "model_lr = LogisticRegression(**lr_params)\n",
    "model_lr2 = LogisticRegression(**lr_params2)\n",
    "model_rf = RandomForestClassifier(**rf_params)\n",
    "model_ab = AdaBoostClassifier(**ab_params)\n",
    "model_gb = GradientBoostingClassifier(**gb_params)\n",
    "model_xgb = XGBClassifier(**xgb_params)"
   ]
  },
  {
   "cell_type": "code",
   "execution_count": 327,
   "metadata": {},
   "outputs": [
    {
     "data": {
      "text/plain": [
       "0.8282828282828283"
      ]
     },
     "execution_count": 327,
     "metadata": {},
     "output_type": "execute_result"
    }
   ],
   "source": [
    "model_lr.fit(X_new, y)\n",
    "model_lr.score(X_new, y)"
   ]
  },
  {
   "cell_type": "code",
   "execution_count": 273,
   "metadata": {},
   "outputs": [
    {
     "data": {
      "text/plain": [
       "0.8282828282828283"
      ]
     },
     "execution_count": 273,
     "metadata": {},
     "output_type": "execute_result"
    }
   ],
   "source": [
    "model_lr.fit(X_my2, y)\n",
    "model_lr.score(X_my2, y)"
   ]
  },
  {
   "cell_type": "code",
   "execution_count": 328,
   "metadata": {},
   "outputs": [
    {
     "data": {
      "text/plain": [
       "0.8282828282828283"
      ]
     },
     "execution_count": 328,
     "metadata": {},
     "output_type": "execute_result"
    }
   ],
   "source": [
    "model_rf.fit(X_new, y)\n",
    "model_rf.score(X_new, y)"
   ]
  },
  {
   "cell_type": "code",
   "execution_count": 223,
   "metadata": {},
   "outputs": [
    {
     "data": {
      "text/plain": [
       "0.8237934904601572"
      ]
     },
     "execution_count": 223,
     "metadata": {},
     "output_type": "execute_result"
    }
   ],
   "source": [
    "model_ab.fit(X_new, y)\n",
    "model_ab.score(X_new, y)"
   ]
  },
  {
   "cell_type": "code",
   "execution_count": 224,
   "metadata": {},
   "outputs": [
    {
     "data": {
      "text/plain": [
       "0.8260381593714927"
      ]
     },
     "execution_count": 224,
     "metadata": {},
     "output_type": "execute_result"
    }
   ],
   "source": [
    "model_gb.fit(X_new, y)\n",
    "model_gb.score(X_new, y)"
   ]
  },
  {
   "cell_type": "code",
   "execution_count": 225,
   "metadata": {},
   "outputs": [
    {
     "data": {
      "text/plain": [
       "0.8237934904601572"
      ]
     },
     "execution_count": 225,
     "metadata": {},
     "output_type": "execute_result"
    }
   ],
   "source": [
    "model_xgb.fit(X_new, y)\n",
    "model_xgb.score(X_new, y)"
   ]
  },
  {
   "cell_type": "markdown",
   "metadata": {},
   "source": [
    "### Submission"
   ]
  },
  {
   "cell_type": "code",
   "execution_count": 329,
   "metadata": {},
   "outputs": [],
   "source": [
    "df_sub_lr = model_lr.predict(df_test_new)\n",
    "df_sub_rf = model_rf.predict(df_test_new)"
   ]
  },
  {
   "cell_type": "code",
   "execution_count": 333,
   "metadata": {},
   "outputs": [],
   "source": [
    "df_sub_lr_model=pd.DataFrame({'PassengerId':df_test.PassengerId, 'Survived':df_sub_lr})\n",
    "df_sub_rf_model=pd.DataFrame({'PassengerId':df_test.PassengerId, 'Survived':df_sub_rf})"
   ]
  },
  {
   "cell_type": "code",
   "execution_count": 334,
   "metadata": {},
   "outputs": [],
   "source": [
    "df_sub_lr_model.to_csv(\"../data/df_sub_lr_20200612.csv\", columns = (\"PassengerId\", \"Survived\"), index=False)\n",
    "df_sub_rf_model.to_csv(\"../data/df_sub_rf_20200612.csv\", columns = (\"PassengerId\", \"Survived\"), index=False)"
   ]
  }
 ],
 "metadata": {
  "hide_input": false,
  "kernelspec": {
   "display_name": "Python 3",
   "language": "python",
   "name": "python3"
  },
  "language_info": {
   "codemirror_mode": {
    "name": "ipython",
    "version": 3
   },
   "file_extension": ".py",
   "mimetype": "text/x-python",
   "name": "python",
   "nbconvert_exporter": "python",
   "pygments_lexer": "ipython3",
   "version": "3.7.1"
  },
  "toc": {
   "base_numbering": 1,
   "nav_menu": {},
   "number_sections": true,
   "sideBar": true,
   "skip_h1_title": false,
   "title_cell": "Table of Contents",
   "title_sidebar": "Contents",
   "toc_cell": false,
   "toc_position": {},
   "toc_section_display": true,
   "toc_window_display": true
  }
 },
 "nbformat": 4,
 "nbformat_minor": 1
}
