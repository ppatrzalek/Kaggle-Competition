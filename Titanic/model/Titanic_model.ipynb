{
 "cells": [
  {
   "cell_type": "markdown",
   "metadata": {},
   "source": [
    "# Titanic: Machine Learning from Disaster"
   ]
  },
  {
   "cell_type": "markdown",
   "metadata": {},
   "source": [
    "## Introduction"
   ]
  },
  {
   "cell_type": "markdown",
   "metadata": {},
   "source": [
    "$Description$: The Titanic disaster was one of the biggest disaster in the history of ship travel. From kaggle competition (https://www.kaggle.com/c/titanic) we have a lot of information about people in the ship deck. My aim will be forecast who will survive and who unfortunately not. This is a classification task so I use many of machine learning models to create the best one wihich answer the question: Who survived from this disaster ?"
   ]
  },
  {
   "cell_type": "markdown",
   "metadata": {},
   "source": [
    "### Libraries"
   ]
  },
  {
   "cell_type": "code",
   "execution_count": 1,
   "metadata": {},
   "outputs": [],
   "source": [
    "import pandas as pd\n",
    "import numpy as np\n",
    "from numpy import char\n",
    "from matplotlib import pyplot as plt\n",
    "import seaborn as sns\n",
    "import os"
   ]
  },
  {
   "cell_type": "code",
   "execution_count": 2,
   "metadata": {},
   "outputs": [],
   "source": [
    "df_train = pd.read_csv(\"../data/train.csv\")\n",
    "df_test = pd.read_csv(\"../data/test.csv\")\n",
    "df_sub = pd.read_csv(\"../data/gender_submission.csv\")"
   ]
  },
  {
   "cell_type": "markdown",
   "metadata": {},
   "source": [
    "Table of Contents\n",
    "```\n",
    "1. Exploratory Data Analysis (EDA)\n",
    "    1.1 Survived \n",
    "    1.2 Sex\n",
    "    1.3 Age\n",
    "    1.4 Pclass\n",
    "    1.5 SibSp\n",
    "    1.6 Parch\n",
    "    1.7 Ticket\n",
    "    1.8 Fare\n",
    "    1.9 Cabin\n",
    "    1.10 Embarked\n",
    "    1.11 Name\n",
    "2. Feature Engineering\n",
    "    2.1 Creating new features\n",
    "    2.1 Train test split\n",
    "    2.2 Imputation\n",
    "    2.3 One Hot Encoding\n",
    "3. Modeling\n",
    "    3.1 Logistic Regression\n",
    "    3.2 Random Forest\n",
    "    3.3 Ensemble model\n",
    "    3.4 Adaboost\n",
    "    3.5 XGBoost\n",
    "```"
   ]
  },
  {
   "cell_type": "markdown",
   "metadata": {},
   "source": [
    "## Exploratory Data Analysis (EDA)"
   ]
  },
  {
   "cell_type": "markdown",
   "metadata": {},
   "source": [
    "One of the most important part during creating machine learning models is EDA. If we don't know the data we can't create accurate model. Usually during this step we find out that in some reason one of the feature or only part of some feature is more important than another. For example, in titanic disaster we can think that sex variable will be very important in our model because we know (from the internet, movie) that women had the priority to enter the lifeboat - in effect, if particular person was female then had higher probability that survive in contrast to to male person."
   ]
  },
  {
   "cell_type": "code",
   "execution_count": 3,
   "metadata": {},
   "outputs": [
    {
     "data": {
      "text/html": [
       "<div>\n",
       "<style scoped>\n",
       "    .dataframe tbody tr th:only-of-type {\n",
       "        vertical-align: middle;\n",
       "    }\n",
       "\n",
       "    .dataframe tbody tr th {\n",
       "        vertical-align: top;\n",
       "    }\n",
       "\n",
       "    .dataframe thead th {\n",
       "        text-align: right;\n",
       "    }\n",
       "</style>\n",
       "<table border=\"1\" class=\"dataframe\">\n",
       "  <thead>\n",
       "    <tr style=\"text-align: right;\">\n",
       "      <th></th>\n",
       "      <th>PassengerId</th>\n",
       "      <th>Survived</th>\n",
       "      <th>Pclass</th>\n",
       "      <th>Name</th>\n",
       "      <th>Sex</th>\n",
       "      <th>Age</th>\n",
       "      <th>SibSp</th>\n",
       "      <th>Parch</th>\n",
       "      <th>Ticket</th>\n",
       "      <th>Fare</th>\n",
       "      <th>Cabin</th>\n",
       "      <th>Embarked</th>\n",
       "    </tr>\n",
       "  </thead>\n",
       "  <tbody>\n",
       "    <tr>\n",
       "      <th>0</th>\n",
       "      <td>1</td>\n",
       "      <td>0</td>\n",
       "      <td>3</td>\n",
       "      <td>Braund, Mr. Owen Harris</td>\n",
       "      <td>male</td>\n",
       "      <td>22.0</td>\n",
       "      <td>1</td>\n",
       "      <td>0</td>\n",
       "      <td>A/5 21171</td>\n",
       "      <td>7.25</td>\n",
       "      <td>NaN</td>\n",
       "      <td>S</td>\n",
       "    </tr>\n",
       "  </tbody>\n",
       "</table>\n",
       "</div>"
      ],
      "text/plain": [
       "   PassengerId  Survived  Pclass                     Name   Sex   Age  SibSp  \\\n",
       "0            1         0       3  Braund, Mr. Owen Harris  male  22.0      1   \n",
       "\n",
       "   Parch     Ticket  Fare Cabin Embarked  \n",
       "0      0  A/5 21171  7.25   NaN        S  "
      ]
     },
     "execution_count": 3,
     "metadata": {},
     "output_type": "execute_result"
    }
   ],
   "source": [
    "df_train.head(1)"
   ]
  },
  {
   "cell_type": "code",
   "execution_count": 4,
   "metadata": {},
   "outputs": [
    {
     "data": {
      "text/html": [
       "<div>\n",
       "<style scoped>\n",
       "    .dataframe tbody tr th:only-of-type {\n",
       "        vertical-align: middle;\n",
       "    }\n",
       "\n",
       "    .dataframe tbody tr th {\n",
       "        vertical-align: top;\n",
       "    }\n",
       "\n",
       "    .dataframe thead th {\n",
       "        text-align: right;\n",
       "    }\n",
       "</style>\n",
       "<table border=\"1\" class=\"dataframe\">\n",
       "  <thead>\n",
       "    <tr style=\"text-align: right;\">\n",
       "      <th></th>\n",
       "      <th>PassengerId</th>\n",
       "      <th>Pclass</th>\n",
       "      <th>Name</th>\n",
       "      <th>Sex</th>\n",
       "      <th>Age</th>\n",
       "      <th>SibSp</th>\n",
       "      <th>Parch</th>\n",
       "      <th>Ticket</th>\n",
       "      <th>Fare</th>\n",
       "      <th>Cabin</th>\n",
       "      <th>Embarked</th>\n",
       "    </tr>\n",
       "  </thead>\n",
       "  <tbody>\n",
       "    <tr>\n",
       "      <th>0</th>\n",
       "      <td>892</td>\n",
       "      <td>3</td>\n",
       "      <td>Kelly, Mr. James</td>\n",
       "      <td>male</td>\n",
       "      <td>34.5</td>\n",
       "      <td>0</td>\n",
       "      <td>0</td>\n",
       "      <td>330911</td>\n",
       "      <td>7.8292</td>\n",
       "      <td>NaN</td>\n",
       "      <td>Q</td>\n",
       "    </tr>\n",
       "  </tbody>\n",
       "</table>\n",
       "</div>"
      ],
      "text/plain": [
       "   PassengerId  Pclass              Name   Sex   Age  SibSp  Parch  Ticket  \\\n",
       "0          892       3  Kelly, Mr. James  male  34.5      0      0  330911   \n",
       "\n",
       "     Fare Cabin Embarked  \n",
       "0  7.8292   NaN        Q  "
      ]
     },
     "execution_count": 4,
     "metadata": {},
     "output_type": "execute_result"
    }
   ],
   "source": [
    "df_test.head(1)"
   ]
  },
  {
   "cell_type": "code",
   "execution_count": 5,
   "metadata": {},
   "outputs": [
    {
     "data": {
      "text/html": [
       "<div>\n",
       "<style scoped>\n",
       "    .dataframe tbody tr th:only-of-type {\n",
       "        vertical-align: middle;\n",
       "    }\n",
       "\n",
       "    .dataframe tbody tr th {\n",
       "        vertical-align: top;\n",
       "    }\n",
       "\n",
       "    .dataframe thead th {\n",
       "        text-align: right;\n",
       "    }\n",
       "</style>\n",
       "<table border=\"1\" class=\"dataframe\">\n",
       "  <thead>\n",
       "    <tr style=\"text-align: right;\">\n",
       "      <th></th>\n",
       "      <th>PassengerId</th>\n",
       "      <th>Survived</th>\n",
       "    </tr>\n",
       "  </thead>\n",
       "  <tbody>\n",
       "    <tr>\n",
       "      <th>0</th>\n",
       "      <td>892</td>\n",
       "      <td>0</td>\n",
       "    </tr>\n",
       "  </tbody>\n",
       "</table>\n",
       "</div>"
      ],
      "text/plain": [
       "   PassengerId  Survived\n",
       "0          892         0"
      ]
     },
     "execution_count": 5,
     "metadata": {},
     "output_type": "execute_result"
    }
   ],
   "source": [
    "df_sub.head(1)"
   ]
  },
  {
   "cell_type": "markdown",
   "metadata": {},
   "source": [
    "We have 10 columns - without Survived target and PassengerId - index column. Let's check what are the types of them."
   ]
  },
  {
   "cell_type": "code",
   "execution_count": 6,
   "metadata": {},
   "outputs": [
    {
     "data": {
      "text/plain": [
       "PassengerId      int64\n",
       "Survived         int64\n",
       "Pclass           int64\n",
       "Name            object\n",
       "Sex             object\n",
       "Age            float64\n",
       "SibSp            int64\n",
       "Parch            int64\n",
       "Ticket          object\n",
       "Fare           float64\n",
       "Cabin           object\n",
       "Embarked        object\n",
       "dtype: object"
      ]
     },
     "execution_count": 6,
     "metadata": {},
     "output_type": "execute_result"
    }
   ],
   "source": [
    "df_train.dtypes"
   ]
  },
  {
   "cell_type": "markdown",
   "metadata": {},
   "source": [
    "Half of my features are numeric - Pclass, Age, SibSp, Parch, Fare. In my opinion Pclass, SibSp and Parch aren't numerical features - it will be better for model to convert it to categorical variables. The best for me is to create function for those calculation, because I wil have to repeat that things later on testing dataset. I will do it on Feature Engineering part."
   ]
  },
  {
   "cell_type": "code",
   "execution_count": 7,
   "metadata": {},
   "outputs": [
    {
     "name": "stdout",
     "output_type": "stream",
     "text": [
      "Shape of train dataset:  (891, 12)\n",
      "Shape of test dataset:  (418, 11)\n",
      "Shape of sub dataset:  (418, 2)\n"
     ]
    }
   ],
   "source": [
    "print(\"Shape of train dataset: \", df_train.shape)\n",
    "print(\"Shape of test dataset: \", df_test.shape)\n",
    "print(\"Shape of sub dataset: \", df_sub.shape)"
   ]
  },
  {
   "cell_type": "markdown",
   "metadata": {},
   "source": [
    "Titanic dataset don't have a lot of data. We have only 891 oservation for train, validate and test our model."
   ]
  },
  {
   "cell_type": "code",
   "execution_count": 3,
   "metadata": {},
   "outputs": [],
   "source": [
    "#### Packages options\n",
    "\n",
    "## Plot figsize\n",
    "def pyplot_options(width, length):\n",
    "    plt.figure(figsize = (width, length))\n",
    "\n",
    "## Seaborn style    \n",
    "sns.set(style=\"ticks\", color_codes=True)"
   ]
  },
  {
   "cell_type": "code",
   "execution_count": 10,
   "metadata": {},
   "outputs": [],
   "source": [
    "#### Convert features\n",
    "df_train['Survived'] = df_train['Survived'].astype('category')\n",
    "df_train['Pclass'] = df_train['Pclass'].astype('category')\n",
    "df_train['Name'] = df_train['Name'].astype('category')\n",
    "df_train['Sex'] = df_train['Sex'].astype('category')\n",
    "df_train['Age'] = df_train['Age'].astype('float64')\n",
    "df_train['SibSp'] = df_train['SibSp'].astype('category')\n",
    "df_train['Parch'] = df_train['Parch'].astype('category')\n",
    "df_train['Ticket'] = df_train['Ticket'].astype('category')\n",
    "df_train['Fare'] = df_train['Fare'].astype('float64')\n",
    "df_train['Cabin'] = df_train['Cabin'].astype('category')\n",
    "df_train['Embarked'] = df_train['Embarked'].astype('category')"
   ]
  },
  {
   "cell_type": "code",
   "execution_count": 11,
   "metadata": {},
   "outputs": [
    {
     "data": {
      "text/plain": [
       "PassengerId       int64\n",
       "Survived       category\n",
       "Pclass         category\n",
       "Name           category\n",
       "Sex            category\n",
       "Age             float64\n",
       "SibSp          category\n",
       "Parch          category\n",
       "Ticket         category\n",
       "Fare            float64\n",
       "Cabin          category\n",
       "Embarked       category\n",
       "dtype: object"
      ]
     },
     "execution_count": 11,
     "metadata": {},
     "output_type": "execute_result"
    }
   ],
   "source": [
    "df_train.dtypes"
   ]
  },
  {
   "cell_type": "markdown",
   "metadata": {},
   "source": [
    "Above I've done short introduction of my data look like. My only aim was to get to know how many columns I have and what is the shape of my datasets."
   ]
  },
  {
   "cell_type": "markdown",
   "metadata": {},
   "source": [
    "Only for exploratory data analysis part I would like to work on copy of df_train dataset - df_train_new. Here I would like to create new features, analyze them and understand my data. During that things I create new functions which will influence on df_train dataset. This functions I will test on df_train_new. After that part of analysis I will split df_train into train and test set. In next part I will use my functions on train dataset and create the model. Then I will use this functions on test dataset and chceck the performence of model. In the last part of my project I will predict survived target on submission data from this competition."
   ]
  },
  {
   "cell_type": "code",
   "execution_count": 25,
   "metadata": {},
   "outputs": [],
   "source": [
    "df_train_new = df_train.copy()"
   ]
  },
  {
   "cell_type": "markdown",
   "metadata": {},
   "source": [
    "#### Quick introduce to the dataset"
   ]
  },
  {
   "cell_type": "markdown",
   "metadata": {},
   "source": [
    "Nice way to quick introduce to the data is to create pairplot. This is the plots where you can see many of the relationships in your dataset in contrast to your target variable - in our case is of course survived variable."
   ]
  },
  {
   "cell_type": "code",
   "execution_count": 13,
   "metadata": {
    "scrolled": false
   },
   "outputs": [
    {
     "name": "stderr",
     "output_type": "stream",
     "text": [
      "C:\\Users\\ppatrzalek\\AppData\\Local\\Continuum\\anaconda3\\lib\\site-packages\\statsmodels\\nonparametric\\kde.py:444: RuntimeWarning: invalid value encountered in greater\n",
      "  X = X[np.logical_and(X > clip[0], X < clip[1])] # will not work for two columns.\n",
      "C:\\Users\\ppatrzalek\\AppData\\Local\\Continuum\\anaconda3\\lib\\site-packages\\statsmodels\\nonparametric\\kde.py:444: RuntimeWarning: invalid value encountered in less\n",
      "  X = X[np.logical_and(X > clip[0], X < clip[1])] # will not work for two columns.\n"
     ]
    },
    {
     "data": {
      "image/png": "[encoded data removed]",
      "text/plain": [
       "<Figure size 768.425x720 with 20 Axes>"
      ]
     },
     "metadata": {},
     "output_type": "display_data"
    }
   ],
   "source": [
    "pair_plot_features = ['Age', 'Fare', 'Pclass', 'SibSp']\n",
    "g = sns.pairplot(data=df_train_new, vars = pair_plot_features, hue='Survived', palette = 'husl')"
   ]
  },
  {
   "cell_type": "markdown",
   "metadata": {},
   "source": [
    "Quick conclusions:\n",
    "    1. People who pay for ticket not much money (may be they were from crew and pay 0) died more often than \n",
    "    rest of passengers\n",
    "    2. People from lowest class died more often that people from highest class,\n",
    "    3. People who pay not much money for ticket and were older have higher probability of died,\n",
    "    4. Alone people (without any of parents or children on ship) died rarely than rest\n",
    "\n",
    "Of course its only a few conclusions from this pair plot. May be they aren't good and will be not helpful but right now they are interesting for me and compatible with intuition."
   ]
  },
  {
   "cell_type": "markdown",
   "metadata": {},
   "source": [
    "#### Target: Survived"
   ]
  },
  {
   "cell_type": "markdown",
   "metadata": {},
   "source": [
    "Below I create count plot to show that unfortunately in Titanic disaster died more people than survived. Right now we now that our dataset is unbalanced. In my opinion in that dataset it isn't a big problem. From this part we can take one conclusion - may be our metric have to be precision or recall ? Why because right now I can predict that everybody die and that model give me about 62% of accuracy."
   ]
  },
  {
   "cell_type": "code",
   "execution_count": 26,
   "metadata": {},
   "outputs": [
    {
     "name": "stdout",
     "output_type": "stream",
     "text": [
      "People died in Titanic disaster (training dataset) : 62%\n"
     ]
    }
   ],
   "source": [
    "people_died = 1 - np.round(np.sum(df_train_new.Survived)/len(df_train_new.Survived), 2)\n",
    "print(\"People died in Titanic disaster (training dataset) : {}%\".format((100*people_died).astype(int)))"
   ]
  },
  {
   "cell_type": "code",
   "execution_count": 27,
   "metadata": {},
   "outputs": [
    {
     "data": {
      "text/plain": [
       "Text(0.5, 1.0, 'Number of survivors of the Titanic disaster')"
      ]
     },
     "execution_count": 27,
     "metadata": {},
     "output_type": "execute_result"
    },
    {
     "data": {
      "image/png": "[encoded data removed]",
      "text/plain": [
       "<Figure size 576x360 with 1 Axes>"
      ]
     },
     "metadata": {},
     "output_type": "display_data"
    }
   ],
   "source": [
    "pyplot_options(8, 5)\n",
    "sns.countplot(x=\"Survived\", data = df_train_new)\n",
    "plt.title(\"Number of survivors of the Titanic disaster\")"
   ]
  },
  {
   "cell_type": "markdown",
   "metadata": {},
   "source": [
    "#### Feature: Sex"
   ]
  },
  {
   "cell_type": "code",
   "execution_count": 14,
   "metadata": {},
   "outputs": [],
   "source": [
    "df_train_new['Sex'] = df_train_new.Sex.map({'male':1, 'female':0})\n",
    "df_train_new['Sex'] = df_train_new['Sex'].astype('category')"
   ]
  },
  {
   "cell_type": "code",
   "execution_count": 15,
   "metadata": {},
   "outputs": [
    {
     "data": {
      "text/plain": [
       "Text(0.5, 1.0, 'Number of Male and Female people survived from disaster')"
      ]
     },
     "execution_count": 15,
     "metadata": {},
     "output_type": "execute_result"
    },
    {
     "data": {
      "image/png": "[encoded data removed]",
      "text/plain": [
       "<Figure size 864x576 with 1 Axes>"
      ]
     },
     "metadata": {},
     "output_type": "display_data"
    }
   ],
   "source": [
    "pyplot_options(12, 8)\n",
    "sns.countplot(data=df_train_new, x='Sex', hue = \"Survived\")\n",
    "plt.title(\"Number of Male and Female people survived from disaster\", fontsize=15)"
   ]
  },
  {
   "cell_type": "code",
   "execution_count": 16,
   "metadata": {},
   "outputs": [
    {
     "data": {
      "text/plain": [
       "False    891\n",
       "Name: Sex, dtype: int64"
      ]
     },
     "execution_count": 16,
     "metadata": {},
     "output_type": "execute_result"
    }
   ],
   "source": [
    "df_train_new.Sex.isnull().value_counts()"
   ]
  },
  {
   "cell_type": "markdown",
   "metadata": {},
   "source": [
    "Conclusion: Like I wrote before - women have higher probabilites of survied than men."
   ]
  },
  {
   "cell_type": "markdown",
   "metadata": {},
   "source": [
    "#### Feature: Age"
   ]
  },
  {
   "cell_type": "code",
   "execution_count": 17,
   "metadata": {
    "scrolled": false
   },
   "outputs": [
    {
     "data": {
      "text/plain": [
       "Text(0.5, 1.0, 'Number of survivors in contrast to Age variable')"
      ]
     },
     "execution_count": 17,
     "metadata": {},
     "output_type": "execute_result"
    },
    {
     "data": {
      "image/png": "[encoded data removed]",
      "text/plain": [
       "<Figure size 864x576 with 1 Axes>"
      ]
     },
     "metadata": {},
     "output_type": "display_data"
    }
   ],
   "source": [
    "pyplot_options(12, 8)\n",
    "age_cut=pd.cut(df_train_new.Age, bins = [0, 6, 20, 30, 45, 60, 100])\n",
    "d = {\"CutAge\":age_cut, \"Survived\": df_train_new.Survived}\n",
    "age_df = pd.DataFrame(data=d)\n",
    "sns.countplot(data=age_df, x = \"CutAge\", hue = \"Survived\")\n",
    "plt.title(\"Number of survivors in contrast to Age variable\", fontsize = 15)"
   ]
  },
  {
   "cell_type": "markdown",
   "metadata": {},
   "source": [
    "Conclusion: Age feature should have a big influence to accuracy of our model. We see that for example on medium age like 6-30 survived people have similar balance like all of people about 27.5%/62.5% (like I write at the beginning). Difference behaviour we see for age 0-6 where we see that kids in that age have highest probability of survived about 70%/30%. Different proportion have also ages 60-100 where that people have lowest probability of survived about 20%/80%.  "
   ]
  },
  {
   "cell_type": "code",
   "execution_count": 18,
   "metadata": {},
   "outputs": [
    {
     "name": "stdout",
     "output_type": "stream",
     "text": [
      "Almost 19.87% of people have Age NaN values\n"
     ]
    }
   ],
   "source": [
    "age_null_values = 100*(df_train_new[df_train_new.Age.isnull() == True].shape[0]/df_train_new.shape[0])\n",
    "print(\"Almost {}% of people have Age NaN values\".format(np.round(age_null_values, 2)))"
   ]
  },
  {
   "cell_type": "markdown",
   "metadata": {},
   "source": [
    "Conclusion: I think that this is a quite big number of people who don't have value of age. During feature engineering step I will try to impute NaN values of one the cut interval."
   ]
  },
  {
   "cell_type": "markdown",
   "metadata": {},
   "source": [
    "#### Feature: Pclass"
   ]
  },
  {
   "cell_type": "code",
   "execution_count": 19,
   "metadata": {},
   "outputs": [
    {
     "data": {
      "text/plain": [
       "Text(0.5, 1.0, 'Countplot of Passanger Class in contrast to Survived')"
      ]
     },
     "execution_count": 19,
     "metadata": {},
     "output_type": "execute_result"
    },
    {
     "data": {
      "image/png": "[encoded data removed]",
      "text/plain": [
       "<Figure size 720x432 with 1 Axes>"
      ]
     },
     "metadata": {},
     "output_type": "display_data"
    }
   ],
   "source": [
    "pyplot_options(10, 6)\n",
    "sns.countplot(x = df_train.loc[:, 'Pclass'], hue = df_train.loc[:, 'Survived'])\n",
    "plt.title(\"Countplot of Passanger Class in contrast to Survived\")"
   ]
  },
  {
   "cell_type": "markdown",
   "metadata": {},
   "source": [
    "Conclusion: Class nr 3 has huge impact to Survived target. Class nr 1 has some impact but in difference way tahn nr 3 - in class nr 1 Survived more than half people. "
   ]
  },
  {
   "cell_type": "markdown",
   "metadata": {},
   "source": [
    "#### Feature: SibSp"
   ]
  },
  {
   "cell_type": "code",
   "execution_count": 20,
   "metadata": {},
   "outputs": [
    {
     "data": {
      "text/plain": [
       "Text(0.5, 1.0, 'Number of sibilings aboard to Titanic in contrast to Survived')"
      ]
     },
     "execution_count": 20,
     "metadata": {},
     "output_type": "execute_result"
    },
    {
     "data": {
      "image/png": "[encoded data removed]",
      "text/plain": [
       "<Figure size 864x576 with 1 Axes>"
      ]
     },
     "metadata": {},
     "output_type": "display_data"
    }
   ],
   "source": [
    "pyplot_options(12, 8)\n",
    "sns.countplot(data = df_train_new, x='SibSp', hue ='Survived')\n",
    "plt.title(\"Number of sibilings aboard to Titanic in contrast to Survived\", fontsize=15)"
   ]
  },
  {
   "cell_type": "markdown",
   "metadata": {},
   "source": [
    "Conclusion: When people didn't have sibilings then probability of survived decreased. "
   ]
  },
  {
   "cell_type": "markdown",
   "metadata": {},
   "source": [
    "#### Feature: Parch"
   ]
  },
  {
   "cell_type": "code",
   "execution_count": 21,
   "metadata": {},
   "outputs": [
    {
     "data": {
      "text/plain": [
       "Text(0.5, 1.0, 'Number of Parents or Children aboard to Titanic in contrast to Survived')"
      ]
     },
     "execution_count": 21,
     "metadata": {},
     "output_type": "execute_result"
    },
    {
     "data": {
      "image/png": "[encoded data removed]",
      "text/plain": [
       "<Figure size 864x576 with 1 Axes>"
      ]
     },
     "metadata": {},
     "output_type": "display_data"
    }
   ],
   "source": [
    "pyplot_options(12, 8)\n",
    "sns.countplot(data=df_train_new, x = 'Parch', hue = 'Survived')\n",
    "plt.title(\"Number of Parents or Children aboard to Titanic in contrast to Survived\", fontsize=15)"
   ]
  },
  {
   "cell_type": "markdown",
   "metadata": {},
   "source": [
    "Conclusion: Parch variable equal to 3, 4, 5 or 6 don't have any influence into the dataset. Parch equal to similar. We see that when passenger didn't have any child or parent survived rarely than passenger who had any close person."
   ]
  },
  {
   "cell_type": "markdown",
   "metadata": {},
   "source": [
    "#### Feature: Ticket"
   ]
  },
  {
   "cell_type": "code",
   "execution_count": 22,
   "metadata": {},
   "outputs": [],
   "source": [
    "ticket_counts = df_train_new.Ticket.value_counts()\n",
    "ticket_counts = pd.DataFrame({'Ticket':ticket_counts.index, 'PassengerTicket':ticket_counts}).reset_index().drop(['index'],axis=1)"
   ]
  },
  {
   "cell_type": "code",
   "execution_count": 23,
   "metadata": {},
   "outputs": [
    {
     "data": {
      "text/html": [
       "<div>\n",
       "<style scoped>\n",
       "    .dataframe tbody tr th:only-of-type {\n",
       "        vertical-align: middle;\n",
       "    }\n",
       "\n",
       "    .dataframe tbody tr th {\n",
       "        vertical-align: top;\n",
       "    }\n",
       "\n",
       "    .dataframe thead th {\n",
       "        text-align: right;\n",
       "    }\n",
       "</style>\n",
       "<table border=\"1\" class=\"dataframe\">\n",
       "  <thead>\n",
       "    <tr style=\"text-align: right;\">\n",
       "      <th></th>\n",
       "      <th>PassengerId</th>\n",
       "      <th>Survived</th>\n",
       "      <th>Pclass</th>\n",
       "      <th>Name</th>\n",
       "      <th>Sex</th>\n",
       "      <th>Age</th>\n",
       "      <th>SibSp</th>\n",
       "      <th>Parch</th>\n",
       "      <th>Ticket</th>\n",
       "      <th>Fare</th>\n",
       "      <th>Cabin</th>\n",
       "      <th>Embarked</th>\n",
       "      <th>PassengerTicket</th>\n",
       "    </tr>\n",
       "  </thead>\n",
       "  <tbody>\n",
       "    <tr>\n",
       "      <th>0</th>\n",
       "      <td>1</td>\n",
       "      <td>0</td>\n",
       "      <td>3</td>\n",
       "      <td>Braund, Mr. Owen Harris</td>\n",
       "      <td>1</td>\n",
       "      <td>22.0</td>\n",
       "      <td>1</td>\n",
       "      <td>0</td>\n",
       "      <td>A/5 21171</td>\n",
       "      <td>7.2500</td>\n",
       "      <td>NaN</td>\n",
       "      <td>S</td>\n",
       "      <td>1</td>\n",
       "    </tr>\n",
       "    <tr>\n",
       "      <th>1</th>\n",
       "      <td>2</td>\n",
       "      <td>1</td>\n",
       "      <td>1</td>\n",
       "      <td>Cumings, Mrs. John Bradley (Florence Briggs Th...</td>\n",
       "      <td>0</td>\n",
       "      <td>38.0</td>\n",
       "      <td>1</td>\n",
       "      <td>0</td>\n",
       "      <td>PC 17599</td>\n",
       "      <td>71.2833</td>\n",
       "      <td>C85</td>\n",
       "      <td>C</td>\n",
       "      <td>1</td>\n",
       "    </tr>\n",
       "    <tr>\n",
       "      <th>2</th>\n",
       "      <td>3</td>\n",
       "      <td>1</td>\n",
       "      <td>3</td>\n",
       "      <td>Heikkinen, Miss. Laina</td>\n",
       "      <td>0</td>\n",
       "      <td>26.0</td>\n",
       "      <td>0</td>\n",
       "      <td>0</td>\n",
       "      <td>STON/O2. 3101282</td>\n",
       "      <td>7.9250</td>\n",
       "      <td>NaN</td>\n",
       "      <td>S</td>\n",
       "      <td>1</td>\n",
       "    </tr>\n",
       "    <tr>\n",
       "      <th>3</th>\n",
       "      <td>4</td>\n",
       "      <td>1</td>\n",
       "      <td>1</td>\n",
       "      <td>Futrelle, Mrs. Jacques Heath (Lily May Peel)</td>\n",
       "      <td>0</td>\n",
       "      <td>35.0</td>\n",
       "      <td>1</td>\n",
       "      <td>0</td>\n",
       "      <td>113803</td>\n",
       "      <td>53.1000</td>\n",
       "      <td>C123</td>\n",
       "      <td>S</td>\n",
       "      <td>2</td>\n",
       "    </tr>\n",
       "    <tr>\n",
       "      <th>4</th>\n",
       "      <td>5</td>\n",
       "      <td>0</td>\n",
       "      <td>3</td>\n",
       "      <td>Allen, Mr. William Henry</td>\n",
       "      <td>1</td>\n",
       "      <td>35.0</td>\n",
       "      <td>0</td>\n",
       "      <td>0</td>\n",
       "      <td>373450</td>\n",
       "      <td>8.0500</td>\n",
       "      <td>NaN</td>\n",
       "      <td>S</td>\n",
       "      <td>1</td>\n",
       "    </tr>\n",
       "  </tbody>\n",
       "</table>\n",
       "</div>"
      ],
      "text/plain": [
       "   PassengerId Survived Pclass  \\\n",
       "0            1        0      3   \n",
       "1            2        1      1   \n",
       "2            3        1      3   \n",
       "3            4        1      1   \n",
       "4            5        0      3   \n",
       "\n",
       "                                                Name Sex   Age SibSp Parch  \\\n",
       "0                            Braund, Mr. Owen Harris   1  22.0     1     0   \n",
       "1  Cumings, Mrs. John Bradley (Florence Briggs Th...   0  38.0     1     0   \n",
       "2                             Heikkinen, Miss. Laina   0  26.0     0     0   \n",
       "3       Futrelle, Mrs. Jacques Heath (Lily May Peel)   0  35.0     1     0   \n",
       "4                           Allen, Mr. William Henry   1  35.0     0     0   \n",
       "\n",
       "             Ticket     Fare Cabin Embarked  PassengerTicket  \n",
       "0         A/5 21171   7.2500   NaN        S                1  \n",
       "1          PC 17599  71.2833   C85        C                1  \n",
       "2  STON/O2. 3101282   7.9250   NaN        S                1  \n",
       "3            113803  53.1000  C123        S                2  \n",
       "4            373450   8.0500   NaN        S                1  "
      ]
     },
     "execution_count": 23,
     "metadata": {},
     "output_type": "execute_result"
    }
   ],
   "source": [
    "df_train_new = pd.merge(df_train_new, ticket_counts, left_on='Ticket', right_on = 'Ticket', how='left')\n",
    "df_train_new.head()"
   ]
  },
  {
   "cell_type": "code",
   "execution_count": 24,
   "metadata": {},
   "outputs": [
    {
     "data": {
      "text/plain": [
       "Text(0.5, 1.0, 'Number of people on one ticket in contrast to survivors')"
      ]
     },
     "execution_count": 24,
     "metadata": {},
     "output_type": "execute_result"
    },
    {
     "data": {
      "image/png": "[encoded data removed]",
      "text/plain": [
       "<Figure size 864x432 with 1 Axes>"
      ]
     },
     "metadata": {},
     "output_type": "display_data"
    }
   ],
   "source": [
    "pyplot_options(12, 6)\n",
    "sns.countplot(data=df_train_new, x=\"PassengerTicket\", hue=\"Survived\")\n",
    "plt.title(\"Number of people on one ticket in contrast to survivors\", fontsize=15)"
   ]
  },
  {
   "cell_type": "code",
   "execution_count": 25,
   "metadata": {},
   "outputs": [
    {
     "data": {
      "text/plain": [
       "Text(0.5, 1.0, 'Number of people on one ticket (greater than 2) in contrast to survivors')"
      ]
     },
     "execution_count": 25,
     "metadata": {},
     "output_type": "execute_result"
    },
    {
     "data": {
      "image/png": "[encoded data removed]",
      "text/plain": [
       "<Figure size 864x576 with 1 Axes>"
      ]
     },
     "metadata": {},
     "output_type": "display_data"
    }
   ],
   "source": [
    "pyplot_options(12, 8)\n",
    "sns.countplot(data=df_train_new[df_train_new.PassengerTicket >= 2 ], x=\"Survived\")\n",
    "plt.title(\"Number of people on one ticket (greater than 2) in contrast to survivors\", fontsize=15)"
   ]
  },
  {
   "cell_type": "markdown",
   "metadata": {},
   "source": [
    "Conclusion: People who traveled with somebody (in the same ticket) had more chance to survived than people who traveled alone."
   ]
  },
  {
   "cell_type": "markdown",
   "metadata": {},
   "source": [
    "#### Feature: Fare"
   ]
  },
  {
   "cell_type": "code",
   "execution_count": 26,
   "metadata": {},
   "outputs": [
    {
     "data": {
      "text/plain": [
       "Text(0.5, 1.0, 'Boxplot of Fare in contrast to Survived')"
      ]
     },
     "execution_count": 26,
     "metadata": {},
     "output_type": "execute_result"
    },
    {
     "data": {
      "image/png": "[encoded data removed]",
      "text/plain": [
       "<Figure size 864x576 with 1 Axes>"
      ]
     },
     "metadata": {},
     "output_type": "display_data"
    }
   ],
   "source": [
    "pyplot_options(12, 8)\n",
    "sns.boxplot(data=df_train_new, x = \"Survived\", y=\"Fare\", orient=\"v\")\n",
    "plt.title(\"Boxplot of Fare in contrast to Survived\", fontsize=15)"
   ]
  },
  {
   "cell_type": "code",
   "execution_count": 27,
   "metadata": {},
   "outputs": [
    {
     "data": {
      "text/plain": [
       "Text(0.5, 1.0, 'Countplot interval of Fare in contrast to Survived')"
      ]
     },
     "execution_count": 27,
     "metadata": {},
     "output_type": "execute_result"
    },
    {
     "data": {
      "image/png": "[encoded data removed]",
      "text/plain": [
       "<Figure size 864x576 with 1 Axes>"
      ]
     },
     "metadata": {},
     "output_type": "display_data"
    }
   ],
   "source": [
    "df_train_new['FareBins'] = pd.cut(df_train_new.Fare, bins=[0, 10, 25, 50, 75, 1000])\n",
    "pyplot_options(12, 8)\n",
    "sns.countplot(data=df_train_new, x = \"FareBins\", hue=\"Survived\")\n",
    "plt.title(\"Countplot interval of Fare in contrast to Survived\", fontsize=15)"
   ]
  },
  {
   "cell_type": "markdown",
   "metadata": {},
   "source": [
    "Conclusion: Value of fare had big influence of Surivived during Titanic disaster."
   ]
  },
  {
   "cell_type": "markdown",
   "metadata": {},
   "source": [
    "#### Feature: Cabin"
   ]
  },
  {
   "cell_type": "code",
   "execution_count": 28,
   "metadata": {},
   "outputs": [],
   "source": [
    "cabin_counts = df_train_new.Cabin.value_counts()\n",
    "cabin_counts = pd.DataFrame({'Cabin':cabin_counts.index, 'PassengerCabin':cabin_counts}).reset_index().drop(['index'],axis=1)"
   ]
  },
  {
   "cell_type": "code",
   "execution_count": 29,
   "metadata": {},
   "outputs": [
    {
     "name": "stderr",
     "output_type": "stream",
     "text": [
      "C:\\Users\\ppatrzalek\\AppData\\Local\\Continuum\\anaconda3\\lib\\site-packages\\ipykernel_launcher.py:2: SettingWithCopyWarning: \n",
      "A value is trying to be set on a copy of a slice from a DataFrame\n",
      "\n",
      "See the caveats in the documentation: http://pandas.pydata.org/pandas-docs/stable/user_guide/indexing.html#returning-a-view-versus-a-copy\n",
      "  \n"
     ]
    },
    {
     "data": {
      "text/html": [
       "<div>\n",
       "<style scoped>\n",
       "    .dataframe tbody tr th:only-of-type {\n",
       "        vertical-align: middle;\n",
       "    }\n",
       "\n",
       "    .dataframe tbody tr th {\n",
       "        vertical-align: top;\n",
       "    }\n",
       "\n",
       "    .dataframe thead th {\n",
       "        text-align: right;\n",
       "    }\n",
       "</style>\n",
       "<table border=\"1\" class=\"dataframe\">\n",
       "  <thead>\n",
       "    <tr style=\"text-align: right;\">\n",
       "      <th></th>\n",
       "      <th>PassengerId</th>\n",
       "      <th>Survived</th>\n",
       "      <th>Pclass</th>\n",
       "      <th>Name</th>\n",
       "      <th>Sex</th>\n",
       "      <th>Age</th>\n",
       "      <th>SibSp</th>\n",
       "      <th>Parch</th>\n",
       "      <th>Ticket</th>\n",
       "      <th>Fare</th>\n",
       "      <th>Cabin</th>\n",
       "      <th>Embarked</th>\n",
       "      <th>PassengerTicket</th>\n",
       "      <th>FareBins</th>\n",
       "      <th>PassengerCabin</th>\n",
       "    </tr>\n",
       "  </thead>\n",
       "  <tbody>\n",
       "    <tr>\n",
       "      <th>0</th>\n",
       "      <td>1</td>\n",
       "      <td>0</td>\n",
       "      <td>3</td>\n",
       "      <td>Braund, Mr. Owen Harris</td>\n",
       "      <td>1</td>\n",
       "      <td>22.0</td>\n",
       "      <td>1</td>\n",
       "      <td>0</td>\n",
       "      <td>A/5 21171</td>\n",
       "      <td>7.2500</td>\n",
       "      <td>NaN</td>\n",
       "      <td>S</td>\n",
       "      <td>1</td>\n",
       "      <td>(0, 10]</td>\n",
       "      <td>0.0</td>\n",
       "    </tr>\n",
       "    <tr>\n",
       "      <th>1</th>\n",
       "      <td>2</td>\n",
       "      <td>1</td>\n",
       "      <td>1</td>\n",
       "      <td>Cumings, Mrs. John Bradley (Florence Briggs Th...</td>\n",
       "      <td>0</td>\n",
       "      <td>38.0</td>\n",
       "      <td>1</td>\n",
       "      <td>0</td>\n",
       "      <td>PC 17599</td>\n",
       "      <td>71.2833</td>\n",
       "      <td>C85</td>\n",
       "      <td>C</td>\n",
       "      <td>1</td>\n",
       "      <td>(50, 75]</td>\n",
       "      <td>1.0</td>\n",
       "    </tr>\n",
       "    <tr>\n",
       "      <th>2</th>\n",
       "      <td>3</td>\n",
       "      <td>1</td>\n",
       "      <td>3</td>\n",
       "      <td>Heikkinen, Miss. Laina</td>\n",
       "      <td>0</td>\n",
       "      <td>26.0</td>\n",
       "      <td>0</td>\n",
       "      <td>0</td>\n",
       "      <td>STON/O2. 3101282</td>\n",
       "      <td>7.9250</td>\n",
       "      <td>NaN</td>\n",
       "      <td>S</td>\n",
       "      <td>1</td>\n",
       "      <td>(0, 10]</td>\n",
       "      <td>0.0</td>\n",
       "    </tr>\n",
       "    <tr>\n",
       "      <th>3</th>\n",
       "      <td>4</td>\n",
       "      <td>1</td>\n",
       "      <td>1</td>\n",
       "      <td>Futrelle, Mrs. Jacques Heath (Lily May Peel)</td>\n",
       "      <td>0</td>\n",
       "      <td>35.0</td>\n",
       "      <td>1</td>\n",
       "      <td>0</td>\n",
       "      <td>113803</td>\n",
       "      <td>53.1000</td>\n",
       "      <td>C123</td>\n",
       "      <td>S</td>\n",
       "      <td>2</td>\n",
       "      <td>(50, 75]</td>\n",
       "      <td>2.0</td>\n",
       "    </tr>\n",
       "    <tr>\n",
       "      <th>4</th>\n",
       "      <td>5</td>\n",
       "      <td>0</td>\n",
       "      <td>3</td>\n",
       "      <td>Allen, Mr. William Henry</td>\n",
       "      <td>1</td>\n",
       "      <td>35.0</td>\n",
       "      <td>0</td>\n",
       "      <td>0</td>\n",
       "      <td>373450</td>\n",
       "      <td>8.0500</td>\n",
       "      <td>NaN</td>\n",
       "      <td>S</td>\n",
       "      <td>1</td>\n",
       "      <td>(0, 10]</td>\n",
       "      <td>0.0</td>\n",
       "    </tr>\n",
       "  </tbody>\n",
       "</table>\n",
       "</div>"
      ],
      "text/plain": [
       "   PassengerId Survived Pclass  \\\n",
       "0            1        0      3   \n",
       "1            2        1      1   \n",
       "2            3        1      3   \n",
       "3            4        1      1   \n",
       "4            5        0      3   \n",
       "\n",
       "                                                Name Sex   Age SibSp Parch  \\\n",
       "0                            Braund, Mr. Owen Harris   1  22.0     1     0   \n",
       "1  Cumings, Mrs. John Bradley (Florence Briggs Th...   0  38.0     1     0   \n",
       "2                             Heikkinen, Miss. Laina   0  26.0     0     0   \n",
       "3       Futrelle, Mrs. Jacques Heath (Lily May Peel)   0  35.0     1     0   \n",
       "4                           Allen, Mr. William Henry   1  35.0     0     0   \n",
       "\n",
       "             Ticket     Fare Cabin Embarked  PassengerTicket  FareBins  \\\n",
       "0         A/5 21171   7.2500   NaN        S                1   (0, 10]   \n",
       "1          PC 17599  71.2833   C85        C                1  (50, 75]   \n",
       "2  STON/O2. 3101282   7.9250   NaN        S                1   (0, 10]   \n",
       "3            113803  53.1000  C123        S                2  (50, 75]   \n",
       "4            373450   8.0500   NaN        S                1   (0, 10]   \n",
       "\n",
       "   PassengerCabin  \n",
       "0             0.0  \n",
       "1             1.0  \n",
       "2             0.0  \n",
       "3             2.0  \n",
       "4             0.0  "
      ]
     },
     "execution_count": 29,
     "metadata": {},
     "output_type": "execute_result"
    }
   ],
   "source": [
    "df_train_new2 = pd.merge(df_train_new.copy(), cabin_counts, left_on='Cabin', right_on = 'Cabin', how='left')\n",
    "df_train_new2.PassengerCabin[df_train_new2.PassengerCabin.isna() == True] = 0\n",
    "df_train_new2.head()"
   ]
  },
  {
   "cell_type": "code",
   "execution_count": 30,
   "metadata": {},
   "outputs": [
    {
     "data": {
      "text/plain": [
       "Text(0.5, 1.0, 'Number of Passengers who have cabin in contrast to Survived')"
      ]
     },
     "execution_count": 30,
     "metadata": {},
     "output_type": "execute_result"
    },
    {
     "data": {
      "image/png": "[encoded data removed]",
      "text/plain": [
       "<Figure size 864x576 with 1 Axes>"
      ]
     },
     "metadata": {},
     "output_type": "display_data"
    }
   ],
   "source": [
    "pyplot_options(12, 8)\n",
    "sns.countplot(data=df_train_new2, x=\"PassengerCabin\", hue=\"Survived\")\n",
    "plt.title(\"Number of Passengers who have cabin in contrast to Survived\", fontsize=15)"
   ]
  },
  {
   "cell_type": "markdown",
   "metadata": {},
   "source": [
    "Conclusion: People who didn't have cabin died more often than people who had. "
   ]
  },
  {
   "cell_type": "markdown",
   "metadata": {},
   "source": [
    "#### Feature: Embarked"
   ]
  },
  {
   "cell_type": "code",
   "execution_count": 31,
   "metadata": {},
   "outputs": [
    {
     "data": {
      "text/plain": [
       "Text(0.5, 1.0, 'Number of Embarked in contrast to Survived')"
      ]
     },
     "execution_count": 31,
     "metadata": {},
     "output_type": "execute_result"
    },
    {
     "data": {
      "image/png": "[encoded data removed]",
      "text/plain": [
       "<Figure size 864x576 with 1 Axes>"
      ]
     },
     "metadata": {},
     "output_type": "display_data"
    }
   ],
   "source": [
    "pyplot_options(12, 8)\n",
    "sns.countplot(data=df_train_new, x = \"Embarked\", hue=\"Survived\")\n",
    "plt.title(\"Number of Embarked in contrast to Survived\", fontsize=15)"
   ]
  },
  {
   "cell_type": "code",
   "execution_count": 28,
   "metadata": {},
   "outputs": [
    {
     "data": {
      "text/plain": [
       "S    644\n",
       "C    168\n",
       "Q     77\n",
       "Name: Embarked, dtype: int64"
      ]
     },
     "execution_count": 28,
     "metadata": {},
     "output_type": "execute_result"
    }
   ],
   "source": [
    "df_train_new.Embarked.value_counts()"
   ]
  },
  {
   "cell_type": "markdown",
   "metadata": {},
   "source": [
    "Conlcusion: Most of passengers embarked in Southampton - about 75%. Unfortunately more than half of them died in disaster. May be it was coincidence, but we can't skip it in our analysis."
   ]
  },
  {
   "cell_type": "markdown",
   "metadata": {},
   "source": [
    "#### Feature: Name"
   ]
  },
  {
   "cell_type": "code",
   "execution_count": 32,
   "metadata": {},
   "outputs": [
    {
     "data": {
      "text/plain": [
       "van Melkebeke, Mr. Philemon                1\n",
       "Goldschmidt, Mr. George B                  1\n",
       "Graham, Miss. Margaret Edith               1\n",
       "Goodwin, Mrs. Frederick (Augusta Tyler)    1\n",
       "Goodwin, Mr. Charles Edward                1\n",
       "                                          ..\n",
       "Nilsson, Miss. Helmina Josefina            1\n",
       "Nicola-Yarred, Miss. Jamila                1\n",
       "Nicola-Yarred, Master. Elias               1\n",
       "Nicholson, Mr. Arthur Ernest               1\n",
       "Abbing, Mr. Anthony                        1\n",
       "Name: Name, Length: 891, dtype: int64"
      ]
     },
     "execution_count": 32,
     "metadata": {},
     "output_type": "execute_result"
    }
   ],
   "source": [
    "df_train_new.Name.value_counts()"
   ]
  },
  {
   "cell_type": "markdown",
   "metadata": {},
   "source": [
    "Conclusion: It will be difficult to show in some plot this variable. I will spend more time analyzing this feature during Feature Engineering part."
   ]
  },
  {
   "cell_type": "markdown",
   "metadata": {},
   "source": [
    "## Feature Engineering"
   ]
  },
  {
   "cell_type": "markdown",
   "metadata": {},
   "source": [
    "#### Set index: PassengerId"
   ]
  },
  {
   "cell_type": "code",
   "execution_count": 2,
   "metadata": {},
   "outputs": [],
   "source": [
    "def set_index_data(data):\n",
    "    data.set_index('PassengerId', inplace=True)\n",
    "    return print(\"Complete\")"
   ]
  },
  {
   "cell_type": "markdown",
   "metadata": {},
   "source": [
    "#### Convert features"
   ]
  },
  {
   "cell_type": "code",
   "execution_count": 3,
   "metadata": {},
   "outputs": [],
   "source": [
    "def convert_features(data, columns, type):\n",
    "    for i in columns:\n",
    "        data.loc[:, i] = data.loc[:, i].astype(type) \n",
    "    return data"
   ]
  },
  {
   "cell_type": "markdown",
   "metadata": {},
   "source": [
    "#### Feature: Age"
   ]
  },
  {
   "cell_type": "code",
   "execution_count": 4,
   "metadata": {},
   "outputs": [],
   "source": [
    "def feature_engineering_agebins(data, bins=[0, 6, 20, 30, 45, 60, 100], inplace=False):\n",
    "    data['AgeBins']=pd.cut(data.Age, bins=bins, right=False, labels=bins[:-1])\n",
    "    print(\"Complete\")\n",
    "    return data"
   ]
  },
  {
   "cell_type": "markdown",
   "metadata": {},
   "source": [
    "#### Feature: Name"
   ]
  },
  {
   "cell_type": "markdown",
   "metadata": {},
   "source": [
    "Now let's see on Name feature. We see that there are some names, surnames but also titles like Miss, Mr or Master. May be it will be important for our model. Of course titles like Mr. or Miss. are in Sex variable but Master is something else. Let's try to find there some pattern !!"
   ]
  },
  {
   "cell_type": "code",
   "execution_count": 36,
   "metadata": {},
   "outputs": [],
   "source": [
    "df_train_new = df_train.copy()"
   ]
  },
  {
   "cell_type": "code",
   "execution_count": 37,
   "metadata": {},
   "outputs": [
    {
     "name": "stdout",
     "output_type": "stream",
     "text": [
      "Complete\n"
     ]
    }
   ],
   "source": [
    "set_index_data(df_train_new)"
   ]
  },
  {
   "cell_type": "code",
   "execution_count": 38,
   "metadata": {},
   "outputs": [],
   "source": [
    "df_name = df_train_new.Name.str.split(\",\", expand=True).rename(columns = lambda x: f\"Part_Name_{x+1}\")\n",
    "df_name_2 = df_name.Part_Name_2.str.split(\".\", expand=True).rename(columns = lambda x: f\"Part_Name_{x+1}\")\n",
    "df_name.rename(columns={\"Part_Name_1\":\"Surname\", \"Part_Name_2\":\"Title_Name\"}, inplace=True)\n",
    "df_name_2.rename(columns = {\"Part_Name_1\":\"Title\", \"Part_Name_2\":\"Surname\", \"Part_Name_3\":\"Rest\"}, inplace=True)"
   ]
  },
  {
   "cell_type": "code",
   "execution_count": 39,
   "metadata": {},
   "outputs": [
    {
     "data": {
      "text/html": [
       "<div>\n",
       "<style scoped>\n",
       "    .dataframe tbody tr th:only-of-type {\n",
       "        vertical-align: middle;\n",
       "    }\n",
       "\n",
       "    .dataframe tbody tr th {\n",
       "        vertical-align: top;\n",
       "    }\n",
       "\n",
       "    .dataframe thead th {\n",
       "        text-align: right;\n",
       "    }\n",
       "</style>\n",
       "<table border=\"1\" class=\"dataframe\">\n",
       "  <thead>\n",
       "    <tr style=\"text-align: right;\">\n",
       "      <th></th>\n",
       "      <th>Surname</th>\n",
       "      <th>Title_Name</th>\n",
       "    </tr>\n",
       "    <tr>\n",
       "      <th>PassengerId</th>\n",
       "      <th></th>\n",
       "      <th></th>\n",
       "    </tr>\n",
       "  </thead>\n",
       "  <tbody>\n",
       "    <tr>\n",
       "      <th>1</th>\n",
       "      <td>Braund</td>\n",
       "      <td>Mr. Owen Harris</td>\n",
       "    </tr>\n",
       "  </tbody>\n",
       "</table>\n",
       "</div>"
      ],
      "text/plain": [
       "            Surname        Title_Name\n",
       "PassengerId                          \n",
       "1            Braund   Mr. Owen Harris"
      ]
     },
     "execution_count": 39,
     "metadata": {},
     "output_type": "execute_result"
    }
   ],
   "source": [
    "df_name.head(1)"
   ]
  },
  {
   "cell_type": "code",
   "execution_count": 40,
   "metadata": {},
   "outputs": [
    {
     "data": {
      "text/html": [
       "<div>\n",
       "<style scoped>\n",
       "    .dataframe tbody tr th:only-of-type {\n",
       "        vertical-align: middle;\n",
       "    }\n",
       "\n",
       "    .dataframe tbody tr th {\n",
       "        vertical-align: top;\n",
       "    }\n",
       "\n",
       "    .dataframe thead th {\n",
       "        text-align: right;\n",
       "    }\n",
       "</style>\n",
       "<table border=\"1\" class=\"dataframe\">\n",
       "  <thead>\n",
       "    <tr style=\"text-align: right;\">\n",
       "      <th></th>\n",
       "      <th>Title</th>\n",
       "      <th>Surname</th>\n",
       "      <th>Rest</th>\n",
       "    </tr>\n",
       "    <tr>\n",
       "      <th>PassengerId</th>\n",
       "      <th></th>\n",
       "      <th></th>\n",
       "      <th></th>\n",
       "    </tr>\n",
       "  </thead>\n",
       "  <tbody>\n",
       "    <tr>\n",
       "      <th>1</th>\n",
       "      <td>Mr</td>\n",
       "      <td>Owen Harris</td>\n",
       "      <td>None</td>\n",
       "    </tr>\n",
       "  </tbody>\n",
       "</table>\n",
       "</div>"
      ],
      "text/plain": [
       "            Title       Surname  Rest\n",
       "PassengerId                          \n",
       "1              Mr   Owen Harris  None"
      ]
     },
     "execution_count": 40,
     "metadata": {},
     "output_type": "execute_result"
    }
   ],
   "source": [
    "df_name_2.head(1)"
   ]
  },
  {
   "cell_type": "code",
   "execution_count": 41,
   "metadata": {},
   "outputs": [
    {
     "data": {
      "text/plain": [
       "array([' Mr', ' Mrs', ' Miss', ' Master', ' Don', ' Rev', ' Dr', ' Mme',\n",
       "       ' Ms', ' Major', ' Lady', ' Sir', ' Mlle', ' Col', ' Capt',\n",
       "       ' the Countess', ' Jonkheer'], dtype=object)"
      ]
     },
     "execution_count": 41,
     "metadata": {},
     "output_type": "execute_result"
    }
   ],
   "source": [
    "df_name_2.Title.unique()"
   ]
  },
  {
   "cell_type": "markdown",
   "metadata": {},
   "source": [
    "We see that all of this title have whitespaces. Let's remove them."
   ]
  },
  {
   "cell_type": "code",
   "execution_count": 42,
   "metadata": {},
   "outputs": [],
   "source": [
    "df_name_2['Title'] = df_name_2.Title.str.strip()\n",
    "df_name_2['Surname'] = df_name_2.Surname.str.strip()\n",
    "df_name_2['Rest'] = df_name_2.Rest.str.strip()"
   ]
  },
  {
   "cell_type": "code",
   "execution_count": 43,
   "metadata": {},
   "outputs": [
    {
     "data": {
      "text/plain": [
       "<matplotlib.axes._subplots.AxesSubplot at 0x232489686a0>"
      ]
     },
     "execution_count": 43,
     "metadata": {},
     "output_type": "execute_result"
    },
    {
     "data": {
      "image/png": "[encoded data removed]",
      "text/plain": [
       "<Figure size 1296x576 with 1 Axes>"
      ]
     },
     "metadata": {},
     "output_type": "display_data"
    }
   ],
   "source": [
    "pyplot_options(18, 8)\n",
    "sns.countplot(data=df_name_2, x = \"Title\")"
   ]
  },
  {
   "cell_type": "markdown",
   "metadata": {},
   "source": [
    "We see that on the ship were some people with title different from Mr or Miss. In my opinion titles like: Mr, Miss, Mrs, Master, Ms we can drop. Rest of them may be important in my model. Let's check it in some visualization. "
   ]
  },
  {
   "cell_type": "markdown",
   "metadata": {},
   "source": [
    "This feature will be helpful during Imputation process. My dataset have a lot of missing data in Age feature. With title variable I will calculate mean of age feature in all of titles and then I will impute NA values by that average."
   ]
  },
  {
   "cell_type": "code",
   "execution_count": 44,
   "metadata": {},
   "outputs": [],
   "source": [
    "normal_titles = ('Mr', 'Miss', 'Mrs', 'Master', 'Ms')\n",
    "unusual_titles = ('Dr', 'Rev', 'Mlle', 'Col', 'Capt', 'the Countess', 'Mme', 'Lady')"
   ]
  },
  {
   "cell_type": "code",
   "execution_count": 45,
   "metadata": {},
   "outputs": [],
   "source": [
    "df_plot = pd.merge(df_name_2, pd.DataFrame(df_train_new), how='inner', left_on='PassengerId', right_on='PassengerId') \n",
    "df_plot['NormalTitle'] = df_plot.Title.isin(normal_titles).astype(int)"
   ]
  },
  {
   "cell_type": "code",
   "execution_count": 46,
   "metadata": {
    "scrolled": true
   },
   "outputs": [
    {
     "data": {
      "text/html": [
       "<div>\n",
       "<style scoped>\n",
       "    .dataframe tbody tr th:only-of-type {\n",
       "        vertical-align: middle;\n",
       "    }\n",
       "\n",
       "    .dataframe tbody tr th {\n",
       "        vertical-align: top;\n",
       "    }\n",
       "\n",
       "    .dataframe thead th {\n",
       "        text-align: right;\n",
       "    }\n",
       "</style>\n",
       "<table border=\"1\" class=\"dataframe\">\n",
       "  <thead>\n",
       "    <tr style=\"text-align: right;\">\n",
       "      <th></th>\n",
       "      <th>Title</th>\n",
       "      <th>Surname</th>\n",
       "      <th>Rest</th>\n",
       "      <th>Survived</th>\n",
       "      <th>Pclass</th>\n",
       "      <th>Name</th>\n",
       "      <th>Sex</th>\n",
       "      <th>Age</th>\n",
       "      <th>SibSp</th>\n",
       "      <th>Parch</th>\n",
       "      <th>Ticket</th>\n",
       "      <th>Fare</th>\n",
       "      <th>Cabin</th>\n",
       "      <th>Embarked</th>\n",
       "      <th>NormalTitle</th>\n",
       "    </tr>\n",
       "    <tr>\n",
       "      <th>PassengerId</th>\n",
       "      <th></th>\n",
       "      <th></th>\n",
       "      <th></th>\n",
       "      <th></th>\n",
       "      <th></th>\n",
       "      <th></th>\n",
       "      <th></th>\n",
       "      <th></th>\n",
       "      <th></th>\n",
       "      <th></th>\n",
       "      <th></th>\n",
       "      <th></th>\n",
       "      <th></th>\n",
       "      <th></th>\n",
       "      <th></th>\n",
       "    </tr>\n",
       "  </thead>\n",
       "  <tbody>\n",
       "    <tr>\n",
       "      <th>1</th>\n",
       "      <td>Mr</td>\n",
       "      <td>Owen Harris</td>\n",
       "      <td>None</td>\n",
       "      <td>0</td>\n",
       "      <td>3</td>\n",
       "      <td>Braund, Mr. Owen Harris</td>\n",
       "      <td>male</td>\n",
       "      <td>22.0</td>\n",
       "      <td>1</td>\n",
       "      <td>0</td>\n",
       "      <td>A/5 21171</td>\n",
       "      <td>7.25</td>\n",
       "      <td>NaN</td>\n",
       "      <td>S</td>\n",
       "      <td>1</td>\n",
       "    </tr>\n",
       "  </tbody>\n",
       "</table>\n",
       "</div>"
      ],
      "text/plain": [
       "            Title      Surname  Rest Survived Pclass                     Name  \\\n",
       "PassengerId                                                                     \n",
       "1              Mr  Owen Harris  None        0      3  Braund, Mr. Owen Harris   \n",
       "\n",
       "              Sex   Age SibSp Parch     Ticket  Fare Cabin Embarked  \\\n",
       "PassengerId                                                           \n",
       "1            male  22.0     1     0  A/5 21171  7.25   NaN        S   \n",
       "\n",
       "             NormalTitle  \n",
       "PassengerId               \n",
       "1                      1  "
      ]
     },
     "execution_count": 46,
     "metadata": {},
     "output_type": "execute_result"
    }
   ],
   "source": [
    "df_plot.head(1)"
   ]
  },
  {
   "cell_type": "code",
   "execution_count": 47,
   "metadata": {},
   "outputs": [
    {
     "data": {
      "text/plain": [
       "<matplotlib.axes._subplots.AxesSubplot at 0x2324839bcc0>"
      ]
     },
     "execution_count": 47,
     "metadata": {},
     "output_type": "execute_result"
    },
    {
     "data": {
      "image/png": "[encoded data removed]",
      "text/plain": [
       "<Figure size 1152x432 with 1 Axes>"
      ]
     },
     "metadata": {},
     "output_type": "display_data"
    }
   ],
   "source": [
    "pyplot_options(16, 6)\n",
    "sns.countplot(x='Title', hue = 'Survived', data = df_plot)"
   ]
  },
  {
   "cell_type": "code",
   "execution_count": 48,
   "metadata": {},
   "outputs": [],
   "source": [
    "df_plot['Youth'] = df_plot.Title.isin(['Miss', 'Master']).astype(int)"
   ]
  },
  {
   "cell_type": "code",
   "execution_count": 49,
   "metadata": {},
   "outputs": [
    {
     "data": {
      "text/plain": [
       "<matplotlib.axes._subplots.AxesSubplot at 0x23249301550>"
      ]
     },
     "execution_count": 49,
     "metadata": {},
     "output_type": "execute_result"
    },
    {
     "data": {
      "image/png": "[encoded data removed]",
      "text/plain": [
       "<Figure size 864x576 with 1 Axes>"
      ]
     },
     "metadata": {},
     "output_type": "display_data"
    }
   ],
   "source": [
    "pyplot_options(12, 8)\n",
    "sns.countplot(x='Youth', hue ='Survived', data=df_plot)"
   ]
  },
  {
   "cell_type": "code",
   "execution_count": 50,
   "metadata": {
    "scrolled": false
   },
   "outputs": [
    {
     "data": {
      "text/plain": [
       "<matplotlib.axes._subplots.AxesSubplot at 0x23249570630>"
      ]
     },
     "execution_count": 50,
     "metadata": {},
     "output_type": "execute_result"
    },
    {
     "data": {
      "image/png": "[encoded data removed]",
      "text/plain": [
       "<Figure size 864x576 with 1 Axes>"
      ]
     },
     "metadata": {},
     "output_type": "display_data"
    }
   ],
   "source": [
    "pyplot_options(12, 8)\n",
    "sns.countplot(x='NormalTitle', hue ='Survived', data=df_plot)"
   ]
  },
  {
   "cell_type": "markdown",
   "metadata": {},
   "source": [
    "Summarizing column Name isn't so important. I think that the best feature which i can pull from it is feature Youth and NormalTitle like  I show above. Rest of column isn't important - in my opinion of course. Let's create function with all of operation which I've done above."
   ]
  },
  {
   "cell_type": "code",
   "execution_count": 5,
   "metadata": {},
   "outputs": [],
   "source": [
    "def feature_engineering_name(data):\n",
    "    \n",
    "    # Copy input dataset\n",
    "    df = data.copy()\n",
    "    \n",
    "    # Split Name feature into several columns\n",
    "    df_name = df.Name.str.split(\",\", expand=True).rename(columns = lambda x: f\"Part_Name_{x+1}\")\n",
    "    df_name_2 = df_name.Part_Name_2.str.split(\".\", expand=True).rename(columns = lambda x: f\"Part_Name_{x+1}\")\n",
    "    \n",
    "    # Rename new features and remove whitespaces\n",
    "    df_name_2.rename(columns = {\"Part_Name_1\":\"Title\"}, inplace=True)\n",
    "    df_name_2['Title'] = df_name_2.Title.str.strip()\n",
    "    \n",
    "    # Create vector with normal titles\n",
    "    normal_titles = ('Mr', 'Miss', 'Mrs', 'Master', 'Ms')\n",
    "    \n",
    "    # Create new variables \n",
    "    df_name_2['NormalTitle'] = df_name_2.Title.isin(normal_titles).astype(int)\n",
    "    df_name_2['Youth'] = df_name_2['Title'].isin(['Miss', 'Master']).astype(int)\n",
    "    df_name_2 = df_name_2.loc[:, ('Title', 'NormalTitle', 'Youth')]\n",
    "    \n",
    "    df = pd.merge(df, df_name_2, how=\"inner\", on=\"PassengerId\")\n",
    "    return df"
   ]
  },
  {
   "cell_type": "markdown",
   "metadata": {},
   "source": [
    "Moreover I create function for imputation Nan values form Age feature. Replacing Nan values by average of Mr, Mrs or Youth title will be ea good idea. More accurate than application of most frequent metric."
   ]
  },
  {
   "cell_type": "code",
   "execution_count": 52,
   "metadata": {},
   "outputs": [
    {
     "data": {
      "text/plain": [
       "False    714\n",
       "True     177\n",
       "Name: Age, dtype: int64"
      ]
     },
     "execution_count": 52,
     "metadata": {},
     "output_type": "execute_result"
    }
   ],
   "source": [
    "df_plot.Age.isnull().value_counts()"
   ]
  },
  {
   "cell_type": "code",
   "execution_count": 53,
   "metadata": {},
   "outputs": [
    {
     "name": "stdout",
     "output_type": "stream",
     "text": [
      "Youth Age: 18.0\n",
      "Adult Age: 34.0\n",
      "Mr Age: 32.0\n",
      "Mrs Age: 36.0\n"
     ]
    }
   ],
   "source": [
    "age_youth = np.round(df_plot[df_plot.Youth == 1]['Age'].mean())\n",
    "age_adult = np.round(df_plot[df_plot.Youth == 0]['Age'].mean())\n",
    "age_mr = np.round(df_plot[df_plot.Title == 'Mr']['Age'].mean())\n",
    "age_mrs = np.round(df_plot[df_plot.Title == 'Mrs']['Age'].mean())\n",
    "\n",
    "print(\"Youth Age:\", age_youth)\n",
    "print(\"Adult Age:\", age_adult)\n",
    "print(\"Mr Age:\", age_mr)\n",
    "print(\"Mrs Age:\", age_mrs)"
   ]
  },
  {
   "cell_type": "code",
   "execution_count": 54,
   "metadata": {},
   "outputs": [],
   "source": [
    "df_plot.loc[(df_plot.Title == 'Mr') & (df_plot.Age.isnull()), 'Age']  = age_mr"
   ]
  },
  {
   "cell_type": "code",
   "execution_count": 55,
   "metadata": {},
   "outputs": [],
   "source": [
    "df_plot.loc[(df_plot.Title == 'Mrs') & (df_plot.Age.isnull()), 'Age']  = age_mrs"
   ]
  },
  {
   "cell_type": "code",
   "execution_count": 56,
   "metadata": {},
   "outputs": [],
   "source": [
    "df_plot.loc[(df_plot.Youth == 1) & (df_plot.Age.isnull()), 'Age']  = age_youth"
   ]
  },
  {
   "cell_type": "code",
   "execution_count": 57,
   "metadata": {},
   "outputs": [],
   "source": [
    "df_plot.loc[(df_plot.Youth == 0) & (df_plot.Age.isnull()), 'Age']  = age_adult"
   ]
  },
  {
   "cell_type": "code",
   "execution_count": 58,
   "metadata": {},
   "outputs": [
    {
     "data": {
      "text/plain": [
       "False    891\n",
       "Name: Age, dtype: int64"
      ]
     },
     "execution_count": 58,
     "metadata": {},
     "output_type": "execute_result"
    }
   ],
   "source": [
    "df_plot.Age.isnull().value_counts()"
   ]
  },
  {
   "cell_type": "markdown",
   "metadata": {},
   "source": [
    "#### Feature: Age"
   ]
  },
  {
   "cell_type": "code",
   "execution_count": 6,
   "metadata": {},
   "outputs": [],
   "source": [
    "def imputation_age(df):\n",
    "    age_youth = np.round(df[df.Youth == 1]['Age'].mean())\n",
    "    age_mr = np.round(df[df.Title == 'Mr']['Age'].mean())\n",
    "    age_mrs = np.round(df[df.Title == 'Mrs']['Age'].mean())\n",
    "    age_adult = np.round(df[df.Youth == 0]['Age'].mean())\n",
    "    \n",
    "    df.loc[(df.Youth == 1) & (df.Age.isnull()), 'Age']  = age_youth\n",
    "    df.loc[(df.Title == 'Mr') & (df.Age.isnull()), 'Age']  = age_mr\n",
    "    df.loc[(df.Title == 'Mrs') & (df.Age.isnull()), 'Age']  = age_mrs\n",
    "    df.loc[(df.Youth == 0) & (df.Age.isnull()), 'Age']  = age_adult\n",
    "    return df"
   ]
  },
  {
   "cell_type": "markdown",
   "metadata": {},
   "source": [
    "#### Feature: Ticket"
   ]
  },
  {
   "cell_type": "code",
   "execution_count": 7,
   "metadata": {},
   "outputs": [],
   "source": [
    "def feature_passenger_ticket(data):\n",
    "    ticket_counts = data.Ticket.value_counts()\n",
    "    ticket_counts = pd.DataFrame({'Ticket':ticket_counts.index, \n",
    "                                  'PassengerTicket':ticket_counts}).reset_index().drop(['index'],axis=1) \n",
    "    data = pd.merge(data, ticket_counts, left_on='Ticket', right_on = 'Ticket', how='left')\n",
    "    data['PassengerTicketGT2'] = 0\n",
    "    data['PassengerTicketGT2'][data.PassengerTicket >= 2] = 1\n",
    "    print(\"Complete\")\n",
    "    return data"
   ]
  },
  {
   "cell_type": "markdown",
   "metadata": {},
   "source": [
    "#### Feature: Cabin"
   ]
  },
  {
   "cell_type": "code",
   "execution_count": 8,
   "metadata": {},
   "outputs": [],
   "source": [
    "def feature_passenger_cabin(data):\n",
    "    cabin_counts = data.Cabin.value_counts()\n",
    "    cabin_counts = pd.DataFrame({'Cabin':cabin_counts.index, \n",
    "                                 'PassengerCabin':cabin_counts})\\\n",
    "    .reset_index()\\\n",
    "    .drop(['index'],axis=1)\n",
    "    data = pd.merge(data, cabin_counts, left_on='Cabin', right_on = 'Cabin', how='left')\n",
    "    data.PassengerCabin[data.PassengerCabin.isna() == True] = 0\n",
    "    data['PassengerCabinGT2'] = 0\n",
    "    data['PassengerCabinGT2'][data.PassengerCabin >= 2] = 1\n",
    "    print(\"Complete\")\n",
    "    return data"
   ]
  },
  {
   "cell_type": "code",
   "execution_count": 9,
   "metadata": {},
   "outputs": [],
   "source": [
    "def feature_engineering_newcabin(data):\n",
    "    data['NewCabin']=char.ljust(np.array(data.Cabin.replace(np.nan, 'X')).astype(str), width=0)\n",
    "    print(\"Complete\")\n",
    "    return data"
   ]
  },
  {
   "cell_type": "markdown",
   "metadata": {},
   "source": [
    "#### Feature: Fare"
   ]
  },
  {
   "cell_type": "code",
   "execution_count": 10,
   "metadata": {},
   "outputs": [],
   "source": [
    "def feature_engineering_farebins(data, bins=[0, 10, 25, 50, 75, 1000]):\n",
    "    data['FareBins']=pd.cut(data.Fare, bins=bins, right=False, labels=bins[:-1])\n",
    "    print('Complete')\n",
    "    return data"
   ]
  },
  {
   "cell_type": "markdown",
   "metadata": {},
   "source": [
    "## Modelling"
   ]
  },
  {
   "cell_type": "markdown",
   "metadata": {},
   "source": [
    "First one I will split df_train for training and testing datasets. On training dataset I will create new features and build the model and on testing dataset I will use the same functions to create features like on training dataset and check the performence of the model. "
   ]
  },
  {
   "cell_type": "markdown",
   "metadata": {},
   "source": [
    "Before split I use PassengerId like index variable. In my opinion PassengerId isn't necessary feature to increase performence the model - it's great feature for index my data."
   ]
  },
  {
   "cell_type": "markdown",
   "metadata": {},
   "source": [
    "#### Load dataset"
   ]
  },
  {
   "cell_type": "code",
   "execution_count": 11,
   "metadata": {},
   "outputs": [],
   "source": [
    "df_train = pd.read_csv(\"../data/train.csv\")\n",
    "df_test = pd.read_csv(\"../data//test.csv\")\n",
    "df_sub = pd.read_csv(\"../data/gender_submission.csv\")"
   ]
  },
  {
   "cell_type": "markdown",
   "metadata": {},
   "source": [
    "#### Train, test split"
   ]
  },
  {
   "cell_type": "code",
   "execution_count": 12,
   "metadata": {},
   "outputs": [],
   "source": [
    "from sklearn.model_selection import train_test_split"
   ]
  },
  {
   "cell_type": "code",
   "execution_count": 13,
   "metadata": {},
   "outputs": [],
   "source": [
    "X_train = df_train.drop(['Survived'], axis=1)\n",
    "y_train = df_train.loc[:, 'Survived']\n",
    "X_test = df_test.copy()\n",
    "y_test = df_sub.loc[:, 'Survived']"
   ]
  },
  {
   "cell_type": "code",
   "execution_count": 14,
   "metadata": {},
   "outputs": [],
   "source": [
    "X = df_train.copy().drop(['Survived'], axis=1)\n",
    "y = df_train.loc[:, 'Survived']"
   ]
  },
  {
   "cell_type": "code",
   "execution_count": 15,
   "metadata": {},
   "outputs": [],
   "source": [
    "np.random.seed(23)\n",
    "X_train, X_test, y_train, y_test = train_test_split(X, y, test_size=0.3, random_state=42)"
   ]
  },
  {
   "cell_type": "code",
   "execution_count": 16,
   "metadata": {},
   "outputs": [
    {
     "name": "stdout",
     "output_type": "stream",
     "text": [
      "Shape of training features:  (623, 11)\n",
      "Shape of testing features:  (268, 11)\n",
      "Shape of training target:  (623,)\n",
      "Shape of testing target:  (268,)\n"
     ]
    }
   ],
   "source": [
    "print('Shape of training features: ', X_train.shape)\n",
    "print('Shape of testing features: ', X_test.shape)\n",
    "print('Shape of training target: ', y_train.shape)\n",
    "print('Shape of testing target: ', y_test.shape)"
   ]
  },
  {
   "cell_type": "markdown",
   "metadata": {},
   "source": [
    "#### Feature Engineering"
   ]
  },
  {
   "cell_type": "code",
   "execution_count": 17,
   "metadata": {},
   "outputs": [
    {
     "name": "stdout",
     "output_type": "stream",
     "text": [
      "Complete\n",
      "Complete\n",
      "Complete\n",
      "Complete\n"
     ]
    }
   ],
   "source": [
    "set_index_data(X_train)\n",
    "set_index_data(X_test)\n",
    "set_index_data(df_test)\n",
    "set_index_data(df_train)"
   ]
  },
  {
   "cell_type": "code",
   "execution_count": 18,
   "metadata": {},
   "outputs": [
    {
     "data": {
      "text/plain": [
       "Pclass        int64\n",
       "Name         object\n",
       "Sex          object\n",
       "Age         float64\n",
       "SibSp         int64\n",
       "Parch         int64\n",
       "Ticket       object\n",
       "Fare        float64\n",
       "Cabin        object\n",
       "Embarked     object\n",
       "dtype: object"
      ]
     },
     "execution_count": 18,
     "metadata": {},
     "output_type": "execute_result"
    }
   ],
   "source": [
    "X_train.dtypes"
   ]
  },
  {
   "cell_type": "code",
   "execution_count": 19,
   "metadata": {},
   "outputs": [],
   "source": [
    "category_columns =  ('Pclass', 'Name', 'Sex', 'SibSp', 'Parch', 'Ticket', 'Cabin', 'Embarked')\n",
    "float_columns = ('Age', 'Fare')"
   ]
  },
  {
   "cell_type": "code",
   "execution_count": 20,
   "metadata": {},
   "outputs": [
    {
     "name": "stderr",
     "output_type": "stream",
     "text": [
      "C:\\Users\\ppatrzalek\\AppData\\Local\\Continuum\\anaconda3\\lib\\site-packages\\pandas\\core\\indexing.py:494: SettingWithCopyWarning: \n",
      "A value is trying to be set on a copy of a slice from a DataFrame.\n",
      "Try using .loc[row_indexer,col_indexer] = value instead\n",
      "\n",
      "See the caveats in the documentation: http://pandas.pydata.org/pandas-docs/stable/user_guide/indexing.html#returning-a-view-versus-a-copy\n",
      "  self.obj[item] = s\n"
     ]
    }
   ],
   "source": [
    "X_train=convert_features(X_train, columns = category_columns, type = 'category')\n",
    "X_train=convert_features(X_train, columns = float_columns, type = 'float64')\n",
    "\n",
    "X_test=convert_features(X_test, columns = category_columns, type = 'category')\n",
    "X_test=convert_features(X_test, columns = float_columns, type = 'float64')\n",
    "\n",
    "df_test = convert_features(df_test, columns = category_columns, type = 'category')\n",
    "df_test = convert_features(df_test, columns = float_columns, type = 'float64')\n",
    "\n",
    "df_train = convert_features(df_train, columns = category_columns, type = 'category')\n",
    "df_train = convert_features(df_train, columns = float_columns, type = 'float64')"
   ]
  },
  {
   "cell_type": "code",
   "execution_count": 21,
   "metadata": {},
   "outputs": [],
   "source": [
    "X_train=feature_engineering_name(X_train)\n",
    "X_test=feature_engineering_name(X_test)\n",
    "df_test=feature_engineering_name(df_test)\n",
    "df_train=feature_engineering_name(df_train)"
   ]
  },
  {
   "cell_type": "code",
   "execution_count": 22,
   "metadata": {},
   "outputs": [],
   "source": [
    "X_train = imputation_age(X_train)\n",
    "X_test = imputation_age(X_test)\n",
    "df_train = imputation_age(df_train)\n",
    "df_test = imputation_age(df_test)"
   ]
  },
  {
   "cell_type": "code",
   "execution_count": 23,
   "metadata": {},
   "outputs": [
    {
     "name": "stdout",
     "output_type": "stream",
     "text": [
      "Complete\n",
      "Complete\n",
      "Complete\n",
      "Complete\n"
     ]
    }
   ],
   "source": [
    "X_train=feature_engineering_agebins(X_train, inplace=False)\n",
    "X_test=feature_engineering_agebins(X_test, inplace=False)\n",
    "df_test=feature_engineering_agebins(df_test, inplace=False)\n",
    "df_train=feature_engineering_agebins(df_train, inplace=False)"
   ]
  },
  {
   "cell_type": "code",
   "execution_count": 24,
   "metadata": {},
   "outputs": [
    {
     "name": "stdout",
     "output_type": "stream",
     "text": [
      "Complete\n",
      "Complete\n",
      "Complete\n",
      "Complete\n"
     ]
    },
    {
     "name": "stderr",
     "output_type": "stream",
     "text": [
      "C:\\Users\\ppatrzalek\\AppData\\Local\\Continuum\\anaconda3\\lib\\site-packages\\ipykernel_launcher.py:7: SettingWithCopyWarning: \n",
      "A value is trying to be set on a copy of a slice from a DataFrame\n",
      "\n",
      "See the caveats in the documentation: http://pandas.pydata.org/pandas-docs/stable/user_guide/indexing.html#returning-a-view-versus-a-copy\n",
      "  import sys\n"
     ]
    }
   ],
   "source": [
    "X_train=feature_passenger_ticket(X_train)\n",
    "X_test=feature_passenger_ticket(X_test)\n",
    "df_test=feature_passenger_ticket(df_test)\n",
    "df_train=feature_passenger_ticket(df_train)"
   ]
  },
  {
   "cell_type": "code",
   "execution_count": 25,
   "metadata": {},
   "outputs": [
    {
     "name": "stdout",
     "output_type": "stream",
     "text": [
      "Complete\n",
      "Complete\n",
      "Complete\n",
      "Complete\n"
     ]
    },
    {
     "name": "stderr",
     "output_type": "stream",
     "text": [
      "C:\\Users\\ppatrzalek\\AppData\\Local\\Continuum\\anaconda3\\lib\\site-packages\\ipykernel_launcher.py:8: SettingWithCopyWarning: \n",
      "A value is trying to be set on a copy of a slice from a DataFrame\n",
      "\n",
      "See the caveats in the documentation: http://pandas.pydata.org/pandas-docs/stable/user_guide/indexing.html#returning-a-view-versus-a-copy\n",
      "  \n",
      "C:\\Users\\ppatrzalek\\AppData\\Local\\Continuum\\anaconda3\\lib\\site-packages\\ipykernel_launcher.py:10: SettingWithCopyWarning: \n",
      "A value is trying to be set on a copy of a slice from a DataFrame\n",
      "\n",
      "See the caveats in the documentation: http://pandas.pydata.org/pandas-docs/stable/user_guide/indexing.html#returning-a-view-versus-a-copy\n",
      "  # Remove the CWD from sys.path while we load stuff.\n"
     ]
    }
   ],
   "source": [
    "X_train=feature_passenger_cabin(X_train)\n",
    "X_test=feature_passenger_cabin(X_test)\n",
    "df_test=feature_passenger_cabin(df_test)\n",
    "df_train=feature_passenger_cabin(df_train)"
   ]
  },
  {
   "cell_type": "code",
   "execution_count": 26,
   "metadata": {},
   "outputs": [
    {
     "name": "stdout",
     "output_type": "stream",
     "text": [
      "Complete\n",
      "Complete\n",
      "Complete\n",
      "Complete\n"
     ]
    }
   ],
   "source": [
    "X_train=feature_engineering_newcabin(X_train)\n",
    "X_test=feature_engineering_newcabin(X_test)\n",
    "df_test=feature_engineering_newcabin(df_test)\n",
    "df_train=feature_engineering_newcabin(df_train)"
   ]
  },
  {
   "cell_type": "code",
   "execution_count": 27,
   "metadata": {
    "scrolled": false
   },
   "outputs": [
    {
     "name": "stdout",
     "output_type": "stream",
     "text": [
      "Complete\n",
      "Complete\n",
      "Complete\n",
      "Complete\n"
     ]
    }
   ],
   "source": [
    "X_train=feature_engineering_farebins(X_train)\n",
    "X_test=feature_engineering_farebins(X_test)\n",
    "df_test=feature_engineering_farebins(df_test)\n",
    "df_train=feature_engineering_farebins(df_train)"
   ]
  },
  {
   "cell_type": "code",
   "execution_count": 28,
   "metadata": {},
   "outputs": [
    {
     "data": {
      "text/plain": [
       "Pclass                category\n",
       "Name                  category\n",
       "Sex                   category\n",
       "Age                    float64\n",
       "SibSp                 category\n",
       "Parch                 category\n",
       "Ticket                category\n",
       "Fare                   float64\n",
       "Cabin                 category\n",
       "Embarked              category\n",
       "Title                   object\n",
       "NormalTitle              int32\n",
       "Youth                    int32\n",
       "AgeBins               category\n",
       "PassengerTicket          int64\n",
       "PassengerTicketGT2       int64\n",
       "PassengerCabin         float64\n",
       "PassengerCabinGT2        int64\n",
       "NewCabin                object\n",
       "FareBins              category\n",
       "dtype: object"
      ]
     },
     "execution_count": 28,
     "metadata": {},
     "output_type": "execute_result"
    }
   ],
   "source": [
    "X_train.dtypes"
   ]
  },
  {
   "cell_type": "code",
   "execution_count": 29,
   "metadata": {},
   "outputs": [],
   "source": [
    "category_columns = ('Pclass', 'Name', 'Sex', 'SibSp', 'Parch', 'Ticket', 'Cabin', 'Embarked', 'Title', 'AgeBins', 'PassengerTicket', 'PassengerCabin', 'NewCabin', 'FareBins')\n",
    "float_columns = ('Age', 'Fare', 'NormalTitle', 'Youth', 'PassengerTicketGT2', 'PassengerCabinGT2')"
   ]
  },
  {
   "cell_type": "code",
   "execution_count": 30,
   "metadata": {},
   "outputs": [],
   "source": [
    "X_train=convert_features(X_train, columns = category_columns, type = 'category')\n",
    "X_train=convert_features(X_train, columns = float_columns, type = 'float64')\n",
    "\n",
    "X_test=convert_features(X_test, columns = category_columns, type = 'category')\n",
    "X_test=convert_features(X_test, columns = float_columns, type = 'float64')\n",
    "\n",
    "df_test = convert_features(df_test, columns = category_columns, type = 'category')\n",
    "df_test = convert_features(df_test, columns = float_columns, type = 'float64')\n",
    "\n",
    "df_train = convert_features(df_train, columns = category_columns, type = 'category')\n",
    "df_train = convert_features(df_train, columns = float_columns, type = 'float64')"
   ]
  },
  {
   "cell_type": "code",
   "execution_count": 31,
   "metadata": {},
   "outputs": [],
   "source": [
    "X_train = X_train.drop(['Name', 'Ticket',  'Cabin', 'Title'], axis=1)\n",
    "X_test = X_test.drop(['Name', 'Ticket',  'Cabin', 'Title'], axis=1)\n",
    "df_test = df_test.drop(['Name', 'Ticket', 'Cabin', 'Title'], axis=1)\n",
    "df_train = df_train.drop(['Name', 'Ticket',  'Cabin', 'Title'], axis=1)"
   ]
  },
  {
   "cell_type": "code",
   "execution_count": 32,
   "metadata": {},
   "outputs": [
    {
     "data": {
      "text/plain": [
       "Pclass                category\n",
       "Sex                   category\n",
       "Age                    float64\n",
       "SibSp                 category\n",
       "Parch                 category\n",
       "Fare                   float64\n",
       "Embarked              category\n",
       "NormalTitle            float64\n",
       "Youth                  float64\n",
       "AgeBins               category\n",
       "PassengerTicket       category\n",
       "PassengerTicketGT2     float64\n",
       "PassengerCabin        category\n",
       "PassengerCabinGT2      float64\n",
       "NewCabin              category\n",
       "FareBins              category\n",
       "dtype: object"
      ]
     },
     "execution_count": 32,
     "metadata": {},
     "output_type": "execute_result"
    }
   ],
   "source": [
    "df_test.dtypes"
   ]
  },
  {
   "cell_type": "markdown",
   "metadata": {},
   "source": [
    "#### Categorical Variables"
   ]
  },
  {
   "cell_type": "code",
   "execution_count": 33,
   "metadata": {},
   "outputs": [],
   "source": [
    "from sklearn.impute import SimpleImputer "
   ]
  },
  {
   "cell_type": "code",
   "execution_count": 34,
   "metadata": {},
   "outputs": [],
   "source": [
    "def na_values(data, feature):\n",
    "    return data[data[feature].isna() == True].shape[0]\n",
    "\n",
    "def number_of_class(data, feature):\n",
    "    return len(data[feature].unique())"
   ]
  },
  {
   "cell_type": "code",
   "execution_count": 35,
   "metadata": {},
   "outputs": [],
   "source": [
    "def isin_feature(df_train, df_test, feature):\n",
    "    unique_values = df_train[feature].unique()\n",
    "    data_test = df_test.copy()\n",
    "    data_test.loc[data_test[feature].isin(unique_values), feature] = data_test[feature]\n",
    "    data_test.loc[~data_test[feature].isin(unique_values), feature] = np.nan\n",
    "    return data_test"
   ]
  },
  {
   "cell_type": "code",
   "execution_count": 36,
   "metadata": {},
   "outputs": [
    {
     "name": "stdout",
     "output_type": "stream",
     "text": [
      "NA values in FareBins feature: 1\n",
      "Number of class in FareBins feature: 6\n",
      "\n",
      "NA values in AgeBins feature: 0\n",
      "Number of class in AgeBins feature: 6\n",
      "\n",
      "NA values in Pclass feature: 0\n",
      "Number of class in Pclass feature: 3\n",
      "\n",
      "NA values in Sex feature: 0\n",
      "Number of class in Sex feature: 2\n",
      "\n",
      "NA values in SibSp feature: 0\n",
      "Number of class in SibSp feature: 7\n",
      "\n",
      "NA values in Parch feature: 0\n",
      "Number of class in Parch feature: 8\n",
      "\n",
      "NA values in Embarked feature: 0\n",
      "Number of class in Embarked feature: 3\n",
      "\n",
      "NA values in NewCabin feature: 0\n",
      "Number of class in NewCabin feature: 8\n",
      "\n",
      "NA values in PassengerCabin feature: 0\n",
      "Number of class in PassengerCabin feature: 4\n",
      "\n",
      "NA values in PassengerCabinGT2 feature: 0\n",
      "Number of class in PassengerCabinGT2 feature: 2\n",
      "\n",
      "NA values in PassengerTicket feature: 0\n",
      "Number of class in PassengerTicket feature: 5\n",
      "\n",
      "NA values in PassengerTicketGT2 feature: 0\n",
      "Number of class in PassengerTicketGT2 feature: 2\n",
      "\n"
     ]
    }
   ],
   "source": [
    "features = ['FareBins', 'AgeBins', 'Pclass', 'Sex', 'SibSp', 'Parch', 'Embarked', 'NewCabin', 'PassengerCabin', 'PassengerCabinGT2', 'PassengerTicket', 'PassengerTicketGT2']\n",
    "for i in features:\n",
    "    print(\"NA values in {} feature: {}\".format(i, na_values(df_test, i)))\n",
    "    print(\"Number of class in {} feature: {}\".format(i, number_of_class(df_test, i)))\n",
    "    print()"
   ]
  },
  {
   "cell_type": "code",
   "execution_count": 37,
   "metadata": {},
   "outputs": [],
   "source": [
    "X_test = isin_feature(X_train, X_test, 'Parch')\n",
    "df_test = isin_feature(df_train, df_test, 'Parch')"
   ]
  },
  {
   "cell_type": "code",
   "execution_count": 38,
   "metadata": {},
   "outputs": [],
   "source": [
    "categorical_columns = ('Pclass', 'Sex', 'SibSp', 'Parch', 'Embarked', 'AgeBins', 'PassengerTicket', 'PassengerCabin', 'NewCabin', 'FareBins')\n",
    "categorical_imputer=SimpleImputer(missing_values=np.nan, strategy='most_frequent')\n",
    "categorical_imputer.fit(X_train.loc[:, categorical_columns])\n",
    "X_train.loc[:, categorical_columns] = categorical_imputer.transform(X_train.loc[:, categorical_columns])\n",
    "X_test.loc[:, categorical_columns] = categorical_imputer.transform(X_test.loc[:, categorical_columns])\n",
    "df_test.loc[:, categorical_columns] = categorical_imputer.transform(df_test.loc[:, categorical_columns])\n",
    "df_train.loc[:, categorical_columns] = categorical_imputer.transform(df_train.loc[:, categorical_columns])"
   ]
  },
  {
   "cell_type": "markdown",
   "metadata": {},
   "source": [
    "#### One Hot Encoding"
   ]
  },
  {
   "cell_type": "code",
   "execution_count": 39,
   "metadata": {},
   "outputs": [],
   "source": [
    "category_columns = ('Pclass',  'Sex', 'SibSp', 'Parch', 'Embarked',  'AgeBins', 'PassengerTicket', 'PassengerCabin', 'NewCabin', 'FareBins')\n",
    "float_columns = ('Age', 'Fare', 'NormalTitle', 'Youth', 'PassengerTicketGT2', 'PassengerCabinGT2')"
   ]
  },
  {
   "cell_type": "code",
   "execution_count": 40,
   "metadata": {},
   "outputs": [],
   "source": [
    "X_train=convert_features(X_train, columns = category_columns, type = 'category')\n",
    "X_train=convert_features(X_train, columns = float_columns, type = 'float64')\n",
    "\n",
    "X_test=convert_features(X_test, columns = category_columns, type = 'category')\n",
    "X_test=convert_features(X_test, columns = float_columns, type = 'float64')\n",
    "\n",
    "df_test = convert_features(df_test, columns = category_columns, type = 'category')\n",
    "df_test = convert_features(df_test, columns = float_columns, type = 'float64')\n",
    "\n",
    "df_train = convert_features(df_train, columns = category_columns, type = 'category')\n",
    "df_train = convert_features(df_train, columns = float_columns, type = 'float64')"
   ]
  },
  {
   "cell_type": "code",
   "execution_count": 41,
   "metadata": {},
   "outputs": [
    {
     "data": {
      "text/plain": [
       "Pclass                category\n",
       "Sex                   category\n",
       "Age                    float64\n",
       "SibSp                 category\n",
       "Parch                 category\n",
       "Fare                   float64\n",
       "Embarked              category\n",
       "NormalTitle            float64\n",
       "Youth                  float64\n",
       "AgeBins               category\n",
       "PassengerTicket       category\n",
       "PassengerTicketGT2     float64\n",
       "PassengerCabin        category\n",
       "PassengerCabinGT2      float64\n",
       "NewCabin              category\n",
       "FareBins              category\n",
       "dtype: object"
      ]
     },
     "execution_count": 41,
     "metadata": {},
     "output_type": "execute_result"
    }
   ],
   "source": [
    "X_train.dtypes"
   ]
  },
  {
   "cell_type": "code",
   "execution_count": 42,
   "metadata": {},
   "outputs": [],
   "source": [
    "from sklearn.preprocessing import OneHotEncoder\n",
    "\n",
    "encoder_features = ['Pclass',  'Sex', 'SibSp', 'Parch', 'Embarked',  'AgeBins', 'PassengerTicket', 'PassengerCabin', 'NewCabin', 'FareBins']\n",
    "encoder = OneHotEncoder()\n",
    "encoder.fit(df_train.loc[:, encoder_features])\n",
    "encoding_features_train=encoder.transform(X_train.loc[:, encoder_features]).toarray()\n",
    "encoding_features_test=encoder.transform(X_test.loc[:, encoder_features]).toarray()\n",
    "encoding_features_df_test=encoder.transform(df_test.loc[:, encoder_features]).toarray()\n",
    "encoding_features_df_train=encoder.transform(df_train.loc[:, encoder_features]).toarray()"
   ]
  },
  {
   "cell_type": "code",
   "execution_count": 43,
   "metadata": {},
   "outputs": [],
   "source": [
    "X_train.drop(columns=encoder_features, inplace=True)\n",
    "X_test.drop(columns=encoder_features, inplace=True)\n",
    "df_test.drop(columns=encoder_features, inplace=True)\n",
    "df_train.drop(columns=encoder_features, inplace=True)"
   ]
  },
  {
   "cell_type": "code",
   "execution_count": 44,
   "metadata": {},
   "outputs": [],
   "source": [
    "df_encoding_train = pd.DataFrame(encoding_features_train, index=X_train.index)\n",
    "df_encoding_train.columns = encoder.get_feature_names(encoder_features)\n",
    "\n",
    "df_encoding_test = pd.DataFrame(encoding_features_test, index=X_test.index)\n",
    "df_encoding_test.columns = encoder.get_feature_names(encoder_features)\n",
    "\n",
    "df_encoding_df_test = pd.DataFrame(encoding_features_df_test, index=df_test.index)\n",
    "df_encoding_df_test.columns = encoder.get_feature_names(encoder_features)\n",
    "\n",
    "df_encoding_df_train = pd.DataFrame(encoding_features_df_train, index=df_train.index)\n",
    "df_encoding_df_train.columns = encoder.get_feature_names(encoder_features)"
   ]
  },
  {
   "cell_type": "code",
   "execution_count": 45,
   "metadata": {},
   "outputs": [],
   "source": [
    "X_train=pd.concat([X_train, df_encoding_train], join='outer', axis=1, ignore_index=False)\n",
    "X_test=pd.concat([X_test, df_encoding_test], join='outer', axis=1, ignore_index=False)\n",
    "df_test=pd.concat([df_test, df_encoding_df_test], join='outer', axis=1, ignore_index=False)\n",
    "df_train=pd.concat([df_train, df_encoding_df_train], join='outer', axis=1, ignore_index=False)"
   ]
  },
  {
   "cell_type": "code",
   "execution_count": 46,
   "metadata": {},
   "outputs": [
    {
     "name": "stdout",
     "output_type": "stream",
     "text": [
      "Shape of train data  (623, 60)\n",
      "Shape of test data  (268, 60)\n",
      "Shape of test data  (418, 60)\n",
      "Shape of training data  (891, 61)\n"
     ]
    }
   ],
   "source": [
    "print(\"Shape of train data \", X_train.shape)\n",
    "print(\"Shape of test data \", X_test.shape)\n",
    "print(\"Shape of test data \", df_test.shape)\n",
    "print(\"Shape of training data \", df_train.shape)"
   ]
  },
  {
   "cell_type": "code",
   "execution_count": 47,
   "metadata": {},
   "outputs": [],
   "source": [
    "X = df_train.drop(['Survived'], axis=1)\n",
    "y = df_train.loc[:, 'Survived']"
   ]
  },
  {
   "cell_type": "code",
   "execution_count": 48,
   "metadata": {},
   "outputs": [
    {
     "data": {
      "text/plain": [
       "Age                   float64\n",
       "Fare                  float64\n",
       "NormalTitle           float64\n",
       "Youth                 float64\n",
       "PassengerTicketGT2    float64\n",
       "PassengerCabinGT2     float64\n",
       "Pclass_1              float64\n",
       "Pclass_2              float64\n",
       "Pclass_3              float64\n",
       "Sex_female            float64\n",
       "Sex_male              float64\n",
       "SibSp_0               float64\n",
       "SibSp_1               float64\n",
       "SibSp_2               float64\n",
       "SibSp_3               float64\n",
       "SibSp_4               float64\n",
       "SibSp_5               float64\n",
       "SibSp_8               float64\n",
       "Parch_0               float64\n",
       "Parch_1               float64\n",
       "Parch_2               float64\n",
       "Parch_3               float64\n",
       "Parch_4               float64\n",
       "Parch_5               float64\n",
       "Parch_6               float64\n",
       "Embarked_C            float64\n",
       "Embarked_Q            float64\n",
       "Embarked_S            float64\n",
       "AgeBins_0             float64\n",
       "AgeBins_6             float64\n",
       "AgeBins_20            float64\n",
       "AgeBins_30            float64\n",
       "AgeBins_45            float64\n",
       "AgeBins_60            float64\n",
       "PassengerTicket_1     float64\n",
       "PassengerTicket_2     float64\n",
       "PassengerTicket_3     float64\n",
       "PassengerTicket_4     float64\n",
       "PassengerTicket_5     float64\n",
       "PassengerTicket_6     float64\n",
       "PassengerTicket_7     float64\n",
       "PassengerCabin_0.0    float64\n",
       "PassengerCabin_1.0    float64\n",
       "PassengerCabin_2.0    float64\n",
       "PassengerCabin_3.0    float64\n",
       "PassengerCabin_4.0    float64\n",
       "NewCabin_A            float64\n",
       "NewCabin_B            float64\n",
       "NewCabin_C            float64\n",
       "NewCabin_D            float64\n",
       "NewCabin_E            float64\n",
       "NewCabin_F            float64\n",
       "NewCabin_G            float64\n",
       "NewCabin_T            float64\n",
       "NewCabin_X            float64\n",
       "FareBins_0            float64\n",
       "FareBins_10           float64\n",
       "FareBins_25           float64\n",
       "FareBins_50           float64\n",
       "FareBins_75           float64\n",
       "dtype: object"
      ]
     },
     "execution_count": 48,
     "metadata": {},
     "output_type": "execute_result"
    }
   ],
   "source": [
    "X_train.dtypes"
   ]
  },
  {
   "cell_type": "code",
   "execution_count": 49,
   "metadata": {},
   "outputs": [
    {
     "data": {
      "text/plain": [
       "(623, 60)"
      ]
     },
     "execution_count": 49,
     "metadata": {},
     "output_type": "execute_result"
    }
   ],
   "source": [
    "X_train.shape"
   ]
  },
  {
   "cell_type": "markdown",
   "metadata": {},
   "source": [
    "## Feature Importance"
   ]
  },
  {
   "cell_type": "markdown",
   "metadata": {},
   "source": [
    "#### Recursive feature elimination"
   ]
  },
  {
   "cell_type": "code",
   "execution_count": 51,
   "metadata": {},
   "outputs": [],
   "source": [
    "from sklearn.linear_model import LogisticRegression\n",
    "from sklearn.model_selection import StratifiedKFold\n",
    "from sklearn.feature_selection import RFECV"
   ]
  },
  {
   "cell_type": "code",
   "execution_count": 52,
   "metadata": {},
   "outputs": [
    {
     "name": "stdout",
     "output_type": "stream",
     "text": [
      "Feature Importance training set: (300, 60)\n",
      "\n",
      "Feature Importance training target set: (300,)\n"
     ]
    }
   ],
   "source": [
    "batch_size = 300\n",
    "sample_rows = np.random.randint(0, X_train.shape[0], batch_size)\n",
    "X_train_fi = X_train.loc[sample_rows, :]\n",
    "y_train_fi = y_train.iloc[sample_rows]\n",
    "print(\"Feature Importance training set:\", X_train_fi.shape)\n",
    "print()\n",
    "print(\"Feature Importance training target set:\", y_train_fi.shape)"
   ]
  },
  {
   "cell_type": "code",
   "execution_count": 58,
   "metadata": {},
   "outputs": [
    {
     "name": "stderr",
     "output_type": "stream",
     "text": [
      "C:\\Users\\ppatrzalek\\AppData\\Local\\Continuum\\anaconda3\\lib\\site-packages\\sklearn\\linear_model\\_logistic.py:940: ConvergenceWarning: lbfgs failed to converge (status=1):\n",
      "STOP: TOTAL NO. of ITERATIONS REACHED LIMIT.\n",
      "\n",
      "Increase the number of iterations (max_iter) or scale the data as shown in:\n",
      "    https://scikit-learn.org/stable/modules/preprocessing.html\n",
      "Please also refer to the documentation for alternative solver options:\n",
      "    https://scikit-learn.org/stable/modules/linear_model.html#logistic-regression\n",
      "  extra_warning_msg=_LOGISTIC_SOLVER_CONVERGENCE_MSG)\n",
      "C:\\Users\\ppatrzalek\\AppData\\Local\\Continuum\\anaconda3\\lib\\site-packages\\sklearn\\linear_model\\_logistic.py:940: ConvergenceWarning: lbfgs failed to converge (status=1):\n",
      "STOP: TOTAL NO. of ITERATIONS REACHED LIMIT.\n",
      "\n",
      "Increase the number of iterations (max_iter) or scale the data as shown in:\n",
      "    https://scikit-learn.org/stable/modules/preprocessing.html\n",
      "Please also refer to the documentation for alternative solver options:\n",
      "    https://scikit-learn.org/stable/modules/linear_model.html#logistic-regression\n",
      "  extra_warning_msg=_LOGISTIC_SOLVER_CONVERGENCE_MSG)\n",
      "C:\\Users\\ppatrzalek\\AppData\\Local\\Continuum\\anaconda3\\lib\\site-packages\\sklearn\\linear_model\\_logistic.py:940: ConvergenceWarning: lbfgs failed to converge (status=1):\n",
      "STOP: TOTAL NO. of ITERATIONS REACHED LIMIT.\n",
      "\n",
      "Increase the number of iterations (max_iter) or scale the data as shown in:\n",
      "    https://scikit-learn.org/stable/modules/preprocessing.html\n",
      "Please also refer to the documentation for alternative solver options:\n",
      "    https://scikit-learn.org/stable/modules/linear_model.html#logistic-regression\n",
      "  extra_warning_msg=_LOGISTIC_SOLVER_CONVERGENCE_MSG)\n",
      "C:\\Users\\ppatrzalek\\AppData\\Local\\Continuum\\anaconda3\\lib\\site-packages\\sklearn\\linear_model\\_logistic.py:940: ConvergenceWarning: lbfgs failed to converge (status=1):\n",
      "STOP: TOTAL NO. of ITERATIONS REACHED LIMIT.\n",
      "\n",
      "Increase the number of iterations (max_iter) or scale the data as shown in:\n",
      "    https://scikit-learn.org/stable/modules/preprocessing.html\n",
      "Please also refer to the documentation for alternative solver options:\n",
      "    https://scikit-learn.org/stable/modules/linear_model.html#logistic-regression\n",
      "  extra_warning_msg=_LOGISTIC_SOLVER_CONVERGENCE_MSG)\n",
      "C:\\Users\\ppatrzalek\\AppData\\Local\\Continuum\\anaconda3\\lib\\site-packages\\sklearn\\linear_model\\_logistic.py:940: ConvergenceWarning: lbfgs failed to converge (status=1):\n",
      "STOP: TOTAL NO. of ITERATIONS REACHED LIMIT.\n",
      "\n",
      "Increase the number of iterations (max_iter) or scale the data as shown in:\n",
      "    https://scikit-learn.org/stable/modules/preprocessing.html\n",
      "Please also refer to the documentation for alternative solver options:\n",
      "    https://scikit-learn.org/stable/modules/linear_model.html#logistic-regression\n",
      "  extra_warning_msg=_LOGISTIC_SOLVER_CONVERGENCE_MSG)\n",
      "C:\\Users\\ppatrzalek\\AppData\\Local\\Continuum\\anaconda3\\lib\\site-packages\\sklearn\\linear_model\\_logistic.py:940: ConvergenceWarning: lbfgs failed to converge (status=1):\n",
      "STOP: TOTAL NO. of ITERATIONS REACHED LIMIT.\n",
      "\n",
      "Increase the number of iterations (max_iter) or scale the data as shown in:\n",
      "    https://scikit-learn.org/stable/modules/preprocessing.html\n",
      "Please also refer to the documentation for alternative solver options:\n",
      "    https://scikit-learn.org/stable/modules/linear_model.html#logistic-regression\n",
      "  extra_warning_msg=_LOGISTIC_SOLVER_CONVERGENCE_MSG)\n",
      "C:\\Users\\ppatrzalek\\AppData\\Local\\Continuum\\anaconda3\\lib\\site-packages\\sklearn\\linear_model\\_logistic.py:940: ConvergenceWarning: lbfgs failed to converge (status=1):\n",
      "STOP: TOTAL NO. of ITERATIONS REACHED LIMIT.\n",
      "\n",
      "Increase the number of iterations (max_iter) or scale the data as shown in:\n",
      "    https://scikit-learn.org/stable/modules/preprocessing.html\n",
      "Please also refer to the documentation for alternative solver options:\n",
      "    https://scikit-learn.org/stable/modules/linear_model.html#logistic-regression\n",
      "  extra_warning_msg=_LOGISTIC_SOLVER_CONVERGENCE_MSG)\n"
     ]
    },
    {
     "name": "stdout",
     "output_type": "stream",
     "text": [
      "Optimal number of features: 5\n"
     ]
    }
   ],
   "source": [
    "model = LogisticRegression()\n",
    "rfecv = RFECV(estimator=model, step=5, cv=StratifiedKFold(5), scoring='recall')\n",
    "\n",
    "rfecv.fit(X_train, y_train)\n",
    "print(\"Optimal number of features: %d\" % rfecv.n_features_)"
   ]
  },
  {
   "cell_type": "code",
   "execution_count": 54,
   "metadata": {},
   "outputs": [
    {
     "data": {
      "text/html": [
       "<div>\n",
       "<style scoped>\n",
       "    .dataframe tbody tr th:only-of-type {\n",
       "        vertical-align: middle;\n",
       "    }\n",
       "\n",
       "    .dataframe tbody tr th {\n",
       "        vertical-align: top;\n",
       "    }\n",
       "\n",
       "    .dataframe thead th {\n",
       "        text-align: right;\n",
       "    }\n",
       "</style>\n",
       "<table border=\"1\" class=\"dataframe\">\n",
       "  <thead>\n",
       "    <tr style=\"text-align: right;\">\n",
       "      <th></th>\n",
       "      <th>Columns</th>\n",
       "      <th>Ranking</th>\n",
       "    </tr>\n",
       "  </thead>\n",
       "  <tbody>\n",
       "    <tr>\n",
       "      <th>2</th>\n",
       "      <td>NormalTitle</td>\n",
       "      <td>1</td>\n",
       "    </tr>\n",
       "    <tr>\n",
       "      <th>3</th>\n",
       "      <td>Youth</td>\n",
       "      <td>1</td>\n",
       "    </tr>\n",
       "    <tr>\n",
       "      <th>4</th>\n",
       "      <td>PassengerTicketGT2</td>\n",
       "      <td>1</td>\n",
       "    </tr>\n",
       "    <tr>\n",
       "      <th>5</th>\n",
       "      <td>PassengerCabinGT2</td>\n",
       "      <td>1</td>\n",
       "    </tr>\n",
       "    <tr>\n",
       "      <th>7</th>\n",
       "      <td>Pclass_2</td>\n",
       "      <td>1</td>\n",
       "    </tr>\n",
       "    <tr>\n",
       "      <th>8</th>\n",
       "      <td>Pclass_3</td>\n",
       "      <td>1</td>\n",
       "    </tr>\n",
       "    <tr>\n",
       "      <th>9</th>\n",
       "      <td>Sex_female</td>\n",
       "      <td>1</td>\n",
       "    </tr>\n",
       "    <tr>\n",
       "      <th>10</th>\n",
       "      <td>Sex_male</td>\n",
       "      <td>1</td>\n",
       "    </tr>\n",
       "    <tr>\n",
       "      <th>11</th>\n",
       "      <td>SibSp_0</td>\n",
       "      <td>1</td>\n",
       "    </tr>\n",
       "    <tr>\n",
       "      <th>12</th>\n",
       "      <td>SibSp_1</td>\n",
       "      <td>1</td>\n",
       "    </tr>\n",
       "    <tr>\n",
       "      <th>13</th>\n",
       "      <td>SibSp_2</td>\n",
       "      <td>1</td>\n",
       "    </tr>\n",
       "    <tr>\n",
       "      <th>14</th>\n",
       "      <td>SibSp_3</td>\n",
       "      <td>1</td>\n",
       "    </tr>\n",
       "    <tr>\n",
       "      <th>16</th>\n",
       "      <td>SibSp_5</td>\n",
       "      <td>1</td>\n",
       "    </tr>\n",
       "    <tr>\n",
       "      <th>17</th>\n",
       "      <td>SibSp_8</td>\n",
       "      <td>1</td>\n",
       "    </tr>\n",
       "    <tr>\n",
       "      <th>18</th>\n",
       "      <td>Parch_0</td>\n",
       "      <td>1</td>\n",
       "    </tr>\n",
       "    <tr>\n",
       "      <th>19</th>\n",
       "      <td>Parch_1</td>\n",
       "      <td>1</td>\n",
       "    </tr>\n",
       "    <tr>\n",
       "      <th>20</th>\n",
       "      <td>Parch_2</td>\n",
       "      <td>1</td>\n",
       "    </tr>\n",
       "    <tr>\n",
       "      <th>21</th>\n",
       "      <td>Parch_3</td>\n",
       "      <td>1</td>\n",
       "    </tr>\n",
       "    <tr>\n",
       "      <th>22</th>\n",
       "      <td>Parch_4</td>\n",
       "      <td>1</td>\n",
       "    </tr>\n",
       "    <tr>\n",
       "      <th>23</th>\n",
       "      <td>Parch_5</td>\n",
       "      <td>1</td>\n",
       "    </tr>\n",
       "    <tr>\n",
       "      <th>24</th>\n",
       "      <td>Parch_6</td>\n",
       "      <td>1</td>\n",
       "    </tr>\n",
       "    <tr>\n",
       "      <th>25</th>\n",
       "      <td>Embarked_C</td>\n",
       "      <td>1</td>\n",
       "    </tr>\n",
       "    <tr>\n",
       "      <th>26</th>\n",
       "      <td>Embarked_Q</td>\n",
       "      <td>1</td>\n",
       "    </tr>\n",
       "    <tr>\n",
       "      <th>27</th>\n",
       "      <td>Embarked_S</td>\n",
       "      <td>1</td>\n",
       "    </tr>\n",
       "    <tr>\n",
       "      <th>28</th>\n",
       "      <td>AgeBins_0</td>\n",
       "      <td>1</td>\n",
       "    </tr>\n",
       "    <tr>\n",
       "      <th>29</th>\n",
       "      <td>AgeBins_6</td>\n",
       "      <td>1</td>\n",
       "    </tr>\n",
       "    <tr>\n",
       "      <th>30</th>\n",
       "      <td>AgeBins_20</td>\n",
       "      <td>1</td>\n",
       "    </tr>\n",
       "    <tr>\n",
       "      <th>31</th>\n",
       "      <td>AgeBins_30</td>\n",
       "      <td>1</td>\n",
       "    </tr>\n",
       "    <tr>\n",
       "      <th>32</th>\n",
       "      <td>AgeBins_45</td>\n",
       "      <td>1</td>\n",
       "    </tr>\n",
       "    <tr>\n",
       "      <th>33</th>\n",
       "      <td>AgeBins_60</td>\n",
       "      <td>1</td>\n",
       "    </tr>\n",
       "    <tr>\n",
       "      <th>34</th>\n",
       "      <td>PassengerTicket_1</td>\n",
       "      <td>1</td>\n",
       "    </tr>\n",
       "    <tr>\n",
       "      <th>35</th>\n",
       "      <td>PassengerTicket_2</td>\n",
       "      <td>1</td>\n",
       "    </tr>\n",
       "    <tr>\n",
       "      <th>36</th>\n",
       "      <td>PassengerTicket_3</td>\n",
       "      <td>1</td>\n",
       "    </tr>\n",
       "    <tr>\n",
       "      <th>37</th>\n",
       "      <td>PassengerTicket_4</td>\n",
       "      <td>1</td>\n",
       "    </tr>\n",
       "    <tr>\n",
       "      <th>38</th>\n",
       "      <td>PassengerTicket_5</td>\n",
       "      <td>1</td>\n",
       "    </tr>\n",
       "    <tr>\n",
       "      <th>39</th>\n",
       "      <td>PassengerTicket_6</td>\n",
       "      <td>1</td>\n",
       "    </tr>\n",
       "    <tr>\n",
       "      <th>40</th>\n",
       "      <td>PassengerTicket_7</td>\n",
       "      <td>1</td>\n",
       "    </tr>\n",
       "    <tr>\n",
       "      <th>41</th>\n",
       "      <td>PassengerCabin_0.0</td>\n",
       "      <td>1</td>\n",
       "    </tr>\n",
       "    <tr>\n",
       "      <th>42</th>\n",
       "      <td>PassengerCabin_1.0</td>\n",
       "      <td>1</td>\n",
       "    </tr>\n",
       "    <tr>\n",
       "      <th>43</th>\n",
       "      <td>PassengerCabin_2.0</td>\n",
       "      <td>1</td>\n",
       "    </tr>\n",
       "    <tr>\n",
       "      <th>44</th>\n",
       "      <td>PassengerCabin_3.0</td>\n",
       "      <td>1</td>\n",
       "    </tr>\n",
       "    <tr>\n",
       "      <th>45</th>\n",
       "      <td>PassengerCabin_4.0</td>\n",
       "      <td>1</td>\n",
       "    </tr>\n",
       "    <tr>\n",
       "      <th>46</th>\n",
       "      <td>NewCabin_A</td>\n",
       "      <td>1</td>\n",
       "    </tr>\n",
       "    <tr>\n",
       "      <th>47</th>\n",
       "      <td>NewCabin_B</td>\n",
       "      <td>1</td>\n",
       "    </tr>\n",
       "    <tr>\n",
       "      <th>48</th>\n",
       "      <td>NewCabin_C</td>\n",
       "      <td>1</td>\n",
       "    </tr>\n",
       "    <tr>\n",
       "      <th>49</th>\n",
       "      <td>NewCabin_D</td>\n",
       "      <td>1</td>\n",
       "    </tr>\n",
       "    <tr>\n",
       "      <th>50</th>\n",
       "      <td>NewCabin_E</td>\n",
       "      <td>1</td>\n",
       "    </tr>\n",
       "    <tr>\n",
       "      <th>51</th>\n",
       "      <td>NewCabin_F</td>\n",
       "      <td>1</td>\n",
       "    </tr>\n",
       "    <tr>\n",
       "      <th>52</th>\n",
       "      <td>NewCabin_G</td>\n",
       "      <td>1</td>\n",
       "    </tr>\n",
       "    <tr>\n",
       "      <th>53</th>\n",
       "      <td>NewCabin_T</td>\n",
       "      <td>1</td>\n",
       "    </tr>\n",
       "    <tr>\n",
       "      <th>54</th>\n",
       "      <td>NewCabin_X</td>\n",
       "      <td>1</td>\n",
       "    </tr>\n",
       "    <tr>\n",
       "      <th>55</th>\n",
       "      <td>FareBins_0</td>\n",
       "      <td>1</td>\n",
       "    </tr>\n",
       "    <tr>\n",
       "      <th>56</th>\n",
       "      <td>FareBins_10</td>\n",
       "      <td>1</td>\n",
       "    </tr>\n",
       "    <tr>\n",
       "      <th>57</th>\n",
       "      <td>FareBins_25</td>\n",
       "      <td>1</td>\n",
       "    </tr>\n",
       "    <tr>\n",
       "      <th>58</th>\n",
       "      <td>FareBins_50</td>\n",
       "      <td>1</td>\n",
       "    </tr>\n",
       "    <tr>\n",
       "      <th>59</th>\n",
       "      <td>FareBins_75</td>\n",
       "      <td>1</td>\n",
       "    </tr>\n",
       "  </tbody>\n",
       "</table>\n",
       "</div>"
      ],
      "text/plain": [
       "               Columns  Ranking\n",
       "2          NormalTitle        1\n",
       "3                Youth        1\n",
       "4   PassengerTicketGT2        1\n",
       "5    PassengerCabinGT2        1\n",
       "7             Pclass_2        1\n",
       "8             Pclass_3        1\n",
       "9           Sex_female        1\n",
       "10            Sex_male        1\n",
       "11             SibSp_0        1\n",
       "12             SibSp_1        1\n",
       "13             SibSp_2        1\n",
       "14             SibSp_3        1\n",
       "16             SibSp_5        1\n",
       "17             SibSp_8        1\n",
       "18             Parch_0        1\n",
       "19             Parch_1        1\n",
       "20             Parch_2        1\n",
       "21             Parch_3        1\n",
       "22             Parch_4        1\n",
       "23             Parch_5        1\n",
       "24             Parch_6        1\n",
       "25          Embarked_C        1\n",
       "26          Embarked_Q        1\n",
       "27          Embarked_S        1\n",
       "28           AgeBins_0        1\n",
       "29           AgeBins_6        1\n",
       "30          AgeBins_20        1\n",
       "31          AgeBins_30        1\n",
       "32          AgeBins_45        1\n",
       "33          AgeBins_60        1\n",
       "34   PassengerTicket_1        1\n",
       "35   PassengerTicket_2        1\n",
       "36   PassengerTicket_3        1\n",
       "37   PassengerTicket_4        1\n",
       "38   PassengerTicket_5        1\n",
       "39   PassengerTicket_6        1\n",
       "40   PassengerTicket_7        1\n",
       "41  PassengerCabin_0.0        1\n",
       "42  PassengerCabin_1.0        1\n",
       "43  PassengerCabin_2.0        1\n",
       "44  PassengerCabin_3.0        1\n",
       "45  PassengerCabin_4.0        1\n",
       "46          NewCabin_A        1\n",
       "47          NewCabin_B        1\n",
       "48          NewCabin_C        1\n",
       "49          NewCabin_D        1\n",
       "50          NewCabin_E        1\n",
       "51          NewCabin_F        1\n",
       "52          NewCabin_G        1\n",
       "53          NewCabin_T        1\n",
       "54          NewCabin_X        1\n",
       "55          FareBins_0        1\n",
       "56         FareBins_10        1\n",
       "57         FareBins_25        1\n",
       "58         FareBins_50        1\n",
       "59         FareBins_75        1"
      ]
     },
     "execution_count": 54,
     "metadata": {},
     "output_type": "execute_result"
    }
   ],
   "source": [
    "rfecv_results = pd.DataFrame({'Columns':X_train.columns, 'Ranking':rfecv.ranking_})\n",
    "rfecv_results[rfecv_results.Ranking == 1]"
   ]
  },
  {
   "cell_type": "code",
   "execution_count": 55,
   "metadata": {},
   "outputs": [],
   "source": [
    "feature_selection_array = np.array(rfecv_results[rfecv_results.Ranking == 1].Columns)"
   ]
  },
  {
   "cell_type": "code",
   "execution_count": 57,
   "metadata": {},
   "outputs": [
    {
     "data": {
      "image/png": "[encoded data removed]",
      "text/plain": [
       "<Figure size 432x288 with 1 Axes>"
      ]
     },
     "metadata": {
      "needs_background": "light"
     },
     "output_type": "display_data"
    }
   ],
   "source": [
    "#pyplot_options(12, 8)\n",
    "plt.xlabel(\"Number of features selected\")\n",
    "plt.ylabel(\"Cross validation score (nb of correct classifications)\")\n",
    "plt.plot(range(1, len(rfecv.grid_scores_) + 1), rfecv.grid_scores_)\n",
    "plt.show()"
   ]
  },
  {
   "cell_type": "markdown",
   "metadata": {},
   "source": [
    "## Model I: Logistic Regression"
   ]
  },
  {
   "cell_type": "code",
   "execution_count": null,
   "metadata": {},
   "outputs": [],
   "source": [
    "X_train_new = X_train[feature_selection_array]\n",
    "X_test_new = X_test[feature_selection_array]"
   ]
  },
  {
   "cell_type": "code",
   "execution_count": null,
   "metadata": {},
   "outputs": [],
   "source": [
    "X_train_new.columns"
   ]
  },
  {
   "cell_type": "markdown",
   "metadata": {},
   "source": [
    "Below I choose the list of features which in my opinion could be important during modelling of Survived from Titanic disaster."
   ]
  },
  {
   "cell_type": "code",
   "execution_count": null,
   "metadata": {},
   "outputs": [],
   "source": [
    "my_features = np.array(['Sex', \"AgeBins_0\", \"AgeBins_6\", \"AgeBins_20\", \"AgeBins_30\", \"AgeBins_45\", \"AgeBins_60\", \"Pclass_3\", \"Parch_0\", \"PassengerCabinGT2\", \n",
    "                        \"PassengerTicketGT2\", \"SibSp_0\", \"SibSp_1\"])\n",
    "X_train_my = X_train[my_features]\n",
    "X_test_my = X_test[my_features]"
   ]
  },
  {
   "cell_type": "code",
   "execution_count": null,
   "metadata": {},
   "outputs": [],
   "source": [
    "from sklearn.model_selection import GridSearchCV\n",
    "from sklearn.linear_model import LogisticRegression\n",
    "\n",
    "def logistic_regression_grid_search(X_train, X_test, y_train, y_test):\n",
    "\n",
    "    grid_param = [\n",
    "        {'C' : range(0, 11, 1),\n",
    "        'fit_intercept' : [True, False],\n",
    "        'penalty' : ['l2'],\n",
    "        'solver' : ['newton-cg', 'lbfgs', 'liblinear'],\n",
    "        'class_weight' : ['balanced']},\n",
    "        {'C' : range(0, 11, 1),\n",
    "        'fit_intercept' : [True, False],\n",
    "        'penalty' : ['l1'],\n",
    "        'solver' : ['liblinear'],\n",
    "        'class_weight' : ['balanced']},\n",
    "        {'C' : range(0, 11, 1),\n",
    "        'fit_intercept' : [True, False],\n",
    "        'penalty' : ['elasticnet'],\n",
    "        'solver' : ['saga'],\n",
    "        'class_weight' : ['balanced'],\n",
    "        'l1_ratio' : [0.1, 0.3, 0.5, 0.7]}]\n",
    "\n",
    "    scores = ['accuracy', 'precision', 'recall']\n",
    "    best_params = []\n",
    "\n",
    "    for score in scores:\n",
    "        model_logistic = LogisticRegression()\n",
    "        model_logistic_gs = GridSearchCV(estimator=model_logistic, param_grid=grid_param, cv=5, scoring=score)\n",
    "        model_logistic_gs.fit(X_train, y_train)\n",
    "        print(\"Score: %s\" % score)\n",
    "        print(\"Best parameters:\", model_logistic_gs.best_params_)\n",
    "        print()\n",
    "        print(\"Training score: %s\" % model_logistic_gs.score(X_train, y_train))\n",
    "        print(\"Testing score: %s\" % model_logistic_gs.score(X_test, y_test))\n",
    "        best_params = np.append(best_params, model_logistic_gs.best_params_)\n",
    "    return best_params\n",
    "    "
   ]
  },
  {
   "cell_type": "code",
   "execution_count": null,
   "metadata": {},
   "outputs": [],
   "source": [
    "best_params_all = logistic_regression_grid_search(X_train, X_test, y_train, y_test)"
   ]
  },
  {
   "cell_type": "code",
   "execution_count": null,
   "metadata": {},
   "outputs": [],
   "source": [
    "best_params_rfecv_features = logistic_regression_grid_search(X_train_new, X_test_new, y_train, y_test)"
   ]
  },
  {
   "cell_type": "code",
   "execution_count": null,
   "metadata": {},
   "outputs": [],
   "source": [
    "best_params_my_features = logistic_regression_grid_search(X_train_my, X_test_my, y_train, y_test)"
   ]
  },
  {
   "cell_type": "markdown",
   "metadata": {},
   "source": [
    "#### Save results "
   ]
  },
  {
   "cell_type": "code",
   "execution_count": null,
   "metadata": {},
   "outputs": [],
   "source": [
    "import pickle"
   ]
  },
  {
   "cell_type": "code",
   "execution_count": null,
   "metadata": {},
   "outputs": [],
   "source": [
    "filename1 = \"logistic_reg_my.sav\"\n",
    "filename2 = \"logistic_reg_new.sav\"\n",
    "pickle.dump(best_params_rfecv_features, open(filename1, 'wb'))\n",
    "pickle.dump(best_params_my_features, open(filename2, 'wb'))"
   ]
  },
  {
   "cell_type": "markdown",
   "metadata": {},
   "source": [
    "## Model II: Random Forest"
   ]
  },
  {
   "cell_type": "code",
   "execution_count": null,
   "metadata": {},
   "outputs": [],
   "source": [
    "from sklearn.ensemble import RandomForestClassifier\n",
    "\n",
    "def random_forest_grid_search(X_train, X_test, y_train, y_test):\n",
    "    grid_param = [\n",
    "        {'n_estimators' : range(10, 110, 10),\n",
    "        'criterion' : ['gini', 'entropy'],\n",
    "        'min_samples_split' : [0.005, 0.01, 0.02, 0.05, 0.1, 0.2],\n",
    "        'min_samples_split' : [0.005, 0.01, 0.02, 0.05, 0.1, 0.2],\n",
    "        'bootstrap' : [True, False],\n",
    "        'random_state' : [123],\n",
    "        'class_weight' : ['balanced', 'balanced_subsample']}]\n",
    "\n",
    "    scores = ['accuracy']#, 'precision', 'recall']\n",
    "    best_params = []\n",
    "\n",
    "    for score in scores:\n",
    "        random_forest_model = RandomForestClassifier()\n",
    "        random_forest_model_gs = GridSearchCV(estimator=random_forest_model, param_grid=grid_param, cv=5, scoring=score)\n",
    "        random_forest_model_gs.fit(X_train, y_train)\n",
    "        print(\"Score: %s\" % score)\n",
    "        print(\"Best parameters:\", random_forest_model_gs.best_params_)\n",
    "        print()\n",
    "        print(\"Training score: %s\" % random_forest_model_gs.score(X_train, y_train))\n",
    "        print(\"Testing score: %s\" % random_forest_model_gs.score(X_test, y_test))\n",
    "        best_params = np.append(best_params, random_forest_model_gs.best_params_)\n",
    "    return best_params\n",
    "\n"
   ]
  },
  {
   "cell_type": "code",
   "execution_count": null,
   "metadata": {},
   "outputs": [],
   "source": [
    "random_forest_best_params_features_all = random_forest_grid_search(X_train, X_test, y_train, y_test)"
   ]
  },
  {
   "cell_type": "code",
   "execution_count": null,
   "metadata": {},
   "outputs": [],
   "source": [
    "random_forest_best_params_features_new = random_forest_grid_search(X_train_new, X_test_new, y_train, y_test)"
   ]
  },
  {
   "cell_type": "code",
   "execution_count": null,
   "metadata": {
    "scrolled": true
   },
   "outputs": [],
   "source": [
    "random_forest_best_params_my = random_forest_grid_search(X_train_my, X_test_my, y_train, y_test)"
   ]
  },
  {
   "cell_type": "code",
   "execution_count": null,
   "metadata": {},
   "outputs": [],
   "source": [
    "my_features2 = np.array(['Sex', \"Age\", \"Fare\", \"Pclass_1\", \"Pclass_2\", \"Pclass_3\", \"Parch_0\", \"PassengerCabinGT2\", \n",
    "                        \"PassengerTicketGT2\", \"SibSp_0\", \"SibSp_1\"])\n",
    "X_train_my2 = X_train[my_features2]\n",
    "X_test_my2 = X_test[my_features2]\n",
    "df_test_my2 = df_test[my_features2]\n"
   ]
  },
  {
   "cell_type": "code",
   "execution_count": null,
   "metadata": {},
   "outputs": [],
   "source": [
    "random_forest_best_params_my = random_forest_grid_search(X_train_my2, X_test_my2, y_train, y_test)"
   ]
  },
  {
   "cell_type": "markdown",
   "metadata": {},
   "source": [
    "#### Save results"
   ]
  },
  {
   "cell_type": "code",
   "execution_count": null,
   "metadata": {},
   "outputs": [],
   "source": [
    "filename1 = \"random_forest_model_1.sav\"\n",
    "filename2 = \"random_forest_model_2.sav\"\n",
    "pickle.dump(random_forest_best_params_my, open(filename1, 'wb'))\n",
    "pickle.dump(random_forest_best_params_features_new, open(filename2, 'wb'))"
   ]
  },
  {
   "cell_type": "code",
   "execution_count": null,
   "metadata": {},
   "outputs": [],
   "source": [
    "loaded_model = pickle.load(open(filename, 'rb'))\n",
    "loaded_model"
   ]
  },
  {
   "cell_type": "markdown",
   "metadata": {},
   "source": [
    "## Model III: Adaboost"
   ]
  },
  {
   "cell_type": "code",
   "execution_count": null,
   "metadata": {},
   "outputs": [],
   "source": [
    "from sklearn.ensemble import AdaBoostClassifier\n",
    "import time as t\n",
    "\n",
    "def adaboost_grid_search(X_train, X_test, y_train, y_test):\n",
    "    grid_param = [\n",
    "        {'n_estimators' : range(10, 110, 10),\n",
    "        'learning_rate' : [ 0.01, 0.05, 0.1],\n",
    "        'algorithm' : ['SAMME', 'SAMME.R']}]\n",
    "\n",
    "    scores = ['accuracy', 'precision', 'recall']\n",
    "    best_params = []\n",
    "    start = t.time()\n",
    "    \n",
    "    for score in scores:\n",
    "        adaboost_model = AdaBoostClassifier()\n",
    "        adaboost_model_gs = GridSearchCV(estimator=adaboost_model, param_grid=grid_param, cv=5, scoring=score)\n",
    "        adaboost_model_gs.fit(X_train, y_train)\n",
    "        print(\"Score: %s\" % score)\n",
    "        print(\"Best parameters:\", adaboost_model_gs.best_params_)\n",
    "        print()\n",
    "        print(\"Training score: %s\" % adaboost_model_gs.score(X_train, y_train))\n",
    "        print(\"Testing score: %s\" % adaboost_model_gs.score(X_test, y_test))\n",
    "        print()\n",
    "        best_params = np.append(best_params, adaboost_model_gs.best_params_)\n",
    "    end = t.time() - start\n",
    "    print(\"Evaluation time: %s\" % end)\n",
    "    return best_params\n"
   ]
  },
  {
   "cell_type": "code",
   "execution_count": null,
   "metadata": {},
   "outputs": [],
   "source": [
    "adaboost_model_features_my = adaboost_grid_search(X_train_my, X_test_my, y_train, y_test)"
   ]
  },
  {
   "cell_type": "markdown",
   "metadata": {},
   "source": [
    "## Model IV: Gradient Boosting"
   ]
  },
  {
   "cell_type": "code",
   "execution_count": null,
   "metadata": {},
   "outputs": [],
   "source": [
    "from sklearn.ensemble import GradientBoostingClassifier\n",
    "import time as t\n",
    "\n",
    "def gradient_boosting_grid_search(X_train, X_test, y_train, y_test):\n",
    "    grid_param = [\n",
    "        {'n_estimators' : range(10, 110, 10),\n",
    "        'learning_rate' : [ 0.01, 0.05, 0.1]}]\n",
    "\n",
    "    scores = ['accuracy', 'precision', 'recall']\n",
    "    best_params = []\n",
    "    start = t.time()\n",
    "    \n",
    "    for score in scores:\n",
    "        gradient_boosting_model = GradientBoostingClassifier()\n",
    "        gradient_boosting_model_gs = GridSearchCV(estimator=gradient_boosting_model, param_grid=grid_param, cv=5, scoring=score)\n",
    "        gradient_boosting_model_gs.fit(X_train, y_train)\n",
    "        print(\"Score: %s\" % score)\n",
    "        print(\"Best parameters:\", gradient_boosting_model_gs.best_params_)\n",
    "        print()\n",
    "        print(\"Training score: %s\" % gradient_boosting_model_gs.score(X_train, y_train))\n",
    "        print(\"Testing score: %s\" % gradient_boosting_model_gs.score(X_test, y_test))\n",
    "        print()\n",
    "        best_params = np.append(best_params, gradient_boosting_model_gs.best_params_)\n",
    "    end = t.time() - start\n",
    "    print(\"Evaluation time: %s\" % end)\n",
    "    return best_params"
   ]
  },
  {
   "cell_type": "code",
   "execution_count": null,
   "metadata": {},
   "outputs": [],
   "source": [
    "gradient_boostnig_model_my = gradient_boosting_grid_search(X_train_my, X_test_my, y_train, y_test)"
   ]
  },
  {
   "cell_type": "markdown",
   "metadata": {},
   "source": [
    "## XGBoost"
   ]
  },
  {
   "cell_type": "code",
   "execution_count": null,
   "metadata": {},
   "outputs": [],
   "source": [
    "X_train_my.dtypes"
   ]
  },
  {
   "cell_type": "code",
   "execution_count": null,
   "metadata": {},
   "outputs": [],
   "source": [
    "X_train_my_xgb = X_train_my.copy()\n",
    "X_test_my_xgb = X_test_my.copy()\n",
    "\n",
    "for i in X_train_my_xgb.columns:\n",
    "    X_train_my_xgb[i] = X_train_my_xgb[i].astype('int')\n",
    "    X_test_my_xgb[i] = X_test_my_xgb[i].astype('int')    "
   ]
  },
  {
   "cell_type": "code",
   "execution_count": null,
   "metadata": {},
   "outputs": [],
   "source": [
    "X_train_new_xgb = X_train_new.copy()\n",
    "X_test_new_xgb = X_test_new.copy()\n",
    "\n",
    "for i in X_train_new_xgb.columns:\n",
    "    X_train_new_xgb[i] = X_train_new_xgb[i].astype('int')\n",
    "    X_test_new_xgb[i] = X_test_new_xgb[i].astype('int')    "
   ]
  },
  {
   "cell_type": "code",
   "execution_count": null,
   "metadata": {},
   "outputs": [],
   "source": [
    "X_my_xgb = X_my.copy()\n",
    "\n",
    "for i in X_my_xgb.columns:\n",
    "    X_my_xgb[i] = X_my_xgb[i].astype('int')"
   ]
  },
  {
   "cell_type": "code",
   "execution_count": null,
   "metadata": {},
   "outputs": [],
   "source": [
    "X_train_my_xgb.dtypes"
   ]
  },
  {
   "cell_type": "code",
   "execution_count": null,
   "metadata": {},
   "outputs": [],
   "source": [
    "from xgboost import XGBClassifier\n",
    "\n",
    "def xgboosting_grid_search(X_train, X_test, y_train, y_test):\n",
    "    grid_param = [\n",
    "        {'n_estimators' : range(10, 110, 10),\n",
    "        'learning_rate' : [ 0.01, 0.05, 0.1],\n",
    "        'booster': ['gbtree', 'gblinear', 'dart'],\n",
    "        'max_depth':[4,6,8,10,12],\n",
    "        'min_child_weight':[4,5,6],\n",
    "        'gamma': [0.1, 0.2, 0.3, 0.4, 0.5]}]\n",
    "\n",
    "    scores = ['accuracy']#, 'precision', 'recall']\n",
    "    best_params = []\n",
    "    start = t.time()\n",
    "    \n",
    "    for score in scores:\n",
    "        xgb_model = XGBClassifier()\n",
    "        xgb_model_gs = GridSearchCV(estimator=xgb_model, param_grid=grid_param, cv=5, scoring=score)\n",
    "        xgb_model_gs.fit(X_train, y_train)\n",
    "        print(\"Score: %s\" % score)\n",
    "        print(\"Best parameters:\", xgb_model_gs.best_params_)\n",
    "        print()\n",
    "        print(\"Training score: %s\" % xgb_model_gs.score(X_train, y_train))\n",
    "        print(\"Testing score: %s\" % xgb_model_gs.score(X_test, y_test))\n",
    "        print()\n",
    "        best_params = np.append(best_params, xgb_model_gs.best_params_)\n",
    "    end = t.time() - start\n",
    "    print(\"Evaluation time: %s\" % end)\n",
    "    return best_params"
   ]
  },
  {
   "cell_type": "code",
   "execution_count": null,
   "metadata": {},
   "outputs": [],
   "source": [
    "xgb_model_my = xgboosting_grid_search(X_train_my, X_test_my, y_train, y_test)"
   ]
  },
  {
   "cell_type": "markdown",
   "metadata": {},
   "source": [
    "# Submission"
   ]
  },
  {
   "cell_type": "markdown",
   "metadata": {},
   "source": [
    "#### Best params"
   ]
  },
  {
   "cell_type": "code",
   "execution_count": null,
   "metadata": {},
   "outputs": [],
   "source": [
    "X_my=X[my_features]"
   ]
  },
  {
   "cell_type": "code",
   "execution_count": null,
   "metadata": {},
   "outputs": [],
   "source": [
    "# Logistic regression\n",
    "model_lr = LogisticRegression(penalty='l1', C=5.0, fit_intercept=False, solver='liblinear', class_weight='balanced')\n",
    "model_lr.fit(X_my, y)"
   ]
  },
  {
   "cell_type": "code",
   "execution_count": null,
   "metadata": {},
   "outputs": [],
   "source": [
    "# Random Forest\n",
    "model_rf = RandomForestClassifier(n_estimators=10, criterion='gini', min_samples_split=0.01, bootstrap=True, class_weight='balanced_subsample')\n",
    "model_rf.fit(X_my, y)"
   ]
  },
  {
   "cell_type": "code",
   "execution_count": null,
   "metadata": {},
   "outputs": [],
   "source": [
    "# Adaboost\n",
    "model_ab = AdaBoostClassifier(algorithm=\"SAMME.R\", learning_rate=0.1, n_estimators=100)\n",
    "model_ab.fit(X_my, y)"
   ]
  },
  {
   "cell_type": "code",
   "execution_count": null,
   "metadata": {},
   "outputs": [],
   "source": [
    "# Gradient boosting\n",
    "model_gb=GradientBoostingClassifier(learning_rate=0.1, n_estimators=100)\n",
    "model_gb.fit(X_my, y)"
   ]
  },
  {
   "cell_type": "code",
   "execution_count": null,
   "metadata": {},
   "outputs": [],
   "source": [
    "#XGBoosting\n",
    "model_xgb=XGBClassifier(booster='gbtree', gamma=0.2, learning_rate=0.05, max_depth=4, min_child_weight=5, n_estimators=100)\n",
    "model_xgb.fit(X_my_xgb, y)"
   ]
  },
  {
   "cell_type": "code",
   "execution_count": null,
   "metadata": {},
   "outputs": [],
   "source": [
    "print(\"Logistic Regression Training Score: {}\".format(np.round(model_lr.score(X_my, y), 4)))\n",
    "print()\n",
    "print(\"Random Forest Training Score: {}\".format(np.round(model_rf.score(X_my, y), 4)))\n",
    "print()\n",
    "print(\"Adaboost Training Score: {}\".format(np.round(model_ab.score(X_my, y), 4)))\n",
    "print()\n",
    "print(\"Gradient boosting Training Score: {}\".format(np.round(model_gb.score(X_my, y), 4)))\n",
    "print()\n",
    "print(\"Extreme Gradient Boosting Training Score: {}\".format(np.round(model_xgb.score(X_my_xgb, y), 4)))"
   ]
  },
  {
   "cell_type": "code",
   "execution_count": null,
   "metadata": {},
   "outputs": [],
   "source": [
    "print(\"Logistic Regression Training Score: {}\".format(np.round(model_lr.score(X_train_my, y_train), 4)))\n",
    "print(\"Logistic Regression Test Score: {}\".format(np.round(model_lr.score(X_test_my, y_test), 4)))\n",
    "print()\n",
    "print(\"Random Forest Training Score: {}\".format(np.round(model_rf.score(X_train_my, y_train), 4)))\n",
    "print(\"Random Forest Test Score: {}\".format(np.round(model_rf.score(X_test_my, y_test), 4)))\n",
    "print()\n",
    "print(\"Adaboost Training Score: {}\".format(np.round(model_ab.score(X_train_my, y_train), 4)))\n",
    "print(\"Adaboost Test Score: {}\".format(np.round(model_ab.score(X_test_my, y_test), 4)))\n",
    "print()\n",
    "print(\"Gradient boosting Training Score: {}\".format(np.round(model_gb.score(X_train_my, y_train), 4)))\n",
    "print(\"Gradient boosting Test Score: {}\".format(np.round(model_gb.score(X_test_my, y_test), 4)))\n",
    "print()\n",
    "print(\"Extreme Gradient Boosting Training Score: {}\".format(np.round(model_xgb.score(X_train_my_xgb, y_train), 4)))\n",
    "print(\"Extreme Gradient Boosting Test Score: {}\".format(np.round(model_xgb.score(X_test_my_xgb, y_test), 4)))"
   ]
  },
  {
   "cell_type": "code",
   "execution_count": null,
   "metadata": {},
   "outputs": [],
   "source": [
    "X_train_pred=model_lr.predict(X_train_my)\n",
    "X_train_pred_proba=model_lr.predict_proba(X_train_my)"
   ]
  },
  {
   "cell_type": "code",
   "execution_count": null,
   "metadata": {},
   "outputs": [],
   "source": [
    "from sklearn.metrics import plot_roc_curve\n",
    "\n",
    "pyplot_options(16, 10)\n",
    "ax = plt.gca()\n",
    "model_lr_roc = plot_roc_curve(model_lr, X_test_my, y_test, ax=ax, alpha=0.8)\n",
    "model_rf_roc = plot_roc_curve(model_rf, X_test_my, y_test, ax=ax, alpha=0.8)\n",
    "model_ab_roc = plot_roc_curve(model_ab, X_test_my, y_test, ax=ax, alpha=0.8)\n",
    "model_gb_roc = plot_roc_curve(model_gb, X_test_my, y_test, ax=ax, alpha=0.8)\n",
    "ax.plot([0, 1], [0, 1], linestyle='--', lw=2, color='r',\n",
    "        label='Chance', alpha=.8)\n",
    "ax.plot([0.5, 0.5], [0, 1], linestyle=\"--\", lw=1, color='g')\n",
    "plt.xticks(np.arange(0, 1, 0.1))"
   ]
  },
  {
   "cell_type": "code",
   "execution_count": null,
   "metadata": {},
   "outputs": [],
   "source": [
    "def predict_proba_score(model, Xtest, ytest, level):\n",
    "    x_test = Xtest.copy()\n",
    "    pred_proba=model.predict_proba(x_test)[:, 1]\n",
    "    pred_proba[pred_proba >= level] = 1\n",
    "    pred_proba[pred_proba < level] = 0\n",
    "    score = np.round(np.sum(pred_proba == ytest)/len(ytest), 4)\n",
    "    return score"
   ]
  },
  {
   "cell_type": "code",
   "execution_count": null,
   "metadata": {},
   "outputs": [],
   "source": [
    "import xgboost"
   ]
  },
  {
   "cell_type": "markdown",
   "metadata": {},
   "source": [
    "## Predict Submission"
   ]
  },
  {
   "cell_type": "code",
   "execution_count": null,
   "metadata": {},
   "outputs": [],
   "source": [
    "df_sub_rf2 = random_forest_best_params_my.predict(df_test_my2)"
   ]
  },
  {
   "cell_type": "code",
   "execution_count": null,
   "metadata": {},
   "outputs": [],
   "source": [
    "df_sub_rf=model_rf.predict(df_test_my)"
   ]
  },
  {
   "cell_type": "code",
   "execution_count": null,
   "metadata": {},
   "outputs": [],
   "source": [
    "df_sub_lr=model_lr.predict(df_test_my)"
   ]
  },
  {
   "cell_type": "code",
   "execution_count": null,
   "metadata": {},
   "outputs": [],
   "source": [
    "df_sub_gb=model_gb.predict(df_test_my)"
   ]
  },
  {
   "cell_type": "code",
   "execution_count": null,
   "metadata": {},
   "outputs": [],
   "source": [
    "df_sub_rf_model=pd.DataFrame({'PassengerId':df_test.PassengerId, 'Survived':df_sub_rf})"
   ]
  },
  {
   "cell_type": "code",
   "execution_count": null,
   "metadata": {},
   "outputs": [],
   "source": [
    "df_sub_lr_model=pd.DataFrame({'PassengerId':df_test.PassengerId, 'Survived':df_sub_lr})"
   ]
  },
  {
   "cell_type": "code",
   "execution_count": null,
   "metadata": {},
   "outputs": [],
   "source": [
    "df_sub_gb_model=pd.DataFrame({'PassengerId':df_test.PassengerId, 'Survived':df_sub_gb})"
   ]
  },
  {
   "cell_type": "code",
   "execution_count": null,
   "metadata": {},
   "outputs": [],
   "source": [
    "df_sub_rf_model.to_csv(\"../data/df_sub_rf.csv\", columns = (\"PassengerId\", \"Survived\"), index=False)\n",
    "df_sub_lr_model.to_csv(\"../data/df_sub_lr.csv\", columns = (\"PassengerId\", \"Survived\"), index=False)\n",
    "df_sub_gb_model.to_csv(\"../data/df_sub_gb.csv\", columns = (\"PassengerId\", \"Survived\"), index=False)"
   ]
  }
 ],
 "metadata": {
  "kernelspec": {
   "display_name": "Python 3",
   "language": "python",
   "name": "python3"
  },
  "language_info": {
   "codemirror_mode": {
    "name": "ipython",
    "version": 3
   },
   "file_extension": ".py",
   "mimetype": "text/x-python",
   "name": "python",
   "nbconvert_exporter": "python",
   "pygments_lexer": "ipython3",
   "version": "3.7.1"
  }
 },
 "nbformat": 4,
 "nbformat_minor": 4
}
