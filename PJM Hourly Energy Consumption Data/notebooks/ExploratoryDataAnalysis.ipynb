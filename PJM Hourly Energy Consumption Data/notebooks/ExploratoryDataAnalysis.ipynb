{
 "cells": [
  {
   "cell_type": "code",
   "execution_count": 68,
   "metadata": {},
   "outputs": [],
   "source": [
    "# Data manipulation\n",
    "import pandas as pd\n",
    "import numpy as np\n",
    "import os \n",
    "\n",
    "# Data visualization\n",
    "import seaborn as sns\n",
    "from matplotlib import pyplot as plt\n",
    "from plotly import graph_objects as go \n",
    "from plotly import express as px\n",
    "from statsmodels.tsa.seasonal import seasonal_decompose\n",
    "from ipywidgets import widgets\n",
    "\n",
    "\n",
    "\n",
    "# Working directory\n",
    "os.chdir(os.path.realpath(os.path.join(os.getcwd(), os.pardir)))\n",
    "\n",
    "from src.data.manage_data import DataLoader, DataSaver, _project_directory                         "
   ]
  },
  {
   "cell_type": "code",
   "execution_count": 70,
   "metadata": {},
   "outputs": [
    {
     "data": {
      "text/html": [
       "<style>.container { width:90% !important; }</style>"
      ],
      "text/plain": [
       "<IPython.core.display.HTML object>"
      ]
     },
     "metadata": {},
     "output_type": "display_data"
    }
   ],
   "source": [
    "from IPython.core.display import display, HTML\n",
    "display(HTML(\"<style>.container { width:90% !important; }</style>\"))"
   ]
  },
  {
   "cell_type": "markdown",
   "metadata": {},
   "source": [
    "# Load dataset"
   ]
  },
  {
   "cell_type": "code",
   "execution_count": 2,
   "metadata": {},
   "outputs": [],
   "source": [
    "data_model = DataLoader(processed=True, name='ALL_hourly')\n",
    "df = data_model.load_data()"
   ]
  },
  {
   "cell_type": "markdown",
   "metadata": {},
   "source": [
    "# Gente introduction to Exploratory Data Analysis"
   ]
  },
  {
   "cell_type": "code",
   "execution_count": 4,
   "metadata": {},
   "outputs": [
    {
     "name": "stdout",
     "output_type": "stream",
     "text": [
      "Data dimension:\n",
      " (1090167, 3)\n",
      "--------------------\n",
      "Columns data names:\n",
      " Index(['Datetime', 'Value', 'Name'], dtype='object')\n",
      "--------------------\n",
      "Columns data types:\n",
      " Datetime     object\n",
      "Value       float64\n",
      "Name         object\n",
      "dtype: object\n",
      "--------------------\n"
     ]
    }
   ],
   "source": [
    "print('Data dimension:\\n', df.shape)\n",
    "print('-'*20)\n",
    "print('Columns data names:\\n', df.columns)\n",
    "print('-'*20)\n",
    "print('Columns data types:\\n', df.dtypes)\n",
    "print('-'*20)"
   ]
  },
  {
   "cell_type": "code",
   "execution_count": 5,
   "metadata": {},
   "outputs": [
    {
     "data": {
      "text/html": [
       "<div>\n",
       "<style scoped>\n",
       "    .dataframe tbody tr th:only-of-type {\n",
       "        vertical-align: middle;\n",
       "    }\n",
       "\n",
       "    .dataframe tbody tr th {\n",
       "        vertical-align: top;\n",
       "    }\n",
       "\n",
       "    .dataframe thead th {\n",
       "        text-align: right;\n",
       "    }\n",
       "</style>\n",
       "<table border=\"1\" class=\"dataframe\">\n",
       "  <thead>\n",
       "    <tr style=\"text-align: right;\">\n",
       "      <th></th>\n",
       "      <th>Datetime</th>\n",
       "      <th>Value</th>\n",
       "      <th>Name</th>\n",
       "    </tr>\n",
       "    <tr>\n",
       "      <th>index</th>\n",
       "      <th></th>\n",
       "      <th></th>\n",
       "      <th></th>\n",
       "    </tr>\n",
       "  </thead>\n",
       "  <tbody>\n",
       "    <tr>\n",
       "      <th>0</th>\n",
       "      <td>2011-12-31 01:00:00</td>\n",
       "      <td>6222.0</td>\n",
       "      <td>FE_MW</td>\n",
       "    </tr>\n",
       "    <tr>\n",
       "      <th>1</th>\n",
       "      <td>2011-12-31 02:00:00</td>\n",
       "      <td>5973.0</td>\n",
       "      <td>FE_MW</td>\n",
       "    </tr>\n",
       "    <tr>\n",
       "      <th>2</th>\n",
       "      <td>2011-12-31 03:00:00</td>\n",
       "      <td>5778.0</td>\n",
       "      <td>FE_MW</td>\n",
       "    </tr>\n",
       "    <tr>\n",
       "      <th>3</th>\n",
       "      <td>2011-12-31 04:00:00</td>\n",
       "      <td>5707.0</td>\n",
       "      <td>FE_MW</td>\n",
       "    </tr>\n",
       "    <tr>\n",
       "      <th>4</th>\n",
       "      <td>2011-12-31 05:00:00</td>\n",
       "      <td>5691.0</td>\n",
       "      <td>FE_MW</td>\n",
       "    </tr>\n",
       "  </tbody>\n",
       "</table>\n",
       "</div>"
      ],
      "text/plain": [
       "                  Datetime   Value   Name\n",
       "index                                    \n",
       "0      2011-12-31 01:00:00  6222.0  FE_MW\n",
       "1      2011-12-31 02:00:00  5973.0  FE_MW\n",
       "2      2011-12-31 03:00:00  5778.0  FE_MW\n",
       "3      2011-12-31 04:00:00  5707.0  FE_MW\n",
       "4      2011-12-31 05:00:00  5691.0  FE_MW"
      ]
     },
     "execution_count": 5,
     "metadata": {},
     "output_type": "execute_result"
    }
   ],
   "source": [
    "df.head()"
   ]
  },
  {
   "cell_type": "code",
   "execution_count": 8,
   "metadata": {},
   "outputs": [
    {
     "data": {
      "text/plain": [
       "Datetime     object\n",
       "Value       float64\n",
       "Name         object\n",
       "dtype: object"
      ]
     },
     "execution_count": 8,
     "metadata": {},
     "output_type": "execute_result"
    }
   ],
   "source": [
    "df.dtypes"
   ]
  },
  {
   "cell_type": "markdown",
   "metadata": {},
   "source": [
    "**Quick conclusions**:\n",
    "    \n",
    "    1. Datetime column has object type -> we have to convert it to 'datetime' type\n",
    "    2. Datetime column could be splitted to smaller parts -> we can split it into year, month, day, week, weekday, hours, daypart etc. "
   ]
  },
  {
   "cell_type": "markdown",
   "metadata": {},
   "source": [
    "# Preprocessing"
   ]
  },
  {
   "cell_type": "code",
   "execution_count": 22,
   "metadata": {},
   "outputs": [],
   "source": [
    "df['Datetime'] = pd.to_datetime(df['Datetime'])\n",
    "df['Date'] = pd.to_datetime(df['Datetime'].dt.date)\n",
    "df['Year'] = df['Datetime'].dt.year\n",
    "df['Quarter'] = df['Datetime'].dt.quarter\n",
    "df['Month'] = df['Datetime'].dt.month\n",
    "df['Day'] = df['Datetime'].dt.day\n",
    "df['Week'] = df['Datetime'].dt.isocalendar().week\n",
    "df['Weekday'] = df['Datetime'].dt.weekday\n",
    "df['Hour'] = df['Datetime'].dt.hour"
   ]
  },
  {
   "cell_type": "code",
   "execution_count": 10,
   "metadata": {},
   "outputs": [
    {
     "data": {
      "text/plain": [
       "Datetime    datetime64[ns]\n",
       "Value              float64\n",
       "Name                object\n",
       "Date        datetime64[ns]\n",
       "Year                 int64\n",
       "Quarter              int64\n",
       "Month                int64\n",
       "Day                  int64\n",
       "Week                UInt32\n",
       "Weekday              int64\n",
       "Hour                 int64\n",
       "dtype: object"
      ]
     },
     "execution_count": 10,
     "metadata": {},
     "output_type": "execute_result"
    }
   ],
   "source": [
    "df.dtypes"
   ]
  },
  {
   "cell_type": "code",
   "execution_count": 11,
   "metadata": {},
   "outputs": [
    {
     "data": {
      "text/html": [
       "<div>\n",
       "<style scoped>\n",
       "    .dataframe tbody tr th:only-of-type {\n",
       "        vertical-align: middle;\n",
       "    }\n",
       "\n",
       "    .dataframe tbody tr th {\n",
       "        vertical-align: top;\n",
       "    }\n",
       "\n",
       "    .dataframe thead th {\n",
       "        text-align: right;\n",
       "    }\n",
       "</style>\n",
       "<table border=\"1\" class=\"dataframe\">\n",
       "  <thead>\n",
       "    <tr style=\"text-align: right;\">\n",
       "      <th></th>\n",
       "      <th>Datetime</th>\n",
       "      <th>Value</th>\n",
       "      <th>Name</th>\n",
       "      <th>Date</th>\n",
       "      <th>Year</th>\n",
       "      <th>Quarter</th>\n",
       "      <th>Month</th>\n",
       "      <th>Day</th>\n",
       "      <th>Week</th>\n",
       "      <th>Weekday</th>\n",
       "      <th>Hour</th>\n",
       "    </tr>\n",
       "    <tr>\n",
       "      <th>index</th>\n",
       "      <th></th>\n",
       "      <th></th>\n",
       "      <th></th>\n",
       "      <th></th>\n",
       "      <th></th>\n",
       "      <th></th>\n",
       "      <th></th>\n",
       "      <th></th>\n",
       "      <th></th>\n",
       "      <th></th>\n",
       "      <th></th>\n",
       "    </tr>\n",
       "  </thead>\n",
       "  <tbody>\n",
       "    <tr>\n",
       "      <th>0</th>\n",
       "      <td>2011-12-31 01:00:00</td>\n",
       "      <td>6222.0</td>\n",
       "      <td>FE_MW</td>\n",
       "      <td>2011-12-31</td>\n",
       "      <td>2011</td>\n",
       "      <td>4</td>\n",
       "      <td>12</td>\n",
       "      <td>31</td>\n",
       "      <td>52</td>\n",
       "      <td>5</td>\n",
       "      <td>1</td>\n",
       "    </tr>\n",
       "    <tr>\n",
       "      <th>1</th>\n",
       "      <td>2011-12-31 02:00:00</td>\n",
       "      <td>5973.0</td>\n",
       "      <td>FE_MW</td>\n",
       "      <td>2011-12-31</td>\n",
       "      <td>2011</td>\n",
       "      <td>4</td>\n",
       "      <td>12</td>\n",
       "      <td>31</td>\n",
       "      <td>52</td>\n",
       "      <td>5</td>\n",
       "      <td>2</td>\n",
       "    </tr>\n",
       "    <tr>\n",
       "      <th>2</th>\n",
       "      <td>2011-12-31 03:00:00</td>\n",
       "      <td>5778.0</td>\n",
       "      <td>FE_MW</td>\n",
       "      <td>2011-12-31</td>\n",
       "      <td>2011</td>\n",
       "      <td>4</td>\n",
       "      <td>12</td>\n",
       "      <td>31</td>\n",
       "      <td>52</td>\n",
       "      <td>5</td>\n",
       "      <td>3</td>\n",
       "    </tr>\n",
       "    <tr>\n",
       "      <th>3</th>\n",
       "      <td>2011-12-31 04:00:00</td>\n",
       "      <td>5707.0</td>\n",
       "      <td>FE_MW</td>\n",
       "      <td>2011-12-31</td>\n",
       "      <td>2011</td>\n",
       "      <td>4</td>\n",
       "      <td>12</td>\n",
       "      <td>31</td>\n",
       "      <td>52</td>\n",
       "      <td>5</td>\n",
       "      <td>4</td>\n",
       "    </tr>\n",
       "    <tr>\n",
       "      <th>4</th>\n",
       "      <td>2011-12-31 05:00:00</td>\n",
       "      <td>5691.0</td>\n",
       "      <td>FE_MW</td>\n",
       "      <td>2011-12-31</td>\n",
       "      <td>2011</td>\n",
       "      <td>4</td>\n",
       "      <td>12</td>\n",
       "      <td>31</td>\n",
       "      <td>52</td>\n",
       "      <td>5</td>\n",
       "      <td>5</td>\n",
       "    </tr>\n",
       "  </tbody>\n",
       "</table>\n",
       "</div>"
      ],
      "text/plain": [
       "                 Datetime   Value   Name       Date  Year  Quarter  Month  \\\n",
       "index                                                                       \n",
       "0     2011-12-31 01:00:00  6222.0  FE_MW 2011-12-31  2011        4     12   \n",
       "1     2011-12-31 02:00:00  5973.0  FE_MW 2011-12-31  2011        4     12   \n",
       "2     2011-12-31 03:00:00  5778.0  FE_MW 2011-12-31  2011        4     12   \n",
       "3     2011-12-31 04:00:00  5707.0  FE_MW 2011-12-31  2011        4     12   \n",
       "4     2011-12-31 05:00:00  5691.0  FE_MW 2011-12-31  2011        4     12   \n",
       "\n",
       "       Day  Week  Weekday  Hour  \n",
       "index                            \n",
       "0       31    52        5     1  \n",
       "1       31    52        5     2  \n",
       "2       31    52        5     3  \n",
       "3       31    52        5     4  \n",
       "4       31    52        5     5  "
      ]
     },
     "execution_count": 11,
     "metadata": {},
     "output_type": "execute_result"
    }
   ],
   "source": [
    "df.head()"
   ]
  },
  {
   "cell_type": "markdown",
   "metadata": {},
   "source": [
    "# Visualization"
   ]
  },
  {
   "cell_type": "markdown",
   "metadata": {},
   "source": [
    "#### Time series by date"
   ]
  },
  {
   "cell_type": "code",
   "execution_count": 104,
   "metadata": {},
   "outputs": [
    {
     "data": {
      "application/vnd.jupyter.widget-view+json": {
       "model_id": "7de6836b3ccf41e5b009f67b98cfbec7",
       "version_major": 2,
       "version_minor": 0
      },
      "text/plain": [
       "interactive(children=(Dropdown(description='name', options=('AEP_MW', 'COMED_MW', 'DAYTON_MW', 'DEOK_MW', 'DOM…"
      ]
     },
     "metadata": {},
     "output_type": "display_data"
    }
   ],
   "source": [
    "@widgets.interact(name=widgets.Dropdown(options=np.sort(df.Name.unique())), time=widgets.Dropdown(options = ['Date', 'Year', 'Quarter', 'Month', 'Day', 'Week', 'Weekday', 'Hour']))\n",
    "def ts_plot(name, time):\n",
    "    df_ts = df[df['Name'] == name].groupby([time]).agg(dict(Value = np.mean)).reset_index()\n",
    "    fig = px.line(data_frame=df_ts, x=time, y ='Value')\n",
    "    fig.update_layout(   \n",
    "        template='ggplot2',\n",
    "        title=dict(text=f'Energy consumption in megawatts (MW) from {name} power station')\n",
    "    )\n",
    "    fig.update_traces(\n",
    "        line=dict(color='darkblue', width=1)\n",
    "        \n",
    "    )\n",
    "    fig.show()"
   ]
  },
  {
   "cell_type": "code",
   "execution_count": 105,
   "metadata": {},
   "outputs": [
    {
     "data": {
      "application/vnd.jupyter.widget-view+json": {
       "model_id": "d0776d2ef57740cbba97fd57d664628e",
       "version_major": 2,
       "version_minor": 0
      },
      "text/plain": [
       "interactive(children=(Dropdown(description='name', options=('AEP_MW', 'COMED_MW', 'DAYTON_MW', 'DEOK_MW', 'DOM…"
      ]
     },
     "metadata": {},
     "output_type": "display_data"
    }
   ],
   "source": [
    "@widgets.interact(name=widgets.Dropdown(options=np.sort(df.Name.unique())))\n",
    "def sesonal_decomposistion(name):\n",
    "    df_ts = df[df['Name'] == name].groupby(['Date']).agg(dict(Value = np.mean)).reset_index()\n",
    "    data = seasonal_decompose(x=df_ts.set_index('Date'), model='additive', period=np.int(df_ts.shape[0]/(len(df_ts.Date.dt.year.unique()))))\n",
    "    \n",
    "    fig1 = go.Figure()\n",
    "    fig1.add_trace(go.Line(x=df_ts.index, y=data.observed, name='Observed'))\n",
    "    fig1.add_trace(go.Line(x=df_ts.index, y=data.seasonal, name='Seasonality'))\n",
    "    fig1.add_trace(go.Line(x=df_ts.index, y=data.trend, name='Trend'))\n",
    "    \n",
    "    \n",
    "    fig1.update_layout(   \n",
    "        template='ggplot2',\n",
    "        title=dict(text=f'Time series decomposition using moving averagee for {name} power station')\n",
    "    )\n",
    "    fig1.show()\n",
    "    \n",
    "    fig2 = go.Figure()\n",
    "    fig2.add_trace(go.Line(x=df_ts.index, y=data.resid, name='Residuals'))\n",
    "    \n",
    "    fig2.update_layout(   \n",
    "        template='ggplot2',\n",
    "        title=dict(text=f'Energy consumption in megawatts (MW) from {name} power station')\n",
    "    )\n",
    "    fig2.show()"
   ]
  },
  {
   "cell_type": "markdown",
   "metadata": {},
   "source": [
    "#### Time series by year"
   ]
  },
  {
   "cell_type": "code",
   "execution_count": null,
   "metadata": {},
   "outputs": [],
   "source": [
    "plt.figure(figsize = (12, 8))\n",
    "sns.lineplot(data=data.groupby(['Year']).agg(dict(PJME_MW = np.mean)))"
   ]
  },
  {
   "cell_type": "markdown",
   "metadata": {},
   "source": [
    "#### Time series by quarter"
   ]
  },
  {
   "cell_type": "code",
   "execution_count": null,
   "metadata": {},
   "outputs": [],
   "source": [
    "plt.figure(figsize = (12, 8))\n",
    "sns.lineplot(data=data.groupby(['Quarter']).agg(dict(PJME_MW = np.mean)))"
   ]
  },
  {
   "cell_type": "markdown",
   "metadata": {},
   "source": [
    "#### Time series by month"
   ]
  },
  {
   "cell_type": "code",
   "execution_count": null,
   "metadata": {},
   "outputs": [],
   "source": [
    "plt.figure(figsize = (12, 8))\n",
    "sns.lineplot(data=data.groupby(['Month']).agg(dict(PJME_MW = np.mean)))"
   ]
  },
  {
   "cell_type": "markdown",
   "metadata": {},
   "source": [
    "#### Time series by week"
   ]
  },
  {
   "cell_type": "code",
   "execution_count": null,
   "metadata": {},
   "outputs": [],
   "source": [
    "plt.figure(figsize = (12, 8))\n",
    "sns.lineplot(data=data.groupby(['Week']).agg(dict(PJME_MW = np.mean)))"
   ]
  },
  {
   "cell_type": "markdown",
   "metadata": {},
   "source": [
    "#### Time series by day"
   ]
  },
  {
   "cell_type": "code",
   "execution_count": null,
   "metadata": {},
   "outputs": [],
   "source": [
    "plt.figure(figsize = (12, 8))\n",
    "sns.lineplot(data=data.groupby(['Day']).agg(dict(PJME_MW = np.mean)))"
   ]
  },
  {
   "cell_type": "markdown",
   "metadata": {},
   "source": [
    "#### Time series by weekday"
   ]
  },
  {
   "cell_type": "code",
   "execution_count": null,
   "metadata": {},
   "outputs": [],
   "source": [
    "plt.figure(figsize = (12, 8))\n",
    "sns.lineplot(data=data.groupby(['Weekday']).agg(dict(PJME_MW = np.mean)))"
   ]
  },
  {
   "cell_type": "markdown",
   "metadata": {},
   "source": [
    "#### Time series by hour"
   ]
  },
  {
   "cell_type": "code",
   "execution_count": null,
   "metadata": {},
   "outputs": [],
   "source": [
    "plt.figure(figsize = (12, 8))\n",
    "sns.lineplot(data=data.groupby(['Hour']).agg(dict(PJME_MW = np.mean)))"
   ]
  }
 ],
 "metadata": {
  "kernelspec": {
   "display_name": "energy_project_kaggle",
   "language": "python",
   "name": "energy_project_kaggle"
  },
  "language_info": {
   "codemirror_mode": {
    "name": "ipython",
    "version": 3
   },
   "file_extension": ".py",
   "mimetype": "text/x-python",
   "name": "python",
   "nbconvert_exporter": "python",
   "pygments_lexer": "ipython3",
   "version": "3.7.9"
  }
 },
 "nbformat": 4,
 "nbformat_minor": 4
}
