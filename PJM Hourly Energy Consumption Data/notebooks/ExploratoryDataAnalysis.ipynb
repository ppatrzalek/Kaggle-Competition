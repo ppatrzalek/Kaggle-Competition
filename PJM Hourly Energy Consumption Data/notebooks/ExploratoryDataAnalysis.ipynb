{
 "cells": [
  {
   "cell_type": "code",
   "execution_count": 1,
   "metadata": {
    "ExecuteTime": {
     "end_time": "2020-12-20T21:03:46.948996Z",
     "start_time": "2020-12-20T21:03:45.607897Z"
    },
    "slideshow": {
     "slide_type": "subslide"
    }
   },
   "outputs": [],
   "source": [
    "# Data manipulation\n",
    "import pandas as pd\n",
    "import numpy as np\n",
    "import os \n",
    "\n",
    "# Data visualization\n",
    "import seaborn as sns\n",
    "from matplotlib import pyplot as plt\n",
    "from plotly import graph_objects as go \n",
    "from plotly import express as px\n",
    "from ipywidgets import widgets\n",
    "\n",
    "# Stats\n",
    "from statsmodels.tsa.seasonal import seasonal_decompose\n",
    "from statsmodels.stats.diagnostic import acorr_ljungbox\n",
    "from statsmodels.tsa.stattools import adfuller, kpss\n",
    "from statsmodels.graphics.tsaplots import plot_acf, plot_pacf\n",
    "\n",
    "\n",
    "# Working directory\n",
    "os.chdir(os.path.realpath(os.path.join(os.getcwd(), os.pardir)))\n",
    "\n",
    "from src.data.manage_data import DataLoader, DataSaver, _project_directory                         "
   ]
  },
  {
   "cell_type": "markdown",
   "metadata": {},
   "source": [
    "# Introduction"
   ]
  },
  {
   "cell_type": "markdown",
   "metadata": {},
   "source": [
    "The following notebook was created for introduce myself into Hourly Energy Consumption Dataset downloaded from kaggle (https://www.kaggle.com/robikscube/hourly-energy-consumption). In the notebook you can find a few time series visualization and basic test statistics for time series analysis. Moreover I add autocorrelation and partial autocorrelation plot to find appropriate lags value for autoregressive models during forecasting."
   ]
  },
  {
   "cell_type": "code",
   "execution_count": 2,
   "metadata": {
    "ExecuteTime": {
     "end_time": "2020-12-20T21:03:48.200135Z",
     "start_time": "2020-12-20T21:03:48.192367Z"
    }
   },
   "outputs": [
    {
     "data": {
      "text/html": [
       "<style>.container { width:90% !important; }</style>"
      ],
      "text/plain": [
       "<IPython.core.display.HTML object>"
      ]
     },
     "metadata": {},
     "output_type": "display_data"
    }
   ],
   "source": [
    "from IPython.core.display import display, HTML\n",
    "display(HTML(\"<style>.container { width:90% !important; }</style>\"))"
   ]
  },
  {
   "cell_type": "markdown",
   "metadata": {},
   "source": [
    "# Load dataset"
   ]
  },
  {
   "cell_type": "markdown",
   "metadata": {},
   "source": [
    "I use my own class for data loading. In src/data/data_preprocess.py you can find script which data preprocessed was performed."
   ]
  },
  {
   "cell_type": "code",
   "execution_count": 3,
   "metadata": {
    "ExecuteTime": {
     "end_time": "2020-12-20T21:03:50.696964Z",
     "start_time": "2020-12-20T21:03:49.157607Z"
    }
   },
   "outputs": [],
   "source": [
    "data_model = DataLoader(processed=True, name='ALL_hourly')\n",
    "df = data_model.load_data()"
   ]
  },
  {
   "cell_type": "markdown",
   "metadata": {},
   "source": [
    "# Gente introduction to Exploratory Data Analysis"
   ]
  },
  {
   "cell_type": "markdown",
   "metadata": {},
   "source": [
    "Below you can find basic intrudction to my dataset. It's nice to know more about our analyse data right ?"
   ]
  },
  {
   "cell_type": "code",
   "execution_count": 4,
   "metadata": {
    "ExecuteTime": {
     "end_time": "2020-12-20T21:03:50.846407Z",
     "start_time": "2020-12-20T21:03:50.835864Z"
    },
    "slideshow": {
     "slide_type": "skip"
    }
   },
   "outputs": [
    {
     "name": "stdout",
     "output_type": "stream",
     "text": [
      "Data dimension:\n",
      " (1090167, 3)\n",
      "--------------------\n",
      "Columns data names:\n",
      " Index(['Datetime', 'Value', 'Name'], dtype='object')\n",
      "--------------------\n",
      "Columns data types:\n",
      " Datetime     object\n",
      "Value       float64\n",
      "Name         object\n",
      "dtype: object\n",
      "--------------------\n"
     ]
    }
   ],
   "source": [
    "print('Data dimension:\\n', df.shape)\n",
    "print('-'*20)\n",
    "print('Columns data names:\\n', df.columns)\n",
    "print('-'*20)\n",
    "print('Columns data types:\\n', df.dtypes)\n",
    "print('-'*20)"
   ]
  },
  {
   "cell_type": "code",
   "execution_count": 5,
   "metadata": {
    "ExecuteTime": {
     "end_time": "2020-12-20T21:03:54.231909Z",
     "start_time": "2020-12-20T21:03:54.216358Z"
    }
   },
   "outputs": [
    {
     "data": {
      "text/html": [
       "<div>\n",
       "<style scoped>\n",
       "    .dataframe tbody tr th:only-of-type {\n",
       "        vertical-align: middle;\n",
       "    }\n",
       "\n",
       "    .dataframe tbody tr th {\n",
       "        vertical-align: top;\n",
       "    }\n",
       "\n",
       "    .dataframe thead th {\n",
       "        text-align: right;\n",
       "    }\n",
       "</style>\n",
       "<table border=\"1\" class=\"dataframe\">\n",
       "  <thead>\n",
       "    <tr style=\"text-align: right;\">\n",
       "      <th></th>\n",
       "      <th>Datetime</th>\n",
       "      <th>Value</th>\n",
       "      <th>Name</th>\n",
       "    </tr>\n",
       "    <tr>\n",
       "      <th>index</th>\n",
       "      <th></th>\n",
       "      <th></th>\n",
       "      <th></th>\n",
       "    </tr>\n",
       "  </thead>\n",
       "  <tbody>\n",
       "    <tr>\n",
       "      <th>0</th>\n",
       "      <td>2011-12-31 01:00:00</td>\n",
       "      <td>6222.0</td>\n",
       "      <td>FE_MW</td>\n",
       "    </tr>\n",
       "    <tr>\n",
       "      <th>1</th>\n",
       "      <td>2011-12-31 02:00:00</td>\n",
       "      <td>5973.0</td>\n",
       "      <td>FE_MW</td>\n",
       "    </tr>\n",
       "    <tr>\n",
       "      <th>2</th>\n",
       "      <td>2011-12-31 03:00:00</td>\n",
       "      <td>5778.0</td>\n",
       "      <td>FE_MW</td>\n",
       "    </tr>\n",
       "    <tr>\n",
       "      <th>3</th>\n",
       "      <td>2011-12-31 04:00:00</td>\n",
       "      <td>5707.0</td>\n",
       "      <td>FE_MW</td>\n",
       "    </tr>\n",
       "    <tr>\n",
       "      <th>4</th>\n",
       "      <td>2011-12-31 05:00:00</td>\n",
       "      <td>5691.0</td>\n",
       "      <td>FE_MW</td>\n",
       "    </tr>\n",
       "  </tbody>\n",
       "</table>\n",
       "</div>"
      ],
      "text/plain": [
       "                  Datetime   Value   Name\n",
       "index                                    \n",
       "0      2011-12-31 01:00:00  6222.0  FE_MW\n",
       "1      2011-12-31 02:00:00  5973.0  FE_MW\n",
       "2      2011-12-31 03:00:00  5778.0  FE_MW\n",
       "3      2011-12-31 04:00:00  5707.0  FE_MW\n",
       "4      2011-12-31 05:00:00  5691.0  FE_MW"
      ]
     },
     "execution_count": 5,
     "metadata": {},
     "output_type": "execute_result"
    }
   ],
   "source": [
    "df.head()"
   ]
  },
  {
   "cell_type": "code",
   "execution_count": 6,
   "metadata": {
    "ExecuteTime": {
     "end_time": "2020-12-20T21:04:04.672985Z",
     "start_time": "2020-12-20T21:04:04.668022Z"
    }
   },
   "outputs": [
    {
     "data": {
      "text/plain": [
       "Datetime     object\n",
       "Value       float64\n",
       "Name         object\n",
       "dtype: object"
      ]
     },
     "execution_count": 6,
     "metadata": {},
     "output_type": "execute_result"
    }
   ],
   "source": [
    "df.dtypes"
   ]
  },
  {
   "cell_type": "markdown",
   "metadata": {},
   "source": [
    "**Quick conclusions**:\n",
    "    \n",
    "    1. Datetime column has object type -> we have to convert it to 'datetime' type\n",
    "    2. Datetime column could be splitted to smaller parts -> we can split it into year, month, day, week, weekday, hours, daypart etc. "
   ]
  },
  {
   "cell_type": "markdown",
   "metadata": {},
   "source": [
    "# Preprocessing"
   ]
  },
  {
   "cell_type": "markdown",
   "metadata": {},
   "source": [
    "Again some basic manipulation. In visualization I would like to explore some patterns on such aggregation and its why I add the following variables."
   ]
  },
  {
   "cell_type": "code",
   "execution_count": 7,
   "metadata": {
    "ExecuteTime": {
     "end_time": "2020-12-20T21:04:12.786487Z",
     "start_time": "2020-12-20T21:04:09.149930Z"
    }
   },
   "outputs": [],
   "source": [
    "df['Datetime'] = pd.to_datetime(df['Datetime'])\n",
    "df['Date'] = pd.to_datetime(df['Datetime'].dt.date)\n",
    "df['Year'] = df['Datetime'].dt.year\n",
    "df['Quarter'] = df['Datetime'].dt.quarter\n",
    "df['Month'] = df['Datetime'].dt.month\n",
    "df['Day'] = df['Datetime'].dt.day\n",
    "df['Week'] = df['Datetime'].dt.isocalendar().week\n",
    "df['Weekday'] = df['Datetime'].dt.weekdaya\n",
    "df['Hour'] = df['Datetime'].dt.hour\n",
    "df['WeekDate'] = pd.to_datetime(df['Week'].astype(str) + df['Year'].astype(str).add('-1'), format='%V%G-%u')"
   ]
  },
  {
   "cell_type": "code",
   "execution_count": 8,
   "metadata": {
    "ExecuteTime": {
     "end_time": "2020-12-20T21:04:12.793558Z",
     "start_time": "2020-12-20T21:04:12.788150Z"
    }
   },
   "outputs": [
    {
     "data": {
      "text/plain": [
       "Datetime    datetime64[ns]\n",
       "Value              float64\n",
       "Name                object\n",
       "Date        datetime64[ns]\n",
       "Year                 int64\n",
       "Quarter              int64\n",
       "Month                int64\n",
       "Day                  int64\n",
       "Week                UInt32\n",
       "Weekday              int64\n",
       "Hour                 int64\n",
       "WeekDate    datetime64[ns]\n",
       "dtype: object"
      ]
     },
     "execution_count": 8,
     "metadata": {},
     "output_type": "execute_result"
    }
   ],
   "source": [
    "df.dtypes"
   ]
  },
  {
   "cell_type": "code",
   "execution_count": 9,
   "metadata": {
    "ExecuteTime": {
     "end_time": "2020-12-20T21:04:14.341370Z",
     "start_time": "2020-12-20T21:04:14.325554Z"
    }
   },
   "outputs": [
    {
     "data": {
      "text/html": [
       "<div>\n",
       "<style scoped>\n",
       "    .dataframe tbody tr th:only-of-type {\n",
       "        vertical-align: middle;\n",
       "    }\n",
       "\n",
       "    .dataframe tbody tr th {\n",
       "        vertical-align: top;\n",
       "    }\n",
       "\n",
       "    .dataframe thead th {\n",
       "        text-align: right;\n",
       "    }\n",
       "</style>\n",
       "<table border=\"1\" class=\"dataframe\">\n",
       "  <thead>\n",
       "    <tr style=\"text-align: right;\">\n",
       "      <th></th>\n",
       "      <th>Datetime</th>\n",
       "      <th>Value</th>\n",
       "      <th>Name</th>\n",
       "      <th>Date</th>\n",
       "      <th>Year</th>\n",
       "      <th>Quarter</th>\n",
       "      <th>Month</th>\n",
       "      <th>Day</th>\n",
       "      <th>Week</th>\n",
       "      <th>Weekday</th>\n",
       "      <th>Hour</th>\n",
       "      <th>WeekDate</th>\n",
       "    </tr>\n",
       "    <tr>\n",
       "      <th>index</th>\n",
       "      <th></th>\n",
       "      <th></th>\n",
       "      <th></th>\n",
       "      <th></th>\n",
       "      <th></th>\n",
       "      <th></th>\n",
       "      <th></th>\n",
       "      <th></th>\n",
       "      <th></th>\n",
       "      <th></th>\n",
       "      <th></th>\n",
       "      <th></th>\n",
       "    </tr>\n",
       "  </thead>\n",
       "  <tbody>\n",
       "    <tr>\n",
       "      <th>0</th>\n",
       "      <td>2011-12-31 01:00:00</td>\n",
       "      <td>6222.0</td>\n",
       "      <td>FE_MW</td>\n",
       "      <td>2011-12-31</td>\n",
       "      <td>2011</td>\n",
       "      <td>4</td>\n",
       "      <td>12</td>\n",
       "      <td>31</td>\n",
       "      <td>52</td>\n",
       "      <td>5</td>\n",
       "      <td>1</td>\n",
       "      <td>2011-12-26</td>\n",
       "    </tr>\n",
       "    <tr>\n",
       "      <th>1</th>\n",
       "      <td>2011-12-31 02:00:00</td>\n",
       "      <td>5973.0</td>\n",
       "      <td>FE_MW</td>\n",
       "      <td>2011-12-31</td>\n",
       "      <td>2011</td>\n",
       "      <td>4</td>\n",
       "      <td>12</td>\n",
       "      <td>31</td>\n",
       "      <td>52</td>\n",
       "      <td>5</td>\n",
       "      <td>2</td>\n",
       "      <td>2011-12-26</td>\n",
       "    </tr>\n",
       "    <tr>\n",
       "      <th>2</th>\n",
       "      <td>2011-12-31 03:00:00</td>\n",
       "      <td>5778.0</td>\n",
       "      <td>FE_MW</td>\n",
       "      <td>2011-12-31</td>\n",
       "      <td>2011</td>\n",
       "      <td>4</td>\n",
       "      <td>12</td>\n",
       "      <td>31</td>\n",
       "      <td>52</td>\n",
       "      <td>5</td>\n",
       "      <td>3</td>\n",
       "      <td>2011-12-26</td>\n",
       "    </tr>\n",
       "    <tr>\n",
       "      <th>3</th>\n",
       "      <td>2011-12-31 04:00:00</td>\n",
       "      <td>5707.0</td>\n",
       "      <td>FE_MW</td>\n",
       "      <td>2011-12-31</td>\n",
       "      <td>2011</td>\n",
       "      <td>4</td>\n",
       "      <td>12</td>\n",
       "      <td>31</td>\n",
       "      <td>52</td>\n",
       "      <td>5</td>\n",
       "      <td>4</td>\n",
       "      <td>2011-12-26</td>\n",
       "    </tr>\n",
       "    <tr>\n",
       "      <th>4</th>\n",
       "      <td>2011-12-31 05:00:00</td>\n",
       "      <td>5691.0</td>\n",
       "      <td>FE_MW</td>\n",
       "      <td>2011-12-31</td>\n",
       "      <td>2011</td>\n",
       "      <td>4</td>\n",
       "      <td>12</td>\n",
       "      <td>31</td>\n",
       "      <td>52</td>\n",
       "      <td>5</td>\n",
       "      <td>5</td>\n",
       "      <td>2011-12-26</td>\n",
       "    </tr>\n",
       "  </tbody>\n",
       "</table>\n",
       "</div>"
      ],
      "text/plain": [
       "                 Datetime   Value   Name       Date  Year  Quarter  Month  \\\n",
       "index                                                                       \n",
       "0     2011-12-31 01:00:00  6222.0  FE_MW 2011-12-31  2011        4     12   \n",
       "1     2011-12-31 02:00:00  5973.0  FE_MW 2011-12-31  2011        4     12   \n",
       "2     2011-12-31 03:00:00  5778.0  FE_MW 2011-12-31  2011        4     12   \n",
       "3     2011-12-31 04:00:00  5707.0  FE_MW 2011-12-31  2011        4     12   \n",
       "4     2011-12-31 05:00:00  5691.0  FE_MW 2011-12-31  2011        4     12   \n",
       "\n",
       "       Day  Week  Weekday  Hour   WeekDate  \n",
       "index                                       \n",
       "0       31    52        5     1 2011-12-26  \n",
       "1       31    52        5     2 2011-12-26  \n",
       "2       31    52        5     3 2011-12-26  \n",
       "3       31    52        5     4 2011-12-26  \n",
       "4       31    52        5     5 2011-12-26  "
      ]
     },
     "execution_count": 9,
     "metadata": {},
     "output_type": "execute_result"
    }
   ],
   "source": [
    "df.head()"
   ]
  },
  {
   "cell_type": "markdown",
   "metadata": {},
   "source": [
    "# Test statistics"
   ]
  },
  {
   "cell_type": "markdown",
   "metadata": {},
   "source": [
    "In this chapter you can find some basic time series statistics like: \n",
    "    \n",
    "    1. Dickey-Fuller and KPSS test for stationarity \n",
    "    2. Autocorrelation and Partial Autocorrelation Plot\n",
    "    3. ..."
   ]
  },
  {
   "cell_type": "markdown",
   "metadata": {},
   "source": [
    "## Dickey-Fuller and KPSS test"
   ]
  },
  {
   "cell_type": "code",
   "execution_count": 33,
   "metadata": {
    "ExecuteTime": {
     "end_time": "2020-12-20T21:11:15.363914Z",
     "start_time": "2020-12-20T21:11:14.958657Z"
    },
    "slideshow": {
     "slide_type": "subslide"
    }
   },
   "outputs": [
    {
     "data": {
      "application/vnd.jupyter.widget-view+json": {
       "model_id": "29910433363d4b1a826d1c4317fce3ea",
       "version_major": 2,
       "version_minor": 0
      },
      "text/plain": [
       "interactive(children=(Dropdown(description='name', options=('AEP_MW', 'COMED_MW', 'DAYTON_MW', 'DEOK_MW', 'DOM…"
      ]
     },
     "metadata": {},
     "output_type": "display_data"
    }
   ],
   "source": [
    "@widgets.interact(name=widgets.Dropdown(options=np.sort(df.Name.unique())), time=widgets.Dropdown(options = ['Date', 'WeekDate', 'Year', 'Quarter', 'Month', 'Day', 'Week', 'Weekday', 'Hour']))\n",
    "def ts_plot(name, time):\n",
    "    df_ts = df[df['Name'] == name].groupby([time]).agg(dict(Value = np.mean)).reset_index()\n",
    "     \n",
    "    dftest = adfuller(df_ts.Value.dropna(), regression='c', autolag='AIC')\n",
    "    kpsstest = kpss(df_ts.Value.dropna(), regression='c', nlags=dftest[2])\n",
    "    \n",
    "    # ADF Test\n",
    "    adf_results = pd.Series(dftest[0:4], index=['Test Statistic', 'p-value', 'Lags Used', 'Number of observations'])\n",
    "\n",
    "    for key, value in dftest[4].items():\n",
    "        adf_results[f'Critical Value ({key})'] = value \n",
    "\n",
    "    if dftest[1] <= 0.05:\n",
    "        adf_results['Stationarity test result'] = 'Time series is STATIONARITY.'\n",
    "    else:        \n",
    "        adf_results['Stationarity test result'] = 'Time series is NOT STATIONARITY.'\n",
    "    \n",
    "    # KPSS Test\n",
    "    kpss_results = pd.Series(kpsstest[0:3], index=['Test Statistic', 'p-value', 'Lags Used'])\n",
    "\n",
    "    for key, value in dftest[4].items():\n",
    "        kpss_results[f'Critical Value ({key})'] = value\n",
    "    \n",
    "    if kpsstest[1] <= 0.05:\n",
    "        kpss_results['Stationarity test result'] = 'Time series is STATIONARITY.'\n",
    "    else:        \n",
    "        kpss_results['Stationarity test result'] = 'Time series is NOT STATIONARITY.'\n",
    "    \n",
    "    print('Results of Dickey-Fuller Test:')\n",
    "    print('H0: The series has a unit root')\n",
    "    print('HA: The series has no unit root')\n",
    "    print('\\n')\n",
    "    print(adf_results)\n",
    "    print('\\n')\n",
    "    print('Results of KPSS Test:')\n",
    "    print('H0: The process is trend stationary')\n",
    "    print('HA: The process has a unit root (series is not stationary)')\n",
    "    print('\\n')\n",
    "    print(kpss_results)"
   ]
  },
  {
   "cell_type": "markdown",
   "metadata": {},
   "source": [
    "## Autocorrelation and Partial Autocorrelation "
   ]
  },
  {
   "cell_type": "code",
   "execution_count": 38,
   "metadata": {
    "ExecuteTime": {
     "end_time": "2020-12-20T21:14:21.221542Z",
     "start_time": "2020-12-20T21:14:20.697714Z"
    }
   },
   "outputs": [
    {
     "data": {
      "application/vnd.jupyter.widget-view+json": {
       "model_id": "d6fbfa319c664fb69844a7b00f64d593",
       "version_major": 2,
       "version_minor": 0
      },
      "text/plain": [
       "interactive(children=(Dropdown(description='name', options=('AEP_MW', 'COMED_MW', 'DAYTON_MW', 'DEOK_MW', 'DOM…"
      ]
     },
     "metadata": {},
     "output_type": "display_data"
    }
   ],
   "source": [
    "@widgets.interact(name=widgets.Dropdown(options=np.sort(df.Name.unique())), time=widgets.Dropdown(options = ['Date', 'WeekDate']))\n",
    "def correlation_plot(name, time):\n",
    "    df_ts = df[df['Name'] == name].groupby([time]).agg(dict(Value = np.mean)).reset_index()\n",
    "    plt.figure(figsize=(8, 12))\n",
    "    dfacf = plot_acf(df_ts.Value, lags=50, alpha=0.05)\n",
    "\n",
    "    plt.figure(figsize=(102, 18))\n",
    "    dfacf = plot_pacf(df_ts.Value, lags=50, alpha=0.05)"
   ]
  },
  {
   "cell_type": "markdown",
   "metadata": {},
   "source": [
    "# Visualization"
   ]
  },
  {
   "cell_type": "markdown",
   "metadata": {},
   "source": [
    "## Time series by date"
   ]
  },
  {
   "cell_type": "code",
   "execution_count": 35,
   "metadata": {
    "ExecuteTime": {
     "end_time": "2020-12-20T21:12:41.363539Z",
     "start_time": "2020-12-20T21:12:40.748834Z"
    },
    "slideshow": {
     "slide_type": "subslide"
    }
   },
   "outputs": [
    {
     "data": {
      "application/vnd.jupyter.widget-view+json": {
       "model_id": "4a64f26249fe4b4e9b9df4b875e4b421",
       "version_major": 2,
       "version_minor": 0
      },
      "text/plain": [
       "interactive(children=(Dropdown(description='name', options=('AEP_MW', 'COMED_MW', 'DAYTON_MW', 'DEOK_MW', 'DOM…"
      ]
     },
     "metadata": {},
     "output_type": "display_data"
    }
   ],
   "source": [
    "@widgets.interact(name=widgets.Dropdown(options=np.sort(df.Name.unique())), time=widgets.Dropdown(options = ['Date', 'WeekDate', 'Year', 'Quarter', 'Month', 'Day', 'Week', 'Weekday', 'Hour']))\n",
    "def ts_plot(name, time):\n",
    "    df_ts = df[df['Name'] == name].groupby([time]).agg(dict(Value = np.mean)).reset_index()\n",
    "    fig = px.line(data_frame=df_ts, x=time, y ='Value')\n",
    "    fig.update_layout(   \n",
    "        template='ggplot2',\n",
    "        title=dict(text=f'Energy consumption in megawatts (MW) from {name} power station')\n",
    "    )\n",
    "    fig.update_traces(\n",
    "        line=dict(color='darkblue', width=1)\n",
    "        \n",
    "    )\n",
    "    fig.show()"
   ]
  },
  {
   "cell_type": "markdown",
   "metadata": {},
   "source": [
    "## Seasonal decomposition using moving average method"
   ]
  },
  {
   "cell_type": "code",
   "execution_count": 37,
   "metadata": {
    "ExecuteTime": {
     "end_time": "2020-12-20T21:13:45.762404Z",
     "start_time": "2020-12-20T21:13:45.089687Z"
    }
   },
   "outputs": [
    {
     "data": {
      "application/vnd.jupyter.widget-view+json": {
       "model_id": "4391fc0c597f4d068722c4c5d9725476",
       "version_major": 2,
       "version_minor": 0
      },
      "text/plain": [
       "interactive(children=(Dropdown(description='name', options=('AEP_MW', 'COMED_MW', 'DAYTON_MW', 'DEOK_MW', 'DOM…"
      ]
     },
     "metadata": {},
     "output_type": "display_data"
    }
   ],
   "source": [
    "@widgets.interact(name=widgets.Dropdown(options=np.sort(df.Name.unique())), time=widgets.Dropdown(options = ['Date', 'WeekDate']))\n",
    "def sesonal_decomposistion(name, time):\n",
    "    df_ts = df[df['Name'] == name].groupby([time]).agg(dict(Value = np.mean)).reset_index()\n",
    "    data = seasonal_decompose(x=df_ts.set_index(time), model='additive', period=np.int(df_ts.shape[0]/(len(df_ts[time].dt.year.unique()))))\n",
    "    \n",
    "    fig1 = go.Figure()\n",
    "    fig1.add_trace(go.Scatter(x=df_ts[time], y=data.observed, name='Observed', mode='lines'))\n",
    "    fig1.add_trace(go.Scatter(x=df_ts[time], y=data.seasonal, name='Seasonality', mode='lines'))\n",
    "    fig1.add_trace(go.Scatter(x=df_ts[time], y=data.trend, name='Trend', mode='lines'))\n",
    "    \n",
    "    \n",
    "    fig1.update_layout(   \n",
    "        template='ggplot2',\n",
    "        title=dict(text=f'Time series decomposition using moving averagee for {name} power station')\n",
    "    )\n",
    "    fig1.show()\n",
    "    \n",
    "    fig2 = go.Figure()\n",
    "    fig2.add_trace(go.Scatter(x=df_ts[time], y=data.resid, name='Residuals', mode='lines'))\n",
    "    fig2.add_trace(go.Scatter())\n",
    "    \n",
    "    fig2.update_layout(   \n",
    "        template='ggplot2',\n",
    "        title=dict(text=f'Energy consumption in megawatts (MW) from {name} power station'))\n",
    "    fig2.show()\n",
    "    "
   ]
  }
 ],
 "metadata": {
  "hide_input": false,
  "kernelspec": {
   "display_name": "energy_project_kaggle",
   "language": "python",
   "name": "energy_project_kaggle"
  },
  "language_info": {
   "codemirror_mode": {
    "name": "ipython",
    "version": 3
   },
   "file_extension": ".py",
   "mimetype": "text/x-python",
   "name": "python",
   "nbconvert_exporter": "python",
   "pygments_lexer": "ipython3",
   "version": "3.7.9"
  },
  "toc": {
   "base_numbering": 1,
   "nav_menu": {},
   "number_sections": true,
   "sideBar": true,
   "skip_h1_title": false,
   "title_cell": "Table of Contents",
   "title_sidebar": "Contents",
   "toc_cell": false,
   "toc_position": {},
   "toc_section_display": true,
   "toc_window_display": false
  }
 },
 "nbformat": 4,
 "nbformat_minor": 4
}
