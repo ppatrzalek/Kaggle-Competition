{
 "cells": [
  {
   "cell_type": "code",
   "execution_count": 70,
   "metadata": {},
   "outputs": [],
   "source": [
    "# Libraries\n",
    "import numpy as np\n",
    "import pandas as pd\n",
    "import pickle \n",
    "import datetime\n",
    "import time as t"
   ]
  },
  {
   "cell_type": "code",
   "execution_count": 122,
   "metadata": {},
   "outputs": [],
   "source": [
    "# Load datasets\n",
    "calendar = pd.read_csv(\"../../data/raw/calendar.csv\")\n",
    "sales_train_validation = pd.read_csv(\"../../data/raw/sales_train_validation.csv\")\n",
    "sample_submission = pd.read_csv(\"../../data/raw/sample_submission.csv\")\n",
    "sell_prices = pd.read_csv(\"../../data/raw/sell_prices.csv\")"
   ]
  },
  {
   "cell_type": "code",
   "execution_count": 252,
   "metadata": {},
   "outputs": [],
   "source": [
    "# Function aggregation\n",
    "def data_aggregation(dataset, calendar, agg_level):\n",
    "    levels = np.append(agg_level, ['date', 'Total_SLSU', 'Avg_SLSU'])\n",
    "    columns = ['d_' + str(i) for i in range(1, 1914)]\n",
    "    df = dataset.groupby(agg_level)[columns].agg({'Total_SLSU' : np.sum, 'Avg_SLSU' : np.mean})\n",
    "    df = df.stack().reset_index()\n",
    "    df = pd.merge(df, calendar, left_on = 'level_2', right_on = 'd').loc[:, levels]\n",
    "    return df"
   ]
  },
  {
   "cell_type": "code",
   "execution_count": 256,
   "metadata": {},
   "outputs": [
    {
     "name": "stderr",
     "output_type": "stream",
     "text": [
      "C:\\Users\\ppatrzalek\\AppData\\Local\\Continuum\\anaconda3\\lib\\site-packages\\ipykernel_launcher.py:5: FutureWarning: Interpreting tuple 'by' as a list of keys, rather than a single key. Use 'by=[...]' instead of 'by=(...)'. In the future, a tuple will always mean a single key.\n",
      "  \"\"\"\n"
     ]
    },
    {
     "name": "stdout",
     "output_type": "stream",
     "text": [
      "Evaluation time:  38.697253465652466\n"
     ]
    }
   ],
   "source": [
    "# Calculation\n",
    "start = t.time()\n",
    "df_dep_store = data_aggregation(sales_train_validation, calendar, agg_level = ('dept_id', 'store_id'))\n",
    "df_dep_state = data_aggregation(sales_train_validation, calendar, agg_level = ('dept_id', 'state_id'))\n",
    "df_cat_store = data_aggregation(sales_train_validation, calendar, agg_level = ('cat_id', 'store_id'))\n",
    "df_cat_state = data_aggregation(sales_train_validation, calendar, agg_level = ('cat_id', 'state_id'))\n",
    "#df_item_store = data_aggregation(sales_train_validation, calendar, agg_level = ('item_id', 'store_id')) allocate problem\n",
    "#df_item_state = data_aggregation(sales_train_validation, calendar, agg_level = ('item_id', 'state_id'))\n",
    "end = t.time()\n",
    "print(\"Evaluation time: \", end-start)"
   ]
  },
  {
   "cell_type": "code",
   "execution_count": 258,
   "metadata": {},
   "outputs": [],
   "source": [
    "# Save to pickle\n",
    "df_dep_store.to_pickle('../../data/processed/df_dep_store.pickle')\n",
    "df_dep_state.to_pickle('../../data/processed/df_dep_state.pickle')\n",
    "df_cat_store.to_pickle('../../data/processed/df_cat_store.pickle')\n",
    "df_cat_state.to_pickle('../../data/processed/df_cat_state.pickle')"
   ]
  }
 ],
 "metadata": {
  "hide_input": false,
  "kernelspec": {
   "display_name": "Python 3",
   "language": "python",
   "name": "python3"
  },
  "language_info": {
   "codemirror_mode": {
    "name": "ipython",
    "version": 3
   },
   "file_extension": ".py",
   "mimetype": "text/x-python",
   "name": "python",
   "nbconvert_exporter": "python",
   "pygments_lexer": "ipython3",
   "version": "3.7.1"
  },
  "toc": {
   "base_numbering": 1,
   "nav_menu": {},
   "number_sections": true,
   "sideBar": true,
   "skip_h1_title": false,
   "title_cell": "Table of Contents",
   "title_sidebar": "Contents",
   "toc_cell": false,
   "toc_position": {},
   "toc_section_display": true,
   "toc_window_display": false
  }
 },
 "nbformat": 4,
 "nbformat_minor": 4
}
